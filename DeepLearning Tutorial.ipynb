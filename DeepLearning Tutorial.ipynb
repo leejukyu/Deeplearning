{
 "cells": [
  {
   "cell_type": "code",
   "execution_count": 26,
   "id": "61674ab6",
   "metadata": {},
   "outputs": [
    {
     "name": "stdout",
     "output_type": "stream",
     "text": [
      "Epoch 1/100\n",
      "47/47 [==============================] - 0s 860us/step - loss: 0.8781 - accuracy: 0.7774\n",
      "Epoch 2/100\n",
      "47/47 [==============================] - 0s 493us/step - loss: 0.4637 - accuracy: 0.8707\n",
      "Epoch 3/100\n",
      "47/47 [==============================] - 0s 486us/step - loss: 0.4652 - accuracy: 0.8347\n",
      "Epoch 4/100\n",
      "47/47 [==============================] - 0s 456us/step - loss: 0.5176 - accuracy: 0.8405\n",
      "Epoch 5/100\n",
      "47/47 [==============================] - 0s 499us/step - loss: 0.4461 - accuracy: 0.8570\n",
      "Epoch 6/100\n",
      "47/47 [==============================] - 0s 440us/step - loss: 0.4391 - accuracy: 0.8523\n",
      "Epoch 7/100\n",
      "47/47 [==============================] - 0s 487us/step - loss: 0.4616 - accuracy: 0.8443\n",
      "Epoch 8/100\n",
      "47/47 [==============================] - 0s 454us/step - loss: 0.4523 - accuracy: 0.8447\n",
      "Epoch 9/100\n",
      "47/47 [==============================] - 0s 443us/step - loss: 0.3877 - accuracy: 0.8618\n",
      "Epoch 10/100\n",
      "47/47 [==============================] - 0s 455us/step - loss: 0.3944 - accuracy: 0.8697\n",
      "Epoch 11/100\n",
      "47/47 [==============================] - 0s 464us/step - loss: 0.4379 - accuracy: 0.8480\n",
      "Epoch 12/100\n",
      "47/47 [==============================] - 0s 453us/step - loss: 0.4470 - accuracy: 0.8449\n",
      "Epoch 13/100\n",
      "47/47 [==============================] - 0s 455us/step - loss: 0.4789 - accuracy: 0.8302\n",
      "Epoch 14/100\n",
      "47/47 [==============================] - 0s 493us/step - loss: 0.4402 - accuracy: 0.8438\n",
      "Epoch 15/100\n",
      "47/47 [==============================] - 0s 506us/step - loss: 0.4928 - accuracy: 0.8220\n",
      "Epoch 16/100\n",
      "47/47 [==============================] - 0s 636us/step - loss: 0.4119 - accuracy: 0.8534\n",
      "Epoch 17/100\n",
      "47/47 [==============================] - 0s 478us/step - loss: 0.4383 - accuracy: 0.8564\n",
      "Epoch 18/100\n",
      "47/47 [==============================] - 0s 457us/step - loss: 0.4807 - accuracy: 0.8556\n",
      "Epoch 19/100\n",
      "47/47 [==============================] - 0s 434us/step - loss: 0.4253 - accuracy: 0.8459\n",
      "Epoch 20/100\n",
      "47/47 [==============================] - 0s 467us/step - loss: 0.4403 - accuracy: 0.8561\n",
      "Epoch 21/100\n",
      "47/47 [==============================] - 0s 443us/step - loss: 0.4191 - accuracy: 0.8513\n",
      "Epoch 22/100\n",
      "47/47 [==============================] - 0s 454us/step - loss: 0.4100 - accuracy: 0.8554\n",
      "Epoch 23/100\n",
      "47/47 [==============================] - 0s 437us/step - loss: 0.4205 - accuracy: 0.8538\n",
      "Epoch 24/100\n",
      "47/47 [==============================] - 0s 434us/step - loss: 0.4226 - accuracy: 0.8471\n",
      "Epoch 25/100\n",
      "47/47 [==============================] - 0s 478us/step - loss: 0.4349 - accuracy: 0.8394\n",
      "Epoch 26/100\n",
      "47/47 [==============================] - 0s 489us/step - loss: 0.4526 - accuracy: 0.8552\n",
      "Epoch 27/100\n",
      "47/47 [==============================] - 0s 482us/step - loss: 0.4590 - accuracy: 0.8312\n",
      "Epoch 28/100\n",
      "47/47 [==============================] - 0s 440us/step - loss: 0.4469 - accuracy: 0.8461\n",
      "Epoch 29/100\n",
      "47/47 [==============================] - 0s 443us/step - loss: 0.3775 - accuracy: 0.8803\n",
      "Epoch 30/100\n",
      "47/47 [==============================] - 0s 455us/step - loss: 0.3581 - accuracy: 0.8892\n",
      "Epoch 31/100\n",
      "47/47 [==============================] - 0s 456us/step - loss: 0.4157 - accuracy: 0.8745\n",
      "Epoch 32/100\n",
      "47/47 [==============================] - 0s 474us/step - loss: 0.4037 - accuracy: 0.8639\n",
      "Epoch 33/100\n",
      "47/47 [==============================] - 0s 460us/step - loss: 0.4367 - accuracy: 0.8560\n",
      "Epoch 34/100\n",
      "47/47 [==============================] - 0s 434us/step - loss: 0.3961 - accuracy: 0.8582\n",
      "Epoch 35/100\n",
      "47/47 [==============================] - 0s 498us/step - loss: 0.4047 - accuracy: 0.8514\n",
      "Epoch 36/100\n",
      "47/47 [==============================] - 0s 455us/step - loss: 0.4423 - accuracy: 0.8340\n",
      "Epoch 37/100\n",
      "47/47 [==============================] - 0s 434us/step - loss: 0.4449 - accuracy: 0.8519\n",
      "Epoch 38/100\n",
      "47/47 [==============================] - 0s 454us/step - loss: 0.4314 - accuracy: 0.8452\n",
      "Epoch 39/100\n",
      "47/47 [==============================] - 0s 490us/step - loss: 0.4797 - accuracy: 0.8291\n",
      "Epoch 40/100\n",
      "47/47 [==============================] - 0s 484us/step - loss: 0.4177 - accuracy: 0.8508\n",
      "Epoch 41/100\n",
      "47/47 [==============================] - 0s 461us/step - loss: 0.4472 - accuracy: 0.8508\n",
      "Epoch 42/100\n",
      "47/47 [==============================] - 0s 455us/step - loss: 0.4340 - accuracy: 0.8517\n",
      "Epoch 43/100\n",
      "47/47 [==============================] - 0s 464us/step - loss: 0.3614 - accuracy: 0.8727\n",
      "Epoch 44/100\n",
      "47/47 [==============================] - 0s 412us/step - loss: 0.3523 - accuracy: 0.8783\n",
      "Epoch 45/100\n",
      "47/47 [==============================] - 0s 472us/step - loss: 0.3800 - accuracy: 0.8555\n",
      "Epoch 46/100\n",
      "47/47 [==============================] - 0s 497us/step - loss: 0.4116 - accuracy: 0.8546\n",
      "Epoch 47/100\n",
      "47/47 [==============================] - 0s 434us/step - loss: 0.3496 - accuracy: 0.8812\n",
      "Epoch 48/100\n",
      "47/47 [==============================] - 0s 441us/step - loss: 0.3902 - accuracy: 0.8645\n",
      "Epoch 49/100\n",
      "47/47 [==============================] - 0s 455us/step - loss: 0.4169 - accuracy: 0.8361\n",
      "Epoch 50/100\n",
      "47/47 [==============================] - 0s 495us/step - loss: 0.3604 - accuracy: 0.8783\n",
      "Epoch 51/100\n",
      "47/47 [==============================] - 0s 456us/step - loss: 0.4260 - accuracy: 0.8457\n",
      "Epoch 52/100\n",
      "47/47 [==============================] - 0s 470us/step - loss: 0.4176 - accuracy: 0.8520\n",
      "Epoch 53/100\n",
      "47/47 [==============================] - 0s 449us/step - loss: 0.4213 - accuracy: 0.8481\n",
      "Epoch 54/100\n",
      "47/47 [==============================] - 0s 483us/step - loss: 0.4200 - accuracy: 0.8348\n",
      "Epoch 55/100\n",
      "47/47 [==============================] - 0s 480us/step - loss: 0.4092 - accuracy: 0.8632\n",
      "Epoch 56/100\n",
      "47/47 [==============================] - 0s 449us/step - loss: 0.3982 - accuracy: 0.8476\n",
      "Epoch 57/100\n",
      "47/47 [==============================] - 0s 471us/step - loss: 0.4001 - accuracy: 0.8525\n",
      "Epoch 58/100\n",
      "47/47 [==============================] - 0s 445us/step - loss: 0.3528 - accuracy: 0.8703\n",
      "Epoch 59/100\n",
      "47/47 [==============================] - 0s 469us/step - loss: 0.4201 - accuracy: 0.8475\n",
      "Epoch 60/100\n",
      "47/47 [==============================] - 0s 452us/step - loss: 0.3578 - accuracy: 0.8774\n",
      "Epoch 61/100\n",
      "47/47 [==============================] - 0s 456us/step - loss: 0.3907 - accuracy: 0.8725\n",
      "Epoch 62/100\n",
      "47/47 [==============================] - 0s 443us/step - loss: 0.4215 - accuracy: 0.8389\n",
      "Epoch 63/100\n",
      "47/47 [==============================] - 0s 470us/step - loss: 0.3711 - accuracy: 0.8686\n",
      "Epoch 64/100\n",
      "47/47 [==============================] - 0s 474us/step - loss: 0.4243 - accuracy: 0.8525\n",
      "Epoch 65/100\n",
      "47/47 [==============================] - 0s 434us/step - loss: 0.3775 - accuracy: 0.8639\n",
      "Epoch 66/100\n",
      "47/47 [==============================] - 0s 455us/step - loss: 0.4256 - accuracy: 0.8517\n",
      "Epoch 67/100\n",
      "47/47 [==============================] - 0s 455us/step - loss: 0.3803 - accuracy: 0.8612\n",
      "Epoch 68/100\n",
      "47/47 [==============================] - 0s 462us/step - loss: 0.4071 - accuracy: 0.8624\n",
      "Epoch 69/100\n",
      "47/47 [==============================] - 0s 469us/step - loss: 0.4336 - accuracy: 0.8197\n",
      "Epoch 70/100\n",
      "47/47 [==============================] - 0s 450us/step - loss: 0.4068 - accuracy: 0.8519\n",
      "Epoch 71/100\n",
      "47/47 [==============================] - 0s 458us/step - loss: 0.4412 - accuracy: 0.8194\n",
      "Epoch 72/100\n",
      "47/47 [==============================] - 0s 471us/step - loss: 0.3777 - accuracy: 0.8554\n",
      "Epoch 73/100\n",
      "47/47 [==============================] - 0s 455us/step - loss: 0.4042 - accuracy: 0.8489\n",
      "Epoch 74/100\n",
      "47/47 [==============================] - 0s 455us/step - loss: 0.3783 - accuracy: 0.8595\n",
      "Epoch 75/100\n",
      "47/47 [==============================] - 0s 460us/step - loss: 0.3516 - accuracy: 0.8812\n",
      "Epoch 76/100\n",
      "47/47 [==============================] - 0s 467us/step - loss: 0.3733 - accuracy: 0.8629\n",
      "Epoch 77/100\n",
      "47/47 [==============================] - 0s 470us/step - loss: 0.4473 - accuracy: 0.8247\n",
      "Epoch 78/100\n",
      "47/47 [==============================] - 0s 443us/step - loss: 0.3992 - accuracy: 0.8696\n",
      "Epoch 79/100\n",
      "47/47 [==============================] - 0s 446us/step - loss: 0.4184 - accuracy: 0.8299\n",
      "Epoch 80/100\n",
      "47/47 [==============================] - 0s 451us/step - loss: 0.4250 - accuracy: 0.8335\n",
      "Epoch 81/100\n"
     ]
    },
    {
     "name": "stdout",
     "output_type": "stream",
     "text": [
      "47/47 [==============================] - 0s 439us/step - loss: 0.3712 - accuracy: 0.8793\n",
      "Epoch 82/100\n",
      "47/47 [==============================] - 0s 447us/step - loss: 0.4214 - accuracy: 0.8487\n",
      "Epoch 83/100\n",
      "47/47 [==============================] - 0s 455us/step - loss: 0.4450 - accuracy: 0.8381\n",
      "Epoch 84/100\n",
      "47/47 [==============================] - 0s 434us/step - loss: 0.3537 - accuracy: 0.8840\n",
      "Epoch 85/100\n",
      "47/47 [==============================] - 0s 455us/step - loss: 0.3822 - accuracy: 0.8617\n",
      "Epoch 86/100\n",
      "47/47 [==============================] - 0s 477us/step - loss: 0.3410 - accuracy: 0.8688\n",
      "Epoch 87/100\n",
      "47/47 [==============================] - 0s 459us/step - loss: 0.3933 - accuracy: 0.8567\n",
      "Epoch 88/100\n",
      "47/47 [==============================] - 0s 439us/step - loss: 0.3747 - accuracy: 0.8538\n",
      "Epoch 89/100\n",
      "47/47 [==============================] - 0s 434us/step - loss: 0.3942 - accuracy: 0.8320\n",
      "Epoch 90/100\n",
      "47/47 [==============================] - 0s 455us/step - loss: 0.3722 - accuracy: 0.8768\n",
      "Epoch 91/100\n",
      "47/47 [==============================] - 0s 440us/step - loss: 0.4208 - accuracy: 0.8516\n",
      "Epoch 92/100\n",
      "47/47 [==============================] - 0s 434us/step - loss: 0.4239 - accuracy: 0.8407\n",
      "Epoch 93/100\n",
      "47/47 [==============================] - 0s 452us/step - loss: 0.4079 - accuracy: 0.8362\n",
      "Epoch 94/100\n",
      "47/47 [==============================] - 0s 459us/step - loss: 0.3913 - accuracy: 0.8367\n",
      "Epoch 95/100\n",
      "47/47 [==============================] - 0s 434us/step - loss: 0.4023 - accuracy: 0.8584\n",
      "Epoch 96/100\n",
      "47/47 [==============================] - 0s 465us/step - loss: 0.4342 - accuracy: 0.8596\n",
      "Epoch 97/100\n",
      "47/47 [==============================] - 0s 431us/step - loss: 0.4469 - accuracy: 0.8137\n",
      "Epoch 98/100\n",
      "47/47 [==============================] - 0s 445us/step - loss: 0.3893 - accuracy: 0.8690\n",
      "Epoch 99/100\n",
      "47/47 [==============================] - 0s 455us/step - loss: 0.3737 - accuracy: 0.8620\n",
      "Epoch 100/100\n",
      "47/47 [==============================] - 0s 434us/step - loss: 0.3956 - accuracy: 0.8330\n"
     ]
    },
    {
     "data": {
      "text/plain": [
       "<tensorflow.python.keras.callbacks.History at 0x1b00746e610>"
      ]
     },
     "execution_count": 26,
     "metadata": {},
     "output_type": "execute_result"
    }
   ],
   "source": [
    "from tensorflow.keras.models import Sequential\n",
    "from tensorflow.keras.layers import Dense\n",
    "import numpy as np\n",
    "import tensorflow as tf\n",
    "\n",
    "# seed로 랜덤결과를 고정\n",
    "np.random.seed(3)\n",
    "tf.random.set_seed(3)\n",
    "\n",
    "# 준비된 환자 데이터를 불러들입니다\n",
    "Data_set = np.loadtxt(\"ThoraricSurgery.csv\" , delimiter=\",\")\n",
    "Data_set.shape\n",
    "\n",
    "# 환자의 기록과 수술 결과를 X와 Y로 구분하여 저장\n",
    "X = Data_set[:, 0:17]\n",
    "Y = Data_set[:, 17]\n",
    "\n",
    "# 딥러닝 구조를 결정(모델을 설정하고 실행)\n",
    "model = Sequential() # 신경망만들기\n",
    "model.add(Dense(30, input_dim=17, activation='relu')) # dense: 신경망 추가, imput_dim : 층 17개 \n",
    "model.add(Dense(1,  activation='sigmoid'))\n",
    "\n",
    "# 딥러닝 실행\n",
    "model.compile(loss=\"binary_crossentropy\", optimizer=\"adam\" , metrics=['accuracy'])\n",
    "model.fit(X, Y , epochs=100, batch_size=10)"
   ]
  },
  {
   "cell_type": "code",
   "execution_count": 27,
   "id": "978a5c2f",
   "metadata": {},
   "outputs": [
    {
     "name": "stdout",
     "output_type": "stream",
     "text": [
      "[1.         1.00502513 1.01005025 1.01507538 1.0201005  1.02512563\n",
      " 1.03015075 1.03517588 1.04020101 1.04522613 1.05025126 1.05527638\n",
      " 1.06030151 1.06532663 1.07035176 1.07537688 1.08040201 1.08542714\n",
      " 1.09045226 1.09547739 1.10050251 1.10552764 1.11055276 1.11557789\n",
      " 1.12060302 1.12562814 1.13065327 1.13567839 1.14070352 1.14572864\n",
      " 1.15075377 1.15577889 1.16080402 1.16582915 1.17085427 1.1758794\n",
      " 1.18090452 1.18592965 1.19095477 1.1959799  1.20100503 1.20603015\n",
      " 1.21105528 1.2160804  1.22110553 1.22613065 1.23115578 1.2361809\n",
      " 1.24120603 1.24623116 1.25125628 1.25628141 1.26130653 1.26633166\n",
      " 1.27135678 1.27638191 1.28140704 1.28643216 1.29145729 1.29648241\n",
      " 1.30150754 1.30653266 1.31155779 1.31658291 1.32160804 1.32663317\n",
      " 1.33165829 1.33668342 1.34170854 1.34673367 1.35175879 1.35678392\n",
      " 1.36180905 1.36683417 1.3718593  1.37688442 1.38190955 1.38693467\n",
      " 1.3919598  1.39698492 1.40201005 1.40703518 1.4120603  1.41708543\n",
      " 1.42211055 1.42713568 1.4321608  1.43718593 1.44221106 1.44723618\n",
      " 1.45226131 1.45728643 1.46231156 1.46733668 1.47236181 1.47738693\n",
      " 1.48241206 1.48743719 1.49246231 1.49748744 1.50251256 1.50753769\n",
      " 1.51256281 1.51758794 1.52261307 1.52763819 1.53266332 1.53768844\n",
      " 1.54271357 1.54773869 1.55276382 1.55778894 1.56281407 1.5678392\n",
      " 1.57286432 1.57788945 1.58291457 1.5879397  1.59296482 1.59798995\n",
      " 1.60301508 1.6080402  1.61306533 1.61809045 1.62311558 1.6281407\n",
      " 1.63316583 1.63819095 1.64321608 1.64824121 1.65326633 1.65829146\n",
      " 1.66331658 1.66834171 1.67336683 1.67839196 1.68341709 1.68844221\n",
      " 1.69346734 1.69849246 1.70351759 1.70854271 1.71356784 1.71859296\n",
      " 1.72361809 1.72864322 1.73366834 1.73869347 1.74371859 1.74874372\n",
      " 1.75376884 1.75879397 1.7638191  1.76884422 1.77386935 1.77889447\n",
      " 1.7839196  1.78894472 1.79396985 1.79899497 1.8040201  1.80904523\n",
      " 1.81407035 1.81909548 1.8241206  1.82914573 1.83417085 1.83919598\n",
      " 1.84422111 1.84924623 1.85427136 1.85929648 1.86432161 1.86934673\n",
      " 1.87437186 1.87939698 1.88442211 1.88944724 1.89447236 1.89949749\n",
      " 1.90452261 1.90954774 1.91457286 1.91959799 1.92462312 1.92964824\n",
      " 1.93467337 1.93969849 1.94472362 1.94974874 1.95477387 1.95979899\n",
      " 1.96482412 1.96984925 1.97487437 1.9798995  1.98492462 1.98994975\n",
      " 1.99497487 2.        ]\n",
      "[4.53658854 4.15105346 4.06915025 3.5012537  3.99718555 3.99407482\n",
      " 4.09578057 3.95260331 4.14765857 4.03773911 3.8068456  4.48649224\n",
      " 4.50560144 4.77417845 4.29641713 4.18010431 4.15800006 3.87776535\n",
      " 4.65651928 4.05158926 4.04649609 4.36041558 4.88805556 4.53332644\n",
      " 4.17527652 4.2886146  4.71018656 4.49455956 4.33216317 4.51390536\n",
      " 4.82653196 5.21594881 4.26997908 4.47539151 4.44228726 3.97779264\n",
      " 4.44648048 4.43655586 5.10101248 4.74434533 4.31703447 5.01812324\n",
      " 4.73733988 4.3413793  4.70542722 4.7279443  4.66245843 4.95363776\n",
      " 4.29034679 4.90459606 5.30898016 5.28096498 5.37768238 5.40114383\n",
      " 5.53169008 4.77003743 5.37937816 4.58746178 4.98496361 4.61158804\n",
      " 5.5204744  5.626252   5.18700675 5.79872517 5.08401391 5.35171772\n",
      " 5.37251688 5.02747509 5.49821815 5.96862821 5.09955591 5.69693721\n",
      " 5.40088413 5.99822487 5.63257369 5.71040261 5.72058718 5.62246471\n",
      " 5.14911015 6.00543857 5.1968395  5.69970966 5.83246433 5.41696803\n",
      " 5.73196118 6.0589074  5.72141188 5.48214649 4.8941229  5.49739257\n",
      " 5.6317216  5.67422052 5.56124738 5.9825353  5.71703471 5.87671144\n",
      " 6.13336972 5.69311759 5.87978742 6.63739455 6.27233597 5.64208976\n",
      " 6.02632897 6.23969741 6.46049357 6.15524868 5.97147862 5.93159578\n",
      " 6.36437287 6.28487289 6.0560609  6.17443428 6.12639688 6.48875408\n",
      " 6.08446908 6.45748213 6.58711398 6.49763359 6.12158734 6.79545754\n",
      " 6.2085965  6.56009133 6.22626087 5.94912873 6.56018739 6.59867336\n",
      " 6.50943103 6.63558437 6.37834106 6.37172537 6.5626383  7.20594887\n",
      " 6.89771069 6.51736931 6.8610813  6.57005844 6.59649011 7.01155405\n",
      " 6.61628995 6.29127946 6.54212194 6.86069542 6.8926737  7.24685681\n",
      " 6.67966462 7.13401259 7.06246339 6.91006974 7.22562754 7.14261055\n",
      " 6.75638283 7.35668106 6.68900581 7.09326151 7.09621064 7.24296861\n",
      " 6.91804835 7.14529588 7.13369339 7.49510641 6.97730599 7.25800456\n",
      " 7.17790926 6.88696792 8.09931615 7.29521721 6.890686   7.77937201\n",
      " 7.05570877 7.50824592 7.67593506 7.24265632 7.32801942 7.31530586\n",
      " 7.45867913 7.03084959 7.16699745 7.51555301 7.88957508 7.7875132\n",
      " 8.13691568 7.84640664 7.50495276 7.64153894 7.0893744  7.43036043\n",
      " 7.43258568 7.839972   7.97324341 7.63088295 7.64254499 7.37522923\n",
      " 7.82096787 7.95384739 8.03323178 7.68478528 8.5362454  8.3183165\n",
      " 7.95132822 7.84184367]\n",
      "[[4.040529]]\n"
     ]
    }
   ],
   "source": [
    "from tensorflow.keras.models import Sequential\n",
    "from tensorflow.keras.layers import Dense\n",
    "import numpy as np\n",
    "import tensorflow as tf\n",
    "from matplotlib import pyplot as plt\n",
    "\n",
    "X = data = np.linspace(1,2,200)\n",
    "print(X)\n",
    "Y = X * 4 + np.random.randn(200)*0.3\n",
    "print(Y)\n",
    "\n",
    "model = Sequential()\n",
    "model.add(Dense(1, input_dim = 1, activation=\"linear\"))\n",
    "model.compile(optimizer='sgd', loss = 'mse', metrics=['mse'])\n",
    "model.fit(X,Y,batch_size=1, epochs=30, verbose=0) # verbose : 학습하는 것의 과정을 보여주는거\n",
    "\n",
    "predict = model.predict([X[1]])\n",
    "print(predict)\n",
    "\n",
    "# plt.plot(data, predict, 'b', data, Y, 'k.')\n",
    "# plt.show()\n",
    "\n",
    "\n",
    "# 딥러닝 순서 : 신경망 만들기 > 숫자 찾기 > 컴퓨터 학습 > 나온 결과 예측\n"
   ]
  },
  {
   "cell_type": "markdown",
   "id": "93c50ee9",
   "metadata": {},
   "source": [
    "# 선형회귀"
   ]
  },
  {
   "cell_type": "code",
   "execution_count": 28,
   "id": "ad47fdee",
   "metadata": {},
   "outputs": [
    {
     "name": "stdout",
     "output_type": "stream",
     "text": [
      "5.0 90.5\n"
     ]
    },
    {
     "data": {
      "text/plain": [
       "20.0"
      ]
     },
     "execution_count": 28,
     "metadata": {},
     "output_type": "execute_result"
    }
   ],
   "source": [
    "import numpy as np\n",
    "\n",
    "x = [2,4,6,8]\n",
    "y = [81,93,91,97]\n",
    "\n",
    "# x, y의 mean\n",
    "mx = np.mean(x)\n",
    "my = np.mean(y)\n",
    "\n",
    "print(mx, my)\n",
    "list_arr = []\n",
    "\n",
    "# for i in x:\n",
    "#     a = (mx-i)**2\n",
    "#     list_arr.append(a)\n",
    "#     divisor = sum(list_arr)\n",
    "\n",
    "divisor = sum((mx-i)**2 for i in x) # for문 이렇게 할수도\n",
    "\n",
    "divisor"
   ]
  },
  {
   "cell_type": "code",
   "execution_count": 29,
   "id": "1ca947c1",
   "metadata": {},
   "outputs": [
    {
     "data": {
      "text/plain": [
       "46.0"
      ]
     },
     "execution_count": 29,
     "metadata": {},
     "output_type": "execute_result"
    }
   ],
   "source": [
    "def top(x, mx, u, my):\n",
    "    d = sum((mx-x[i])*(my-y[i]) for i in range(len(x)))\n",
    "    return d\n",
    "\n",
    "#     d = 0\n",
    "#     for i in range(len(x)):\n",
    "#         d += (x[i]-mx) * (y[i] - my)\n",
    "#         return d\n",
    "\n",
    "top(x, mx, y, my)"
   ]
  },
  {
   "cell_type": "code",
   "execution_count": 30,
   "id": "39680a6a",
   "metadata": {},
   "outputs": [
    {
     "name": "stdout",
     "output_type": "stream",
     "text": [
      "2.3\n",
      "79.0\n"
     ]
    }
   ],
   "source": [
    "dividend = top(x, mx, y, my)\n",
    "a = dividend/divisor\n",
    "\n",
    "b = my - (mx*a)\n",
    "print(a)\n",
    "print(b)"
   ]
  },
  {
   "cell_type": "code",
   "execution_count": 31,
   "id": "6b007f70",
   "metadata": {},
   "outputs": [
    {
     "data": {
      "text/plain": [
       "<matplotlib.legend.Legend at 0x1b07cc9fcd0>"
      ]
     },
     "execution_count": 31,
     "metadata": {},
     "output_type": "execute_result"
    },
    {
     "data": {
      "image/png": "[encoded data removed]",
      "text/plain": [
       "<Figure size 432x288 with 1 Axes>"
      ]
     },
     "metadata": {
      "needs_background": "light"
     },
     "output_type": "display_data"
    }
   ],
   "source": [
    "import matplotlib.pyplot as plt\n",
    "\n",
    "predict = []\n",
    "for i in x:\n",
    "    pre_y = a*i + b\n",
    "    predict.append(pre_y)    \n",
    "\n",
    "plt.scatter(x, y)\n",
    "plt.plot(x, predict, c='r', label=\"predict\")\n",
    "plt.legend()\n"
   ]
  },
  {
   "cell_type": "code",
   "execution_count": 32,
   "id": "6765abe9",
   "metadata": {},
   "outputs": [
    {
     "name": "stdout",
     "output_type": "stream",
     "text": [
      "11.0\n"
     ]
    }
   ],
   "source": [
    "import numpy as np\n",
    "\n",
    "# 임의로 정한 기울기a 와 y절편 b\n",
    "fake_a_b = [3,75]\n",
    "\n",
    "# 공부한 시간 x리스트와 성적 y리스트\n",
    "data = [[2,81],[4,93],[6,91],[8,97]]\n",
    "x = [i[0] for i in data]\n",
    "y = [i[1] for i in data]\n",
    "\n",
    "# 일차방정식을 구현하는 함수 \n",
    "def predict(x):\n",
    "    return fake_a_b[0]*x + fake_a_b[1]\n",
    "\n",
    "# 평균제곱오차(mse)를 계산해주는 함수\n",
    "def mse(y, y_hat):\n",
    "    return ((y - y_hat) ** 2).mean()\n",
    "\n",
    "def mse_val(y, predict_result):\n",
    "    return mse(np.array(y), np.array(predict_result))\n",
    "\n",
    "# 예측 값이 들어갈 빈 리스트\n",
    "predict_result = []\n",
    "\n",
    "for i in range(len(x)):\n",
    "    predict_result.append(predict(x[i]))\n",
    "\n",
    "# 오차가 약 11.0 이라는 것을 확인\n",
    "# a,b의 값을 적절히 조절하여 오차가 최소화 되는 a, b구하기 -> 경사하강법\n",
    "print(mse_val(predict_result, y))"
   ]
  },
  {
   "cell_type": "code",
   "execution_count": 33,
   "id": "7c6d5e64",
   "metadata": {},
   "outputs": [
    {
     "data": {
      "image/png": "[encoded data removed]",
      "text/plain": [
       "<Figure size 576x360 with 1 Axes>"
      ]
     },
     "metadata": {
      "needs_background": "light"
     },
     "output_type": "display_data"
    }
   ],
   "source": [
    "import numpy as np\n",
    "\n",
    "fake_a_b = [3,75]\n",
    "\n",
    "data = [[2,81],[4,93],[6,91],[8,97]]\n",
    "x = [i[0] for i in data]\n",
    "y = [i[1] for i in data]\n",
    "plt.figure(figsize=(8,5))\n",
    "plt.scatter(x,y)\n",
    "plt.show()"
   ]
  },
  {
   "cell_type": "code",
   "execution_count": 34,
   "id": "f6e6844d",
   "metadata": {},
   "outputs": [
    {
     "name": "stdout",
     "output_type": "stream",
     "text": [
      "epoch=0, 기울기=27.8400, 절편=5.4300\n",
      "epoch=100, 기울기=7.0739, 절편=50.5117\n",
      "epoch=200, 기울기=4.0960, 절편=68.2822\n",
      "epoch=300, 기울기=2.9757, 절편=74.9678\n",
      "epoch=400, 기울기=2.5542, 절편=77.4830\n",
      "epoch=500, 기울기=2.3956, 절편=78.4293\n",
      "epoch=600, 기울기=2.3360, 절편=78.7853\n",
      "epoch=700, 기울기=2.3135, 절편=78.9192\n",
      "epoch=800, 기울기=2.3051, 절편=78.9696\n",
      "epoch=900, 기울기=2.3019, 절편=78.9886\n",
      "epoch=1000, 기울기=2.3007, 절편=78.9957\n",
      "epoch=1100, 기울기=2.3003, 절편=78.9984\n",
      "epoch=1200, 기울기=2.3001, 절편=78.9994\n",
      "epoch=1300, 기울기=2.3000, 절편=78.9998\n",
      "epoch=1400, 기울기=2.3000, 절편=78.9999\n",
      "epoch=1500, 기울기=2.3000, 절편=79.0000\n",
      "epoch=1600, 기울기=2.3000, 절편=79.0000\n",
      "epoch=1700, 기울기=2.3000, 절편=79.0000\n",
      "epoch=1800, 기울기=2.3000, 절편=79.0000\n",
      "epoch=1900, 기울기=2.3000, 절편=79.0000\n",
      "epoch=2000, 기울기=2.3000, 절편=79.0000\n"
     ]
    }
   ],
   "source": [
    "# 리스트로 되어 있는 x와 y값을 넘파이 배열로 바꾸어 줍니다.(인덱스를 주어 하나씩 불러와 계산이 가능해 지도록 하기 위함입니다.)\n",
    "x_data = np.array(x)\n",
    "y_data = np.array(y)\n",
    "\n",
    "# 기울기 a와 절편 b의 값을 초기화\n",
    "a = 0\n",
    "b = 0\n",
    "\n",
    "# 학습률 = 0.03\n",
    "lr = 0.03\n",
    "\n",
    "# 몇 번 반복(학습)될지를 설정합니다(오차 수정-경사하강법 횟수)\n",
    "epochs = 2001\n",
    "\n",
    "# 경사 하강법을 시작\n",
    "for i in range(epochs): # epochs 수 만큼 반복\n",
    "    y_hat = a*x_data +b\n",
    "    error = y_data - y_hat # 오차 구하는 식\n",
    "    a_diff = -(2/len(x_data)) * sum(x_data * (error)) # 오차함수 a로 미분\n",
    "    b_diff = -(2/len(x_data)) * sum(error) # 오차함수 b로 미분\n",
    "    a = a - lr * a_diff # 학습률을 곱해 기존의 a값 업데이트\n",
    "    b = b - lr * b_diff # 학습률을 곱해 기존의 b값 업데이트\n",
    "    if i % 100 == 0:\n",
    "        print(\"epoch=%.f, 기울기=%.04f, 절편=%.04f\" % (i,a,b))\n",
    "        \n",
    "# 경사하강법 실행 결과 기울기 a = 2.3 y절편 b = 79로 수렴"
   ]
  },
  {
   "cell_type": "code",
   "execution_count": 35,
   "id": "a3f275c4",
   "metadata": {},
   "outputs": [
    {
     "name": "stdout",
     "output_type": "stream",
     "text": [
      "epoch=0, 기울기=9.2800, 절편=1.8100\n",
      "epoch=100, 기울기=11.5301, 절편=23.9186\n",
      "epoch=200, 기울기=8.9703, 절편=39.1944\n",
      "epoch=300, 기울기=7.1204, 절편=50.2337\n",
      "epoch=400, 기울기=5.7836, 절편=58.2115\n",
      "epoch=500, 기울기=4.8175, 절편=63.9768\n",
      "epoch=600, 기울기=4.1193, 절편=68.1432\n",
      "epoch=700, 기울기=3.6148, 절편=71.1541\n",
      "epoch=800, 기울기=3.2501, 절편=73.3300\n",
      "epoch=900, 기울기=2.9866, 절편=74.9025\n",
      "epoch=1000, 기울기=2.7962, 절편=76.0388\n",
      "epoch=1100, 기울기=2.6586, 절편=76.8601\n",
      "epoch=1200, 기울기=2.5591, 절편=77.4535\n",
      "epoch=1300, 기울기=2.4873, 절편=77.8824\n",
      "epoch=1400, 기울기=2.4353, 절편=78.1924\n",
      "epoch=1500, 기울기=2.3978, 절편=78.4163\n",
      "epoch=1600, 기울기=2.3707, 절편=78.5782\n",
      "epoch=1700, 기울기=2.3511, 절편=78.6952\n",
      "epoch=1800, 기울기=2.3369, 절편=78.7797\n",
      "epoch=1900, 기울기=2.3267, 절편=78.8408\n",
      "epoch=2000, 기울기=2.3193, 절편=78.8850\n",
      "epoch=2100, 기울기=2.3139, 절편=78.9169\n",
      "epoch=2200, 기울기=2.3101, 절편=78.9399\n",
      "epoch=2300, 기울기=2.3073, 절편=78.9566\n",
      "epoch=2400, 기울기=2.3053, 절편=78.9686\n",
      "epoch=2500, 기울기=2.3038, 절편=78.9773\n",
      "epoch=2600, 기울기=2.3027, 절편=78.9836\n",
      "epoch=2700, 기울기=2.3020, 절편=78.9882\n",
      "epoch=2800, 기울기=2.3014, 절편=78.9914\n",
      "epoch=2900, 기울기=2.3010, 절편=78.9938\n",
      "epoch=3000, 기울기=2.3007, 절편=78.9955\n",
      "epoch=3100, 기울기=2.3005, 절편=78.9968\n",
      "epoch=3200, 기울기=2.3004, 절편=78.9977\n",
      "epoch=3300, 기울기=2.3003, 절편=78.9983\n",
      "epoch=3400, 기울기=2.3002, 절편=78.9988\n",
      "epoch=3500, 기울기=2.3001, 절편=78.9991\n",
      "epoch=3600, 기울기=2.3001, 절편=78.9994\n",
      "epoch=3700, 기울기=2.3001, 절편=78.9995\n",
      "epoch=3800, 기울기=2.3001, 절편=78.9997\n",
      "epoch=3900, 기울기=2.3000, 절편=78.9998\n",
      "epoch=4000, 기울기=2.3000, 절편=78.9998\n",
      "epoch=4100, 기울기=2.3000, 절편=78.9999\n",
      "epoch=4200, 기울기=2.3000, 절편=78.9999\n",
      "epoch=4300, 기울기=2.3000, 절편=78.9999\n",
      "epoch=4400, 기울기=2.3000, 절편=79.0000\n",
      "epoch=4500, 기울기=2.3000, 절편=79.0000\n",
      "epoch=4600, 기울기=2.3000, 절편=79.0000\n",
      "epoch=4700, 기울기=2.3000, 절편=79.0000\n",
      "epoch=4800, 기울기=2.3000, 절편=79.0000\n",
      "epoch=4900, 기울기=2.3000, 절편=79.0000\n"
     ]
    }
   ],
   "source": [
    "x_data = np.array(x)\n",
    "y_data = np.array(y)\n",
    "\n",
    "a = 0\n",
    "b = 0\n",
    "\n",
    "lr = 0.01\n",
    "\n",
    "epochs = 5000\n",
    "\n",
    "for i in range(epochs):\n",
    "    y_hat = a*x_data +b\n",
    "    error = y_data - y_hat # 오차 구하는 식\n",
    "    a_diff = -(2/len(x_data)) * sum(x_data * (error)) \n",
    "    b_diff = -(2/len(x_data)) * sum(error) \n",
    "    a = a - lr * a_diff \n",
    "    b = b - lr * b_diff \n",
    "    if i % 100 == 0:\n",
    "        print(\"epoch=%.f, 기울기=%.04f, 절편=%.04f\" % (i,a,b))\n",
    "\n",
    "# 학습률이 0.01일땐 epochs가 5000은 되어야 원하는걸 찾을 수 있다\n",
    "# -> 0.01보다 0.03이 더 효율적 -> optimize"
   ]
  },
  {
   "cell_type": "code",
   "execution_count": 36,
   "id": "e38e6628",
   "metadata": {},
   "outputs": [
    {
     "data": {
      "text/plain": [
       "<function matplotlib.pyplot.show(close=None, block=None)>"
      ]
     },
     "execution_count": 36,
     "metadata": {},
     "output_type": "execute_result"
    },
    {
     "data": {
      "image/png": "[encoded data removed]",
      "text/plain": [
       "<Figure size 432x288 with 1 Axes>"
      ]
     },
     "metadata": {
      "needs_background": "light"
     },
     "output_type": "display_data"
    }
   ],
   "source": [
    "# 앞서 구한 기울기와 절편을 이용해 그래프를 그려 봅니다\n",
    "y_pred = a * x_data + b\n",
    "plt.scatter(x, y)\n",
    "plt.plot([min(x_data), max(x_data)],[min(y_pred), max(y_pred)])\n",
    "plt.show"
   ]
  },
  {
   "cell_type": "code",
   "execution_count": 40,
   "id": "7f8408fc",
   "metadata": {},
   "outputs": [
    {
     "data": {
      "image/png": "[encoded data removed]",
      "text/plain": [
       "<Figure size 432x288 with 1 Axes>"
      ]
     },
     "metadata": {
      "needs_background": "light"
     },
     "output_type": "display_data"
    }
   ],
   "source": [
    "import numpy as np\n",
    "import matplotlib.pyplot as plt\n",
    "%matplotlib inline\n",
    "\n",
    "np.random.seed(0)\n",
    "\n",
    "# 식을 근사 (w1=4, w0=6), random 값은 Noise를 위해 만듬\n",
    "x=2*np.random.rand(100,1)\n",
    "y=6+4*x+np.random.randn(100,1)\n",
    "\n",
    "plt.scatter(x,y)\n",
    "\n",
    "# w1 과 w0를 업데이트할 w1_update, w0_update를 반환\n",
    "def get_weight_updates(w1, w0, x, y, learning_rate=0.01):\n",
    "    N=len(y)\n",
    "    \n",
    "    # 동일한 크기를 가진 0 값으로 초기화\n",
    "    w1_update = np.zeros_like(w1)\n",
    "    w0_update = np.zeros_like(w0)\n",
    "    \n",
    "    # 예측 배열 계산하고 예측과 실제 값의 차이 계산\n",
    "    y_pred = np.dot(x, w1.T) +w0\n",
    "    diff = y-y_pred\n",
    "    \n",
    "    # w0_update를 dot 행렬 연산으로 구하기 위해 모두 1값으 가진 행렬 생성\n",
    "    w0_factors = np.ones((N,1))\n",
    "    \n",
    "    # w1과 w0을 업데이트 할 w1_update, w0_update 계산\n",
    "    w1_update = -(2/N)*learning_rate*(np.dot(x.T, diff))\n",
    "    w0_update = -(2/N)*learning_rate*(np.dot(w0_factors.T, diff))\n",
    "    \n",
    "    return w1_update, w0_update"
   ]
  },
  {
   "cell_type": "code",
   "execution_count": 41,
   "id": "bbbf0a46",
   "metadata": {},
   "outputs": [
    {
     "name": "stdout",
     "output_type": "stream",
     "text": [
      "(100, 1)\n",
      "(1, 1) (1, 1)\n"
     ]
    },
    {
     "data": {
      "text/plain": [
       "(array([[0.]]), array([[0.]]))"
      ]
     },
     "execution_count": 41,
     "metadata": {},
     "output_type": "execute_result"
    }
   ],
   "source": [
    "w0 = np.zeros((1,1))\n",
    "w1 = np.zeros((1,1))\n",
    "y_pred = np.dot(x, w1.T) +w0\n",
    "diff = y-y_pred\n",
    "print(diff.shape)\n",
    "w0_factors = np.ones((100,1))\n",
    "w1_update = -(2/100)*0.01*(np.dot(x.T, diff))\n",
    "w0_update = -(2/100)*0.01*(np.dot(w0_factors.T, diff))\n",
    "print(w1_update.shape, w0_update.shape)\n",
    "w1,w0"
   ]
  },
  {
   "cell_type": "code",
   "execution_count": 43,
   "id": "e36c139b",
   "metadata": {},
   "outputs": [
    {
     "name": "stdout",
     "output_type": "stream",
     "text": [
      "w1:4.022 w0:6.162\n",
      "Gradient Descent Total Cost:0.9935\n"
     ]
    },
    {
     "data": {
      "text/plain": [
       "[<matplotlib.lines.Line2D at 0x1b007bcd430>]"
      ]
     },
     "execution_count": 43,
     "metadata": {},
     "output_type": "execute_result"
    },
    {
     "data": {
      "image/png": "[encoded data removed]",
      "text/plain": [
       "<Figure size 432x288 with 1 Axes>"
      ]
     },
     "metadata": {
      "needs_background": "light"
     },
     "output_type": "display_data"
    }
   ],
   "source": [
    "# 입력 인자 iters로 주어진 횟수만큼 반복적으로 업데이트 적용\n",
    "def gradient_descent_steps(x, y, iters=10000):\n",
    "    # 모두 0으로 초기화\n",
    "    w0 = np.zeros((1,1))\n",
    "    w1 = np.zeros((1,1))\n",
    "    \n",
    "    # 반복적으로 get_weight_updates()호출하여 업데이트 수행\n",
    "    for ind in range(iters):\n",
    "        w1_update, w0_update = get_weight_updates(w1, w0, x, y, learning_rate=0.01)\n",
    "        w1 = w1 - w1_update\n",
    "        w0 = w0 - w0_update\n",
    "    return w1, w0\n",
    "def get_cost(y, y_pred):\n",
    "    N=len(y)\n",
    "    cost= np.sum(np.square(y-y_pred))/N\n",
    "    return cost\n",
    "\n",
    "w1, w0 = gradient_descent_steps(x,y,iters=1000)\n",
    "print(\"w1:{0:.3f} w0:{1:.3f}\".format(w1[0,0], w0[0,0]))\n",
    "y_pred = w1[0,0] *x + w0\n",
    "print('Gradient Descent Total Cost:{0:.4f}'.format(get_cost(y,y_pred)))\n",
    "\n",
    "plt.scatter(x,y)\n",
    "plt.plot(x,y_pred)"
   ]
  },
  {
   "cell_type": "code",
   "execution_count": 22,
   "id": "f860c578",
   "metadata": {},
   "outputs": [
    {
     "data": {
      "image/png": "[encoded data removed]",
      "text/plain": [
       "<Figure size 432x288 with 1 Axes>"
      ]
     },
     "metadata": {
      "needs_background": "light"
     },
     "output_type": "display_data"
    }
   ],
   "source": [
    "import numpy as np\n",
    "import pandas as pd\n",
    "import matplotlib.pyplot as plt\n",
    "from mpl_toolkits import mplot3d\n",
    "#공부시간 X와 성적 Y의 리스트를 만듭니다.\n",
    "data = [[2, 0, 81], [4, 4, 93], [6, 2, 91], [8, 3, 97]]\n",
    "x1 = [i[0] for i in data]\n",
    "x2 = [i[1] for i in data]\n",
    "y = [i[2] for i in data]\n",
    "#그래프로 확인해 봅니다.\n",
    "ax = plt.axes(projection='3d')\n",
    "ax.set_xlabel('study_hours')\n",
    "ax.set_ylabel('private_class')\n",
    "ax.set_zlabel('Score')\n",
    "ax.dist = 11\n",
    "ax.scatter(x1, x2, y)\n",
    "plt.show()"
   ]
  },
  {
   "cell_type": "code",
   "execution_count": 24,
   "id": "1095dec6",
   "metadata": {
    "scrolled": true
   },
   "outputs": [
    {
     "name": "stdout",
     "output_type": "stream",
     "text": [
      "epoch=0, 기울기1=18.5600, 기울기2=8.4500, 절편=3.6200\n",
      "epoch=100, 기울기1=7.2994, 기울기2=4.2867, 절편=38.0427\n",
      "epoch=200, 기울기1=4.5683, 기울기2=3.3451, 절편=56.7901\n",
      "epoch=300, 기울기1=3.1235, 기울기2=2.8463, 절편=66.7100\n",
      "epoch=400, 기울기1=2.3591, 기울기2=2.5823, 절편=71.9589\n",
      "epoch=500, 기울기1=1.9546, 기울기2=2.4427, 절편=74.7362\n",
      "epoch=600, 기울기1=1.7405, 기울기2=2.3688, 절편=76.2058\n",
      "epoch=700, 기울기1=1.6273, 기울기2=2.3297, 절편=76.9833\n",
      "epoch=800, 기울기1=1.5673, 기울기2=2.3090, 절편=77.3948\n",
      "epoch=900, 기울기1=1.5356, 기울기2=2.2980, 절편=77.6125\n",
      "epoch=1000, 기울기1=1.5189, 기울기2=2.2922, 절편=77.7277\n",
      "epoch=1100, 기울기1=1.5100, 기울기2=2.2892, 절편=77.7886\n",
      "epoch=1200, 기울기1=1.5053, 기울기2=2.2875, 절편=77.8209\n",
      "epoch=1300, 기울기1=1.5028, 기울기2=2.2867, 절편=77.8380\n",
      "epoch=1400, 기울기1=1.5015, 기울기2=2.2862, 절편=77.8470\n",
      "epoch=1500, 기울기1=1.5008, 기울기2=2.2860, 절편=77.8518\n",
      "epoch=1600, 기울기1=1.5004, 기울기2=2.2859, 절편=77.8543\n",
      "epoch=1700, 기울기1=1.5002, 기울기2=2.2858, 절편=77.8556\n",
      "epoch=1800, 기울기1=1.5001, 기울기2=2.2858, 절편=77.8563\n",
      "epoch=1900, 기울기1=1.5001, 기울기2=2.2857, 절편=77.8567\n",
      "epoch=2000, 기울기1=1.5000, 기울기2=2.2857, 절편=77.8569\n",
      "epoch=2100, 기울기1=1.5000, 기울기2=2.2857, 절편=77.8570\n",
      "epoch=2200, 기울기1=1.5000, 기울기2=2.2857, 절편=77.8571\n",
      "epoch=2300, 기울기1=1.5000, 기울기2=2.2857, 절편=77.8571\n",
      "epoch=2400, 기울기1=1.5000, 기울기2=2.2857, 절편=77.8571\n",
      "epoch=2500, 기울기1=1.5000, 기울기2=2.2857, 절편=77.8571\n",
      "epoch=2600, 기울기1=1.5000, 기울기2=2.2857, 절편=77.8571\n",
      "epoch=2700, 기울기1=1.5000, 기울기2=2.2857, 절편=77.8571\n",
      "epoch=2800, 기울기1=1.5000, 기울기2=2.2857, 절편=77.8571\n",
      "epoch=2900, 기울기1=1.5000, 기울기2=2.2857, 절편=77.8571\n",
      "epoch=3000, 기울기1=1.5000, 기울기2=2.2857, 절편=77.8571\n",
      "epoch=3100, 기울기1=1.5000, 기울기2=2.2857, 절편=77.8571\n",
      "epoch=3200, 기울기1=1.5000, 기울기2=2.2857, 절편=77.8571\n",
      "epoch=3300, 기울기1=1.5000, 기울기2=2.2857, 절편=77.8571\n",
      "epoch=3400, 기울기1=1.5000, 기울기2=2.2857, 절편=77.8571\n",
      "epoch=3500, 기울기1=1.5000, 기울기2=2.2857, 절편=77.8571\n",
      "epoch=3600, 기울기1=1.5000, 기울기2=2.2857, 절편=77.8571\n",
      "epoch=3700, 기울기1=1.5000, 기울기2=2.2857, 절편=77.8571\n",
      "epoch=3800, 기울기1=1.5000, 기울기2=2.2857, 절편=77.8571\n",
      "epoch=3900, 기울기1=1.5000, 기울기2=2.2857, 절편=77.8571\n",
      "epoch=4000, 기울기1=1.5000, 기울기2=2.2857, 절편=77.8571\n",
      "epoch=4100, 기울기1=1.5000, 기울기2=2.2857, 절편=77.8571\n",
      "epoch=4200, 기울기1=1.5000, 기울기2=2.2857, 절편=77.8571\n",
      "epoch=4300, 기울기1=1.5000, 기울기2=2.2857, 절편=77.8571\n",
      "epoch=4400, 기울기1=1.5000, 기울기2=2.2857, 절편=77.8571\n",
      "epoch=4500, 기울기1=1.5000, 기울기2=2.2857, 절편=77.8571\n",
      "epoch=4600, 기울기1=1.5000, 기울기2=2.2857, 절편=77.8571\n",
      "epoch=4700, 기울기1=1.5000, 기울기2=2.2857, 절편=77.8571\n",
      "epoch=4800, 기울기1=1.5000, 기울기2=2.2857, 절편=77.8571\n",
      "epoch=4900, 기울기1=1.5000, 기울기2=2.2857, 절편=77.8571\n"
     ]
    }
   ],
   "source": [
    "#리스트로 되어 있는 x와 y값을 넘파이 배열로 바꾸어 줍니다.(인덱스를 주어 하나씩 불러와 계산이 가능해 지도록 하기 위함입니다.)\n",
    "x1_data = np.array(x1)\n",
    "x2_data = np.array(x2)\n",
    "y_data = np.array(y)\n",
    "# 기울기 a와 절편 b의 값을 초기화 합니다.\n",
    "a1 = 0\n",
    "a2 = 0\n",
    "b = 0\n",
    "#학습률을 정합니다.\n",
    "lr = 0.02\n",
    "#몇 번 반복될지를 설정합니다.(0부터 세므로 원하는 반복 횟수에 +1을 해 주어야 합니다.)\n",
    "epochs = 5000\n",
    "#경사 하강법을 시작합니다.\n",
    "for i in range(epochs): # epoch 수 만큼 반복\n",
    "    y_pred = a1 * x1_data + a2 * x2_data + b  #y를 구하는 식을 세웁니다\n",
    "    error = y_data - y_pred  #오차를 구하는 식입니다.\n",
    "    a1_diff = -(2/len(x1_data)) * sum(x1_data * (error)) # 오차함수를 a1로 미분한 값입니다.\n",
    "    a2_diff = -(2/len(x2_data)) * sum(x2_data * (error)) # 오차함수를 a2로 미분한 값입니다.\n",
    "    b_new = -(2/len(x1_data)) * sum(y_data - y_pred)  # 오차함수를 b로 미분한 값입니다.\n",
    "    a1 = a1 - lr * a1_diff  # 학습률을 곱해 기존의 a1값을 업데이트합니다.\n",
    "    a2 = a2 - lr * a2_diff  # 학습률을 곱해 기존의 a2값을 업데이트합니다.\n",
    "    b = b - lr * b_new  # 학습률을 곱해 기존의 b값을 업데이트합니다.\n",
    "    if i % 100 == 0:    # 100번 반복될 때마다 현재의 a1, a2, b값을 출력합니다.\n",
    "        print(\"epoch=%.f, 기울기1=%.04f, 기울기2=%.04f, 절편=%.04f\" % (i, a1, a2, b))"
   ]
  },
  {
   "cell_type": "code",
   "execution_count": 25,
   "id": "d8da27af",
   "metadata": {},
   "outputs": [
    {
     "data": {
      "image/png": "[encoded data removed]",
      "text/plain": [
       "<Figure size 432x288 with 1 Axes>"
      ]
     },
     "metadata": {
      "needs_background": "light"
     },
     "output_type": "display_data"
    }
   ],
   "source": [
    "#참고 자료, 다중 선형회귀 '예측 평면' 3D로 보기\n",
    "import statsmodels.api as statm\n",
    "import statsmodels.formula.api as statfa\n",
    "#from matplotlib.pyplot import figure\n",
    "X = [i[0:2] for i in data]\n",
    "y = [i[2] for i in data]\n",
    "X_1=statm.add_constant(X)\n",
    "results=statm.OLS(y,X_1).fit()\n",
    "hour_class=pd.DataFrame(X,columns=['study_hours','private_class'])\n",
    "hour_class['Score']=pd.Series(y)\n",
    "model = statfa.ols(formula='Score ~ study_hours + private_class', data=hour_class)\n",
    "results_formula = model.fit()\n",
    "a, b = np.meshgrid(np.linspace(hour_class.study_hours.min(),hour_class.study_hours.max(),100),\n",
    "                   np.linspace(hour_class.private_class.min(),hour_class.private_class.max(),100))\n",
    "X_ax = pd.DataFrame({'study_hours': a.ravel(), 'private_class': b.ravel()})\n",
    "fittedY=results_formula.predict(exog=X_ax)\n",
    "fig = plt.figure()\n",
    "graph = fig.add_subplot(111, projection='3d')\n",
    "graph.scatter(hour_class['study_hours'],hour_class['private_class'],hour_class['Score'],\n",
    "              c='blue',marker='o', alpha=1)\n",
    "graph.plot_surface(a,b,fittedY.values.reshape(a.shape),\n",
    "                   rstride=1, cstride=1, color='none', alpha=0.4)\n",
    "graph.set_xlabel('study hours')\n",
    "graph.set_ylabel('private class')\n",
    "graph.set_zlabel('Score')\n",
    "graph.dist = 11\n",
    "plt.show()"
   ]
  },
  {
   "cell_type": "markdown",
   "id": "4437e4b2",
   "metadata": {},
   "source": [
    "# 로지스틱 회귀"
   ]
  },
  {
   "cell_type": "code",
   "execution_count": 44,
   "id": "8a8a0d64",
   "metadata": {},
   "outputs": [
    {
     "data": {
      "text/plain": [
       "(-0.1, 1.1)"
      ]
     },
     "execution_count": 44,
     "metadata": {},
     "output_type": "execute_result"
    },
    {
     "data": {
      "image/png": "[encoded data removed]",
      "text/plain": [
       "<Figure size 432x288 with 1 Axes>"
      ]
     },
     "metadata": {
      "needs_background": "light"
     },
     "output_type": "display_data"
    }
   ],
   "source": [
    "import numpy as np\n",
    "import pandas as pd\n",
    "import matplotlib.pyplot as plt\n",
    "\n",
    "# 공부시간 X와 성적 y의 리스트\n",
    "data = [[2,0],[4,0],[6,0],[8,1],[10,1],[12,1],[14,1]]\n",
    "\n",
    "x_data = [i[0] for i in data]\n",
    "y_data = [i[1] for i in data]\n",
    "\n",
    "plt.scatter(x_data, y_data)\n",
    "plt.xlim(0,15)\n",
    "plt.ylim(-.1,1.1)"
   ]
  },
  {
   "cell_type": "code",
   "execution_count": 45,
   "id": "87a9de5e",
   "metadata": {},
   "outputs": [
    {
     "name": "stdout",
     "output_type": "stream",
     "text": [
      "epoch=0, 기울기 = -0.0500, 절편=-0.0250\n",
      "epoch=0, 기울기 = -0.1388, 절편=-0.0472\n",
      "epoch=0, 기울기 = -0.2268, 절편=-0.0619\n",
      "epoch=0, 기울기 = 0.1201, 절편=-0.0185\n",
      "epoch=0, 기울기 = 0.2374, 절편=-0.0068\n",
      "epoch=0, 기울기 = 0.2705, 절편=-0.0040\n",
      "epoch=0, 기울기 = 0.2860, 절편=-0.0029\n",
      "epoch=1000, 기울기 = 1.4978, 절편=-9.9401\n",
      "epoch=1000, 기울기 = 1.4940, 절편=-9.9411\n",
      "epoch=1000, 기울기 = 1.4120, 절편=-9.9547\n",
      "epoch=1000, 기울기 = 1.4949, 절편=-9.9444\n",
      "epoch=1000, 기울기 = 1.4982, 절편=-9.9440\n",
      "epoch=1000, 기울기 = 1.4984, 절편=-9.9440\n",
      "epoch=1000, 기울기 = 1.4985, 절편=-9.9440\n",
      "epoch=2000, 기울기 = 1.9065, 절편=-12.9489\n",
      "epoch=2000, 기울기 = 1.9055, 절편=-12.9491\n",
      "epoch=2000, 기울기 = 1.8515, 절편=-12.9581\n",
      "epoch=2000, 기울기 = 1.9057, 절편=-12.9514\n",
      "epoch=2000, 기울기 = 1.9068, 절편=-12.9513\n",
      "epoch=2000, 기울기 = 1.9068, 절편=-12.9513\n",
      "epoch=2000, 기울기 = 1.9068, 절편=-12.9513\n"
     ]
    }
   ],
   "source": [
    "# 기울기 a와 절편b의 값을 초기화\n",
    "a = 0\n",
    "b = 0\n",
    "\n",
    "# 학습률 정함\n",
    "lr = 0.05\n",
    "\n",
    "# 시그모이드 함수 정의\n",
    "def sigmoid(x):\n",
    "    return 1/(1+np.e**(-x))\n",
    "\n",
    "# 경사하강법 실행\n",
    "for i in range(2001):\n",
    "    for x_data, y_data in data:\n",
    "        a_diff = x_data*(sigmoid(a*x_data + b) - y_data)\n",
    "        b_diff = sigmoid(a*x_data +b) - y_data\n",
    "        a = a - lr * a_diff\n",
    "        b = b - lr * b_diff\n",
    "        if i % 1000 == 0:\n",
    "            print(\"epoch=%.f, 기울기 = %.04f, 절편=%.04f\" % (i,a,b)) "
   ]
  },
  {
   "cell_type": "markdown",
   "id": "0065bdc0",
   "metadata": {},
   "source": [
    "# 퍼셉트론"
   ]
  },
  {
   "cell_type": "code",
   "execution_count": 46,
   "id": "f7ddf785",
   "metadata": {},
   "outputs": [
    {
     "name": "stdout",
     "output_type": "stream",
     "text": [
      "[0 0 0 1]\n"
     ]
    }
   ],
   "source": [
    "from sklearn.linear_model import Perceptron\n",
    "\n",
    "# 샘플과 레이블\n",
    "x=[[0,0],[0,1],[1,0],[1,1]]\n",
    "y=[0,0,0,1]\n",
    "\n",
    "# 퍼셉트론, 생성 tol는 종료조건, random_state는 난수의 시드\n",
    "clf = Perceptron(tol = 1e-3, random_state=0)\n",
    "\n",
    "# 학습\n",
    "clf.fit(x,y)\n",
    "\n",
    "# 테스트 수행\n",
    "print(clf.predict(x))"
   ]
  },
  {
   "cell_type": "markdown",
   "id": "b0493b43",
   "metadata": {},
   "source": [
    "# 다중퍼셉트론"
   ]
  },
  {
   "cell_type": "code",
   "execution_count": 49,
   "id": "e042ff2b",
   "metadata": {},
   "outputs": [
    {
     "name": "stdout",
     "output_type": "stream",
     "text": [
      "입력값 : (0, 0)출력값 : 0\n",
      "입력값 : (1, 0)출력값 : 1\n",
      "입력값 : (0, 1)출력값 : 1\n",
      "입력값 : (1, 1)출력값 : 0\n"
     ]
    }
   ],
   "source": [
    "import numpy as np\n",
    "\n",
    "# 가중치와 바이어스\n",
    "w11 = np.array([-2,-2])\n",
    "w12 = np.array([2,2])\n",
    "w2 = np.array([1,1])\n",
    "b1 = 3\n",
    "b2 = -1\n",
    "b3 = -1\n",
    "\n",
    "#퍼셉트론\n",
    "def MLP(x,w,b):\n",
    "    y = np.sum(w*x) + b\n",
    "    if y <= 0:\n",
    "        return 0\n",
    "    else:\n",
    "        return 1\n",
    "    \n",
    "# NAND 게이트\n",
    "def NAND(x1, x2):\n",
    "    return MLP(np.array([x1,x2]), w11, b1)\n",
    "\n",
    "# OR 게이트\n",
    "def OR(x1, x2):\n",
    "    return MLP(np.array([x1,x2]), w12, b2)  \n",
    "\n",
    "#AND 게이트\n",
    "def AND(x1, x2):\n",
    "    return MLP(np.array([x1,x2]), w2, b3)\n",
    "\n",
    "# XOR 게이트\n",
    "def XOR(x1, x2):\n",
    "    return AND(NAND(x1,x2), OR(x1,x2))\n",
    "\n",
    "# x1, x2 값을 번갈아 대입해 가며 최종값 출력\n",
    "if __name__ == '__main__':\n",
    "    for x in [(0,0), (1,0), (0,1), (1,1)]:\n",
    "        y = XOR(x[0], x[1])\n",
    "        print(\"입력값 : \" + str(x) + \"출력값 : \" + str(y))"
   ]
  },
  {
   "cell_type": "markdown",
   "id": "7c53c679",
   "metadata": {},
   "source": [
    "# 신경망에서 딥러닝으로"
   ]
  },
  {
   "cell_type": "code",
   "execution_count": 51,
   "id": "2b6e43d5",
   "metadata": {},
   "outputs": [
    {
     "name": "stdout",
     "output_type": "stream",
     "text": [
      "손실 함수값( 9.86 )= 57.05959999999999\n",
      "손실 함수값( 9.7228 )= 55.19603983999999\n",
      "손실 함수값( 9.588344 )= 53.40627666233599\n",
      "손실 함수값( 9.456577119999999 )= 51.68738810650748\n",
      "손실 함수값( 9.327445577599999 )= 50.03656753748979\n",
      "손실 함수값( 9.200896666048 )= 48.45111946300519\n",
      "손실 함수값( 9.076878732727039 )= 46.92845513227018\n",
      "손실 함수값( 8.955341158072498 )= 45.46608830903228\n",
      "손실 함수값( 8.836234334911047 )= 44.061631211994595\n",
      "손실 함수값( 8.719509648212826 )= 42.7127906159996\n",
      "손실 함수값( 8.60511945524857 )= 41.41736410760602\n",
      "손실 함수값( 8.493017066143599 )= 40.17323648894484\n",
      "손실 함수값( 8.383156724820727 )= 38.97837632398262\n",
      "손실 함수값( 8.275493590324313 )= 37.830832621552915\n",
      "손실 함수값( 8.169983718517827 )= 36.728731649739416\n",
      "손실 함수값( 8.06658404414747 )= 35.67027387640974\n",
      "손실 함수값( 7.965252363264521 )= 34.65373103090391\n",
      "손실 함수값( 7.865947315999231 )= 33.67744328208012\n",
      "손실 함수값( 7.768628369679246 )= 32.73981652810974\n",
      "손실 함수값( 7.673255802285661 )= 31.839319793596598\n",
      "손실 함수값( 7.579790686239948 )= 30.97448272977017\n",
      "손실 함수값( 7.488194872515149 )= 30.143893213671276\n",
      "손실 함수값( 7.398430975064846 )= 29.346195042409892\n",
      "손실 함수값( 7.3104623555635495 )= 28.580085718730462\n",
      "손실 함수값( 7.224253108452278 )= 27.844314324268737\n",
      "손실 함수값( 7.1397680462832325 )= 27.137679477027692\n",
      "손실 함수값( 7.056972685357568 )= 26.459027369737395\n",
      "손실 함수값( 6.975833231650417 )= 25.807249885895796\n",
      "손실 함수값( 6.896316567017409 )= 25.181282790414325\n",
      "손실 함수값( 6.818390235677061 )= 24.580103991913923\n",
      "손실 함수값( 6.7420224309635195 )= 24.00273187383413\n",
      "손실 함수값( 6.667181982344249 )= 23.448223691630297\n",
      "손실 함수값( 6.593838342697364 )= 22.915674033441732\n",
      "손실 함수값( 6.521961575843417 )= 22.404213341717444\n",
      "손실 함수값( 6.451522344326548 )= 21.91300649338543\n",
      "손실 함수값( 6.382491897440017 )= 21.44125143624737\n",
      "손실 함수값( 6.314842059491217 )= 20.988177879371975\n",
      "손실 함수값( 6.248545218301393 )= 20.553046035348846\n",
      "손실 함수값( 6.183574313935365 )= 20.13514541234903\n",
      "손실 함수값( 6.119902827656658 )= 19.73379365402001\n",
      "손실 함수값( 6.057504771103525 )= 19.34833542532082\n",
      "손실 함수값( 5.996354675681454 )= 18.97814134247811\n",
      "손실 함수값( 5.936427582167825 )= 18.62260694531598\n",
      "손실 함수값( 5.877699030524469 )= 18.28115171028147\n",
      "손실 함수값( 5.82014504991398 )= 17.953218102554324\n",
      "손실 함수값( 5.7637421489157 )= 17.63827066569317\n",
      "손실 함수값( 5.708467305937386 )= 17.335795147331723\n",
      "손실 함수값( 5.6542979598186385 )= 17.045297659497386\n",
      "손실 함수값( 5.601212000622266 )= 16.766303872181293\n",
      "손실 함수값( 5.54918776060982 )= 16.49835823884291\n",
      "손실 함수값( 5.498204005397624 )= 16.241023252584732\n",
      "손실 함수값( 5.448239925289672 )= 15.993878731782377\n",
      "손실 함수값( 5.399275126783878 )= 15.756521134003794\n",
      "손실 함수값( 5.3512896242482 )= 15.528562897097242\n",
      "손실 함수값( 5.304263831763236 )= 15.30963180637219\n",
      "손실 함수값( 5.258178555127971 )= 15.099370386839851\n",
      "손실 함수값( 5.213014984025412 )= 14.897435319520993\n",
      "손실 함수값( 5.168754684344903 )= 14.703496880867961\n",
      "손실 함수값( 5.125379590658005 )= 14.517238404385587\n",
      "손실 함수값( 5.082871998844845 )= 14.33835576357192\n",
      "손실 함수값( 5.0412145588679484 )= 14.166556875334473\n",
      "손실 함수값( 5.000390267690589 )= 14.001561223071228\n",
      "손실 함수값( 4.960382462336777 )= 13.843099398637605\n",
      "손실 함수값( 4.921174813090041 )= 13.690912662451556\n",
      "손실 함수값( 4.882751316828241 )= 13.544752521018475\n",
      "손실 함수값( 4.845096290491676 )= 13.404380321186142\n",
      "손실 함수값( 4.808194364681842 )= 13.269566860467172\n",
      "손실 함수값( 4.772030477388205 )= 13.140092012792671\n",
      "손실 함수값( 4.736589867840442 )= 13.015744369086082\n",
      "손실 함수값( 4.701858070483633 )= 12.896320892070275\n",
      "손실 함수값( 4.66782090907396 )= 12.78162658474429\n",
      "손실 함수값( 4.634464490892481 )= 12.671474171988416\n",
      "손실 함수값( 4.601775201074632 )= 12.565683794777676\n",
      "손실 함수값( 4.569739697053139 )= 12.46408271650448\n",
      "손실 함수값( 4.538344903112076 )= 12.366505040930903\n",
      "손실 함수값( 4.507578005049835 )= 12.27279144131004\n",
      "손실 함수값( 4.477426444948838 )= 12.182788900234161\n",
      "손실 함수값( 4.447877916049861 )= 12.096350459784889\n",
      "손실 함수값( 4.418920357728863 )= 12.013334981577405\n",
      "손실 함수값( 4.390541950574286 )= 11.933606916306939\n",
      "손실 함수값( 4.3627311115628 )= 11.857036082421185\n",
      "손실 함수값( 4.335476489331544 )= 11.783497453557306\n",
      "손실 함수값( 4.308766959544913 )= 11.712870954396436\n",
      "손실 함수값( 4.282591620354015 )= 11.64504126460234\n",
      "손실 함수값( 4.256939787946935 )= 11.579897630524087\n",
      "손실 함수값( 4.231800992187996 )= 11.517333684355332\n",
      "손실 함수값( 4.207164972344237 )= 11.457247270454863\n",
      "손실 함수값( 4.183021672897352 )= 11.39954027854485\n",
      "손실 함수값( 4.159361239439405 )= 11.344118483514473\n",
      "손실 함수값( 4.136174014650617 )= 11.290891391567301\n",
      "손실 함수값( 4.113450534357605 )= 11.239772092461235\n",
      "손실 함수값( 4.0911815236704525 )= 11.19067711759977\n",
      "손실 함수값( 4.0693578931970436 )= 11.143526303742819\n",
      "손실 함수값( 4.047970735333102 )= 11.098242662114604\n",
      "손실 함수값( 4.02701132062644 )= 11.054752252694865\n",
      "손실 함수값( 4.006471094213911 )= 11.012984063488148\n",
      "손실 함수값( 3.9863416723296328 )= 10.972869894574016\n",
      "손실 함수값( 3.9666148388830402 )= 10.934344246748886\n",
      "손실 함수값( 3.947282542105379 )= 10.897344214577629\n",
      "손실 함수값( 3.9283368912632715 )= 10.861809383680356\n",
      "최소값 = 3.9283368912632715\n"
     ]
    }
   ],
   "source": [
    "x= 10\n",
    "learning_rate = 0.01\n",
    "precision = 0.00001\n",
    "max_iterations = 100\n",
    "\n",
    "# 손실 함수를 람다식으로\n",
    "loss_func = lambda x:(x-3)**2 +10\n",
    "\n",
    "# 그래디언트를 람다식으로 , 손실함수의 1차 미분값\n",
    "gradient = lambda x: 2*x-6\n",
    "\n",
    "# 그래디언트 강하법\n",
    "for i in range(max_iterations):\n",
    "    x = x - learning_rate * gradient(x)\n",
    "    print(\"손실 함수값(\",x,\")=\", loss_func(x))\n",
    "print(\"최소값 =\",x)"
   ]
  },
  {
   "cell_type": "code",
   "execution_count": 56,
   "id": "6373cd57",
   "metadata": {},
   "outputs": [
    {
     "name": "stdout",
     "output_type": "stream",
     "text": [
      "0.04685\n",
      "0.6931471803599453\n",
      "8.265472039806522\n",
      "21.21844021456322\n"
     ]
    }
   ],
   "source": [
    "import numpy as np\n",
    "def MSE(y, t):\n",
    "    return 0.5*np.sum((y-t)**2)\n",
    "\n",
    "t = np.array([0,0,0,0.5,0.5,0,0,0,0,0])\n",
    "yr = np.array([0,0,0,0.5,0.5,0,0,0,0,0])\n",
    "y = np.array([0.01,0.01,0.1,0.3,0.33,0.04,0.02,0.05,0.01,0.1])\n",
    "y_1 = np.array([0.3,0.01,0.1,0.01,0.04,0.02,0.05,0.33,0.01,0.1])\n",
    "\n",
    "def CEE(y, t):\n",
    "    delta = 1e-10\n",
    "    return -np.sum(t*np.log(y+delta))\n",
    "\n",
    "print(MSE(t, y))\n",
    "print(CEE(t, yr))\n",
    "print(CEE(t, y))\n",
    "print(CEE(t, y_1))"
   ]
  },
  {
   "cell_type": "code",
   "execution_count": 72,
   "id": "c7c28286",
   "metadata": {},
   "outputs": [
    {
     "name": "stdout",
     "output_type": "stream",
     "text": [
      "Model: \"sequential_10\"\n",
      "_________________________________________________________________\n",
      "Layer (type)                 Output Shape              Param #   \n",
      "=================================================================\n",
      "dense_18 (Dense)             (None, 512)               401920    \n",
      "_________________________________________________________________\n",
      "dense_19 (Dense)             (None, 10)                5130      \n",
      "=================================================================\n",
      "Total params: 407,050\n",
      "Trainable params: 407,050\n",
      "Non-trainable params: 0\n",
      "_________________________________________________________________\n",
      "Epoch 1/100\n",
      "469/469 [==============================] - 1s 2ms/step - loss: 0.0965 - accuracy: 0.2099 - mse: 0.0965\n",
      "Epoch 2/100\n",
      "469/469 [==============================] - 1s 2ms/step - loss: 0.0849 - accuracy: 0.4424 - mse: 0.0849\n",
      "Epoch 3/100\n",
      "469/469 [==============================] - 1s 2ms/step - loss: 0.0788 - accuracy: 0.5173 - mse: 0.0788\n",
      "Epoch 4/100\n",
      "469/469 [==============================] - 1s 2ms/step - loss: 0.0719 - accuracy: 0.6103 - mse: 0.0719\n",
      "Epoch 5/100\n",
      "469/469 [==============================] - 1s 2ms/step - loss: 0.0651 - accuracy: 0.6893 - mse: 0.0651\n",
      "Epoch 6/100\n",
      "469/469 [==============================] - 1s 2ms/step - loss: 0.0593 - accuracy: 0.7304 - mse: 0.0593\n",
      "Epoch 7/100\n",
      "469/469 [==============================] - 1s 2ms/step - loss: 0.0545 - accuracy: 0.7582 - mse: 0.0545\n",
      "Epoch 8/100\n",
      "469/469 [==============================] - 1s 2ms/step - loss: 0.0505 - accuracy: 0.7798 - mse: 0.0505\n",
      "Epoch 9/100\n",
      "469/469 [==============================] - 1s 2ms/step - loss: 0.0473 - accuracy: 0.7965 - mse: 0.0473\n",
      "Epoch 10/100\n",
      "469/469 [==============================] - 1s 2ms/step - loss: 0.0445 - accuracy: 0.8094 - mse: 0.0445\n",
      "Epoch 11/100\n",
      "469/469 [==============================] - 1s 2ms/step - loss: 0.0422 - accuracy: 0.8187 - mse: 0.0422\n",
      "Epoch 12/100\n",
      "469/469 [==============================] - 1s 2ms/step - loss: 0.0405 - accuracy: 0.8269 - mse: 0.0405\n",
      "Epoch 13/100\n",
      "469/469 [==============================] - 1s 2ms/step - loss: 0.0389 - accuracy: 0.8312 - mse: 0.0389\n",
      "Epoch 14/100\n",
      "469/469 [==============================] - 1s 2ms/step - loss: 0.0372 - accuracy: 0.8407 - mse: 0.0372\n",
      "Epoch 15/100\n",
      "469/469 [==============================] - 1s 2ms/step - loss: 0.0362 - accuracy: 0.8439 - mse: 0.0362\n",
      "Epoch 16/100\n",
      "469/469 [==============================] - 1s 2ms/step - loss: 0.0349 - accuracy: 0.8472 - mse: 0.0349\n",
      "Epoch 17/100\n",
      "469/469 [==============================] - 1s 2ms/step - loss: 0.0339 - accuracy: 0.8519 - mse: 0.0339\n",
      "Epoch 18/100\n",
      "469/469 [==============================] - 1s 2ms/step - loss: 0.0331 - accuracy: 0.8522 - mse: 0.0331\n",
      "Epoch 19/100\n",
      "469/469 [==============================] - 1s 2ms/step - loss: 0.0320 - accuracy: 0.8570 - mse: 0.0320\n",
      "Epoch 20/100\n",
      "469/469 [==============================] - 1s 2ms/step - loss: 0.0315 - accuracy: 0.8580 - mse: 0.0315\n",
      "Epoch 21/100\n",
      "469/469 [==============================] - 1s 2ms/step - loss: 0.0309 - accuracy: 0.8586 - mse: 0.0309\n",
      "Epoch 22/100\n",
      "469/469 [==============================] - 1s 2ms/step - loss: 0.0304 - accuracy: 0.8584 - mse: 0.0304\n",
      "Epoch 23/100\n",
      "469/469 [==============================] - 1s 2ms/step - loss: 0.0295 - accuracy: 0.8662 - mse: 0.0295\n",
      "Epoch 24/100\n",
      "469/469 [==============================] - 1s 2ms/step - loss: 0.0291 - accuracy: 0.8644 - mse: 0.0291\n",
      "Epoch 25/100\n",
      "469/469 [==============================] - 1s 2ms/step - loss: 0.0287 - accuracy: 0.8664 - mse: 0.0287\n",
      "Epoch 26/100\n",
      "469/469 [==============================] - 1s 2ms/step - loss: 0.0281 - accuracy: 0.8683 - mse: 0.0281\n",
      "Epoch 27/100\n",
      "469/469 [==============================] - 1s 2ms/step - loss: 0.0276 - accuracy: 0.8695 - mse: 0.0276\n",
      "Epoch 28/100\n",
      "469/469 [==============================] - 1s 2ms/step - loss: 0.0274 - accuracy: 0.8701 - mse: 0.0274\n",
      "Epoch 29/100\n",
      "469/469 [==============================] - 1s 2ms/step - loss: 0.0272 - accuracy: 0.8700 - mse: 0.0272\n",
      "Epoch 30/100\n",
      "469/469 [==============================] - 1s 2ms/step - loss: 0.0268 - accuracy: 0.8714 - mse: 0.0268\n",
      "Epoch 31/100\n",
      "469/469 [==============================] - 1s 2ms/step - loss: 0.0263 - accuracy: 0.8739 - mse: 0.0263\n",
      "Epoch 32/100\n",
      "469/469 [==============================] - 1s 2ms/step - loss: 0.0263 - accuracy: 0.8712 - mse: 0.0263\n",
      "Epoch 33/100\n",
      "469/469 [==============================] - 1s 2ms/step - loss: 0.0257 - accuracy: 0.8770 - mse: 0.0257\n",
      "Epoch 34/100\n",
      "469/469 [==============================] - 1s 2ms/step - loss: 0.0253 - accuracy: 0.8784 - mse: 0.0253\n",
      "Epoch 35/100\n",
      "469/469 [==============================] - 1s 2ms/step - loss: 0.0251 - accuracy: 0.8799 - mse: 0.0251\n",
      "Epoch 36/100\n",
      "469/469 [==============================] - 1s 2ms/step - loss: 0.0249 - accuracy: 0.8795 - mse: 0.0249\n",
      "Epoch 37/100\n",
      "469/469 [==============================] - 1s 2ms/step - loss: 0.0249 - accuracy: 0.8788 - mse: 0.0249\n",
      "Epoch 38/100\n",
      "469/469 [==============================] - 1s 2ms/step - loss: 0.0247 - accuracy: 0.8772 - mse: 0.0247\n",
      "Epoch 39/100\n",
      "469/469 [==============================] - 1s 2ms/step - loss: 0.0245 - accuracy: 0.8779 - mse: 0.0245\n",
      "Epoch 40/100\n",
      "469/469 [==============================] - 1s 2ms/step - loss: 0.0243 - accuracy: 0.8789 - mse: 0.0243\n",
      "Epoch 41/100\n",
      "469/469 [==============================] - 1s 2ms/step - loss: 0.0237 - accuracy: 0.8828 - mse: 0.0237\n",
      "Epoch 42/100\n",
      "469/469 [==============================] - 1s 2ms/step - loss: 0.0238 - accuracy: 0.8819 - mse: 0.0238\n",
      "Epoch 43/100\n",
      "469/469 [==============================] - 1s 2ms/step - loss: 0.0237 - accuracy: 0.8812 - mse: 0.0237\n",
      "Epoch 44/100\n",
      "469/469 [==============================] - 1s 2ms/step - loss: 0.0236 - accuracy: 0.8819 - mse: 0.0236\n",
      "Epoch 45/100\n",
      "469/469 [==============================] - 1s 2ms/step - loss: 0.0235 - accuracy: 0.8817 - mse: 0.0235\n",
      "Epoch 46/100\n",
      "469/469 [==============================] - 1s 2ms/step - loss: 0.0233 - accuracy: 0.8818 - mse: 0.0233\n",
      "Epoch 47/100\n",
      "469/469 [==============================] - 1s 2ms/step - loss: 0.0232 - accuracy: 0.8827 - mse: 0.0232\n",
      "Epoch 48/100\n",
      "469/469 [==============================] - 1s 2ms/step - loss: 0.0229 - accuracy: 0.8832 - mse: 0.0229\n",
      "Epoch 49/100\n",
      "469/469 [==============================] - 1s 2ms/step - loss: 0.0229 - accuracy: 0.8830 - mse: 0.0229\n",
      "Epoch 50/100\n",
      "469/469 [==============================] - 1s 2ms/step - loss: 0.0225 - accuracy: 0.8867 - mse: 0.0225\n",
      "Epoch 51/100\n",
      "469/469 [==============================] - 1s 2ms/step - loss: 0.0225 - accuracy: 0.8847 - mse: 0.0225\n",
      "Epoch 52/100\n",
      "469/469 [==============================] - 1s 2ms/step - loss: 0.0224 - accuracy: 0.8857 - mse: 0.0224\n",
      "Epoch 53/100\n",
      "469/469 [==============================] - 1s 2ms/step - loss: 0.0224 - accuracy: 0.8859 - mse: 0.0224\n",
      "Epoch 54/100\n",
      "469/469 [==============================] - 1s 2ms/step - loss: 0.0220 - accuracy: 0.8877 - mse: 0.0220\n",
      "Epoch 55/100\n",
      "469/469 [==============================] - 1s 2ms/step - loss: 0.0219 - accuracy: 0.8891 - mse: 0.0219\n",
      "Epoch 56/100\n",
      "469/469 [==============================] - 1s 2ms/step - loss: 0.0218 - accuracy: 0.8909 - mse: 0.0218\n",
      "Epoch 57/100\n",
      "469/469 [==============================] - 1s 2ms/step - loss: 0.0218 - accuracy: 0.8882 - mse: 0.0218\n",
      "Epoch 58/100\n",
      "469/469 [==============================] - 1s 2ms/step - loss: 0.0219 - accuracy: 0.8870 - mse: 0.0219\n",
      "Epoch 59/100\n",
      "469/469 [==============================] - 1s 2ms/step - loss: 0.0216 - accuracy: 0.8903 - mse: 0.0216\n",
      "Epoch 60/100\n",
      "469/469 [==============================] - 1s 2ms/step - loss: 0.0215 - accuracy: 0.8902 - mse: 0.0215\n",
      "Epoch 61/100\n",
      "469/469 [==============================] - 1s 2ms/step - loss: 0.0215 - accuracy: 0.8895 - mse: 0.0215\n",
      "Epoch 62/100\n",
      "469/469 [==============================] - 1s 2ms/step - loss: 0.0216 - accuracy: 0.8878 - mse: 0.0216\n",
      "Epoch 63/100\n",
      "469/469 [==============================] - 1s 2ms/step - loss: 0.0213 - accuracy: 0.8894 - mse: 0.0213\n",
      "Epoch 64/100\n",
      "469/469 [==============================] - 1s 2ms/step - loss: 0.0210 - accuracy: 0.8919 - mse: 0.0210\n",
      "Epoch 65/100\n",
      "469/469 [==============================] - 1s 2ms/step - loss: 0.0211 - accuracy: 0.8910 - mse: 0.0211\n",
      "Epoch 66/100\n"
     ]
    },
    {
     "name": "stdout",
     "output_type": "stream",
     "text": [
      "469/469 [==============================] - 1s 2ms/step - loss: 0.0208 - accuracy: 0.8939 - mse: 0.0208\n",
      "Epoch 67/100\n",
      "469/469 [==============================] - 1s 2ms/step - loss: 0.0210 - accuracy: 0.8922 - mse: 0.0210\n",
      "Epoch 68/100\n",
      "469/469 [==============================] - 1s 2ms/step - loss: 0.0207 - accuracy: 0.8931 - mse: 0.0207\n",
      "Epoch 69/100\n",
      "469/469 [==============================] - 1s 2ms/step - loss: 0.0207 - accuracy: 0.8944 - mse: 0.0207\n",
      "Epoch 70/100\n",
      "469/469 [==============================] - 1s 2ms/step - loss: 0.0208 - accuracy: 0.8922 - mse: 0.0208\n",
      "Epoch 71/100\n",
      "469/469 [==============================] - 1s 2ms/step - loss: 0.0205 - accuracy: 0.8938 - mse: 0.0205\n",
      "Epoch 72/100\n",
      "469/469 [==============================] - 1s 2ms/step - loss: 0.0206 - accuracy: 0.8933 - mse: 0.0206\n",
      "Epoch 73/100\n",
      "469/469 [==============================] - 1s 2ms/step - loss: 0.0202 - accuracy: 0.8954 - mse: 0.0202\n",
      "Epoch 74/100\n",
      "469/469 [==============================] - 1s 2ms/step - loss: 0.0202 - accuracy: 0.8961 - mse: 0.0202\n",
      "Epoch 75/100\n",
      "469/469 [==============================] - 1s 2ms/step - loss: 0.0202 - accuracy: 0.8959 - mse: 0.0202\n",
      "Epoch 76/100\n",
      "469/469 [==============================] - 1s 2ms/step - loss: 0.0203 - accuracy: 0.8952 - mse: 0.0203\n",
      "Epoch 77/100\n",
      "469/469 [==============================] - 1s 2ms/step - loss: 0.0203 - accuracy: 0.8942 - mse: 0.0203\n",
      "Epoch 78/100\n",
      "469/469 [==============================] - 1s 2ms/step - loss: 0.0200 - accuracy: 0.8961 - mse: 0.0200\n",
      "Epoch 79/100\n",
      "469/469 [==============================] - 1s 2ms/step - loss: 0.0203 - accuracy: 0.8952 - mse: 0.0203\n",
      "Epoch 80/100\n",
      "469/469 [==============================] - 1s 2ms/step - loss: 0.0202 - accuracy: 0.8960 - mse: 0.0202\n",
      "Epoch 81/100\n",
      "469/469 [==============================] - 1s 2ms/step - loss: 0.0201 - accuracy: 0.8948 - mse: 0.0201\n",
      "Epoch 82/100\n",
      "469/469 [==============================] - 1s 2ms/step - loss: 0.0199 - accuracy: 0.8961 - mse: 0.0199\n",
      "Epoch 83/100\n",
      "469/469 [==============================] - 1s 2ms/step - loss: 0.0197 - accuracy: 0.8979 - mse: 0.0197\n",
      "Epoch 84/100\n",
      "469/469 [==============================] - 1s 2ms/step - loss: 0.0196 - accuracy: 0.8980 - mse: 0.0196\n",
      "Epoch 85/100\n",
      "469/469 [==============================] - 1s 2ms/step - loss: 0.0198 - accuracy: 0.8969 - mse: 0.0198\n",
      "Epoch 86/100\n",
      "469/469 [==============================] - 1s 2ms/step - loss: 0.0197 - accuracy: 0.8975 - mse: 0.0197\n",
      "Epoch 87/100\n",
      "469/469 [==============================] - 1s 2ms/step - loss: 0.0194 - accuracy: 0.8998 - mse: 0.0194\n",
      "Epoch 88/100\n",
      "469/469 [==============================] - 1s 2ms/step - loss: 0.0195 - accuracy: 0.8981 - mse: 0.0195\n",
      "Epoch 89/100\n",
      "469/469 [==============================] - 1s 2ms/step - loss: 0.0194 - accuracy: 0.8985 - mse: 0.0194\n",
      "Epoch 90/100\n",
      "469/469 [==============================] - 1s 2ms/step - loss: 0.0192 - accuracy: 0.9014 - mse: 0.0192\n",
      "Epoch 91/100\n",
      "469/469 [==============================] - 1s 2ms/step - loss: 0.0193 - accuracy: 0.8991 - mse: 0.0193\n",
      "Epoch 92/100\n",
      "469/469 [==============================] - 1s 2ms/step - loss: 0.0194 - accuracy: 0.8987 - mse: 0.0194\n",
      "Epoch 93/100\n",
      "469/469 [==============================] - 1s 2ms/step - loss: 0.0194 - accuracy: 0.8986 - mse: 0.0194\n",
      "Epoch 94/100\n",
      "469/469 [==============================] - 1s 2ms/step - loss: 0.0192 - accuracy: 0.9002 - mse: 0.0192\n",
      "Epoch 95/100\n",
      "469/469 [==============================] - 1s 2ms/step - loss: 0.0191 - accuracy: 0.9002 - mse: 0.0191\n",
      "Epoch 96/100\n",
      "469/469 [==============================] - 1s 2ms/step - loss: 0.0191 - accuracy: 0.8985 - mse: 0.0191\n",
      "Epoch 97/100\n",
      "469/469 [==============================] - 1s 2ms/step - loss: 0.0192 - accuracy: 0.8986 - mse: 0.0192\n",
      "Epoch 98/100\n",
      "469/469 [==============================] - 1s 2ms/step - loss: 0.0192 - accuracy: 0.8998 - mse: 0.0192\n",
      "Epoch 99/100\n",
      "469/469 [==============================] - 1s 2ms/step - loss: 0.0189 - accuracy: 0.9010 - mse: 0.0189\n",
      "Epoch 100/100\n",
      "469/469 [==============================] - 1s 2ms/step - loss: 0.0190 - accuracy: 0.9009 - mse: 0.0190\n",
      "[0.018019624054431915, 0.9070000052452087, 0.018019624054431915]\n"
     ]
    }
   ],
   "source": [
    "import tensorflow as tf\n",
    "import matplotlib.pyplot as plt\n",
    "\n",
    "batch_size = 128 # 가중치를 변경하기 전에 처리하는 샘플의 개수\n",
    "num_classes = 10 # 출력 클래스의 개수\n",
    "epochs = 100\n",
    "\n",
    "# 학습데이터와 테스트 데이터로 나눈다\n",
    "(x_train, y_train),(x_test, y_test) = tf.keras.datasets.mnist.load_data()\n",
    "\n",
    "# 입력 이미지를 2차원에서 1차원 벡터로 변경\n",
    "x_train = x_train.reshape(60000,784)\n",
    "x_test = x_test.reshape(10000,784)\n",
    "\n",
    "# 입력 이미지의 픽셀 값이 0.0에서 1.0 사이의 값\n",
    "x_train = x_train.astype('float32')\n",
    "x_test = x_test.astype('float32')\n",
    "x_train /= 255\n",
    "x_test /= 255\n",
    "\n",
    "# 클래스의 개수에 따라서 하나의 출력 픽셀만이 1\n",
    "# 예를 들면 1 0 0 0 0 0 0 0 0 0 과 같다\n",
    "\n",
    "y_train = tf.keras.utils.to_categorical(y_train, num_classes)\n",
    "y_test = tf.keras.utils.to_categorical(y_test, num_classes)\n",
    "\n",
    "# 신경망 모델 구축\n",
    "model = tf.keras.models.Sequential()\n",
    "model.add(tf.keras.layers.Dense(512, activation='sigmoid', input_shape=(784,)))\n",
    "model.add(tf.keras.layers.Dense(num_classes, activation='sigmoid'))\n",
    "\n",
    "model.summary()\n",
    "\n",
    "sgd = tf.keras.optimizers.SGD(lr=0.11)\n",
    "\n",
    "# 손실 함수를 제곱 오차 함수로 설정하고 학습 알고리즘은 SGD 방식으로 \n",
    "model.compile(loss='mean_squared_error', optimizer=sgd, metrics=['accuracy','mse'])\n",
    "\n",
    "# 학습수행\n",
    "history = model.fit(x_train, y_train, batch_size=batch_size, epochs=epochs)\n",
    "\n",
    "# 학습평가\n",
    "score = model.evaluate(x_test, y_test, verbose = 0)\n",
    "print(score)"
   ]
  },
  {
   "cell_type": "code",
   "execution_count": 71,
   "id": "afc97bb8",
   "metadata": {},
   "outputs": [
    {
     "name": "stdout",
     "output_type": "stream",
     "text": [
      "테스트 손실값 : 0.018051574006676674 , 테스트 정확도 : 0.9077000021934509\n"
     ]
    }
   ],
   "source": [
    "print(\"테스트 손실값 :\",score[0],\", 테스트 정확도 :\", score[1])"
   ]
  },
  {
   "cell_type": "code",
   "execution_count": null,
   "id": "af8ba1df",
   "metadata": {},
   "outputs": [],
   "source": []
  }
 ],
 "metadata": {
  "kernelspec": {
   "display_name": "Python 3",
   "language": "python",
   "name": "python3"
  },
  "language_info": {
   "codemirror_mode": {
    "name": "ipython",
    "version": 3
   },
   "file_extension": ".py",
   "mimetype": "text/x-python",
   "name": "python",
   "nbconvert_exporter": "python",
   "pygments_lexer": "ipython3",
   "version": "3.8.9"
  }
 },
 "nbformat": 4,
 "nbformat_minor": 5
}
