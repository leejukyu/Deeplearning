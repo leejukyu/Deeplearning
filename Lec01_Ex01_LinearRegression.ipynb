{
  "nbformat": 4,
  "nbformat_minor": 0,
  "metadata": {
    "colab": {
      "name": "Lec01_Ex01_LinearRegression.ipynb",
      "provenance": [],
      "collapsed_sections": [],
      "include_colab_link": true
    },
    "kernelspec": {
      "name": "python3",
      "display_name": "Python 3"
    }
  },
  "cells": [
    {
      "cell_type": "markdown",
      "metadata": {
        "id": "view-in-github",
        "colab_type": "text"
      },
      "source": [
        "<a href=\"https://colab.research.google.com/github/leejukyu/Deeplearning/blob/main/Lec01_Ex01_LinearRegression.ipynb\" target=\"_parent\"><img src=\"https://colab.research.google.com/assets/colab-badge.svg\" alt=\"Open In Colab\"/></a>"
      ]
    },
    {
      "cell_type": "code",
      "metadata": {
        "id": "MPYPTlOubhVd"
      },
      "source": [
        "## Codes are adapted from \"https://github.com/yunjey/pytorch-tutorial\""
      ],
      "execution_count": null,
      "outputs": []
    },
    {
      "cell_type": "markdown",
      "metadata": {
        "id": "8iOZBddV3Rvc"
      },
      "source": [
        "# 새 섹션"
      ]
    },
    {
      "cell_type": "code",
      "metadata": {
        "id": "yctK-Vh434wj"
      },
      "source": [
        "from google.colab import drive\n",
        "drive.mount('/content/drive')"
      ],
      "execution_count": null,
      "outputs": []
    },
    {
      "cell_type": "code",
      "metadata": {
        "id": "RenkHyXEbnMe",
        "colab": {
          "base_uri": "https://localhost:8080/"
        },
        "outputId": "f3479f7e-0c5a-4de7-e057-8da38ca8055c"
      },
      "source": [
        "cd '/content/drive/MyDrive/ColabNotebooks/Lecture/Pytorch/Codes' "
      ],
      "execution_count": null,
      "outputs": [
        {
          "output_type": "stream",
          "text": [
            "Mounted at /content/drive\n"
          ],
          "name": "stdout"
        }
      ]
    },
    {
      "cell_type": "code",
      "metadata": {
        "id": "c7mzN-R9minb",
        "colab": {
          "base_uri": "https://localhost:8080/"
        },
        "outputId": "f49f1ed8-5b3e-45e0-99a7-84d406e82374"
      },
      "source": [
        "import numpy as np\n",
        "import matplotlib.pyplot as plt\n",
        "import torch\n",
        "import torch.nn as nn\n",
        "\n",
        "# torch version\n",
        "print(torch.__version__)"
      ],
      "execution_count": null,
      "outputs": [
        {
          "output_type": "stream",
          "text": [
            "1.8.1+cu101\n"
          ],
          "name": "stdout"
        }
      ]
    },
    {
      "cell_type": "code",
      "metadata": {
        "id": "7Gbj2765mjBa",
        "colab": {
          "base_uri": "https://localhost:8080/"
        },
        "outputId": "f73809d6-fc2a-4b61-f7fa-00613a38a5e0"
      },
      "source": [
        "# Hyper-parameters\n",
        "print(\"==== 1.Hyper-parameters setting ====\")\n",
        "input_size = 1\n",
        "output_size = 1\n",
        "num_epochs = 600\n",
        "learning_rate = 0.001"
      ],
      "execution_count": null,
      "outputs": [
        {
          "output_type": "stream",
          "text": [
            "==== 1.Hyper-parameters setting ====\n"
          ],
          "name": "stdout"
        }
      ]
    },
    {
      "cell_type": "code",
      "metadata": {
        "id": "gYtz_W5fmjEJ",
        "colab": {
          "base_uri": "https://localhost:8080/"
        },
        "outputId": "df39c24b-7e9c-4734-b516-b1b441b8362e"
      },
      "source": [
        "# Toy dataset\n",
        "print(\"==== 2. Toy dataset ====\")\n",
        "x_train = np.array([[3.3], [4.4], [5.5], [6.71], [6.93], [4.168], \n",
        "                    [9.779], [6.182], [7.59], [2.167], [7.042], \n",
        "                    [10.791], [5.313], [7.997], [3.1]], dtype=np.float32)\n",
        "\n",
        "y_train = np.array([[1.7], [2.76], [2.09], [3.19], [1.694], [1.573], \n",
        "                    [3.366], [2.596], [2.53], [1.221], [2.827], \n",
        "                    [3.465], [1.65], [2.904], [1.3]], dtype=np.float32)"
      ],
      "execution_count": null,
      "outputs": [
        {
          "output_type": "stream",
          "text": [
            "==== 2. Toy dataset ====\n"
          ],
          "name": "stdout"
        }
      ]
    },
    {
      "cell_type": "code",
      "metadata": {
        "id": "zPkkdeDzmjHS",
        "colab": {
          "base_uri": "https://localhost:8080/"
        },
        "outputId": "4fb4493c-c31d-437d-a1bd-f57fa824a353"
      },
      "source": [
        "# Linear regression model\n",
        "print(\"==== 3. Linear regression model ====\")\n",
        "model = nn.Linear(input_size, output_size)\n"
      ],
      "execution_count": null,
      "outputs": [
        {
          "output_type": "stream",
          "text": [
            "==== 3. Linear regression model ====\n"
          ],
          "name": "stdout"
        }
      ]
    },
    {
      "cell_type": "code",
      "metadata": {
        "id": "jyIq0tZCmjKT",
        "colab": {
          "base_uri": "https://localhost:8080/"
        },
        "outputId": "7410449e-eefb-4a96-ed67-d3b9e343e8e1"
      },
      "source": [
        "# Loss and optimizer\n",
        "print(\"==== 4. Loss and optimizer ====\")\n",
        "criterion = nn.MSELoss()\n",
        "optimizer = torch.optim.SGD(model.parameters(), lr=learning_rate)  \n"
      ],
      "execution_count": null,
      "outputs": [
        {
          "output_type": "stream",
          "text": [
            "==== 4. Loss and optimizer ====\n"
          ],
          "name": "stdout"
        }
      ]
    },
    {
      "cell_type": "code",
      "metadata": {
        "id": "5im4u2Y_mjNK",
        "colab": {
          "base_uri": "https://localhost:8080/"
        },
        "outputId": "af6af2ad-f886-488b-cfb6-a4b608637450"
      },
      "source": [
        "# Train the model\n",
        "print(\"==== 5. Train the model ====\")\n",
        "for epoch in range(num_epochs):\n",
        "    \n",
        "    # Convert numpy arrays to torch tensors\n",
        "    inputs = torch.from_numpy(x_train)\n",
        "    targets = torch.from_numpy(y_train)\n",
        "\n",
        "    # Forward pass\n",
        "    outputs = model(inputs)\n",
        "    loss = criterion(outputs, targets)\n",
        "    \n",
        "    # Backward and optimize\n",
        "    optimizer.zero_grad()\n",
        "    loss.backward()\n",
        "    optimizer.step()\n",
        "    \n",
        "    if (epoch+1) % 5 == 0:\n",
        "        print ('Epoch [{}/{}], Loss: {:.4f}'.format(epoch+1, num_epochs, loss.item()))\n"
      ],
      "execution_count": null,
      "outputs": [
        {
          "output_type": "stream",
          "text": [
            "==== 5. Train the model ====\n",
            "Epoch [5/600], Loss: 9.1085\n",
            "Epoch [10/600], Loss: 3.8170\n",
            "Epoch [15/600], Loss: 1.6733\n",
            "Epoch [20/600], Loss: 0.8048\n",
            "Epoch [25/600], Loss: 0.4528\n",
            "Epoch [30/600], Loss: 0.3102\n",
            "Epoch [35/600], Loss: 0.2523\n",
            "Epoch [40/600], Loss: 0.2288\n",
            "Epoch [45/600], Loss: 0.2193\n",
            "Epoch [50/600], Loss: 0.2153\n",
            "Epoch [55/600], Loss: 0.2136\n",
            "Epoch [60/600], Loss: 0.2129\n",
            "Epoch [65/600], Loss: 0.2125\n",
            "Epoch [70/600], Loss: 0.2123\n",
            "Epoch [75/600], Loss: 0.2122\n",
            "Epoch [80/600], Loss: 0.2120\n",
            "Epoch [85/600], Loss: 0.2119\n",
            "Epoch [90/600], Loss: 0.2118\n",
            "Epoch [95/600], Loss: 0.2117\n",
            "Epoch [100/600], Loss: 0.2116\n",
            "Epoch [105/600], Loss: 0.2115\n",
            "Epoch [110/600], Loss: 0.2114\n",
            "Epoch [115/600], Loss: 0.2112\n",
            "Epoch [120/600], Loss: 0.2111\n",
            "Epoch [125/600], Loss: 0.2110\n",
            "Epoch [130/600], Loss: 0.2109\n",
            "Epoch [135/600], Loss: 0.2108\n",
            "Epoch [140/600], Loss: 0.2107\n",
            "Epoch [145/600], Loss: 0.2106\n",
            "Epoch [150/600], Loss: 0.2105\n",
            "Epoch [155/600], Loss: 0.2104\n",
            "Epoch [160/600], Loss: 0.2103\n",
            "Epoch [165/600], Loss: 0.2102\n",
            "Epoch [170/600], Loss: 0.2101\n",
            "Epoch [175/600], Loss: 0.2100\n",
            "Epoch [180/600], Loss: 0.2099\n",
            "Epoch [185/600], Loss: 0.2098\n",
            "Epoch [190/600], Loss: 0.2096\n",
            "Epoch [195/600], Loss: 0.2095\n",
            "Epoch [200/600], Loss: 0.2094\n",
            "Epoch [205/600], Loss: 0.2093\n",
            "Epoch [210/600], Loss: 0.2092\n",
            "Epoch [215/600], Loss: 0.2091\n",
            "Epoch [220/600], Loss: 0.2090\n",
            "Epoch [225/600], Loss: 0.2089\n",
            "Epoch [230/600], Loss: 0.2088\n",
            "Epoch [235/600], Loss: 0.2087\n",
            "Epoch [240/600], Loss: 0.2086\n",
            "Epoch [245/600], Loss: 0.2085\n",
            "Epoch [250/600], Loss: 0.2084\n",
            "Epoch [255/600], Loss: 0.2083\n",
            "Epoch [260/600], Loss: 0.2082\n",
            "Epoch [265/600], Loss: 0.2081\n",
            "Epoch [270/600], Loss: 0.2080\n",
            "Epoch [275/600], Loss: 0.2079\n",
            "Epoch [280/600], Loss: 0.2078\n",
            "Epoch [285/600], Loss: 0.2077\n",
            "Epoch [290/600], Loss: 0.2076\n",
            "Epoch [295/600], Loss: 0.2075\n",
            "Epoch [300/600], Loss: 0.2074\n",
            "Epoch [305/600], Loss: 0.2073\n",
            "Epoch [310/600], Loss: 0.2072\n",
            "Epoch [315/600], Loss: 0.2071\n",
            "Epoch [320/600], Loss: 0.2070\n",
            "Epoch [325/600], Loss: 0.2069\n",
            "Epoch [330/600], Loss: 0.2068\n",
            "Epoch [335/600], Loss: 0.2067\n",
            "Epoch [340/600], Loss: 0.2066\n",
            "Epoch [345/600], Loss: 0.2065\n",
            "Epoch [350/600], Loss: 0.2064\n",
            "Epoch [355/600], Loss: 0.2063\n",
            "Epoch [360/600], Loss: 0.2062\n",
            "Epoch [365/600], Loss: 0.2061\n",
            "Epoch [370/600], Loss: 0.2060\n",
            "Epoch [375/600], Loss: 0.2060\n",
            "Epoch [380/600], Loss: 0.2059\n",
            "Epoch [385/600], Loss: 0.2058\n",
            "Epoch [390/600], Loss: 0.2057\n",
            "Epoch [395/600], Loss: 0.2056\n",
            "Epoch [400/600], Loss: 0.2055\n",
            "Epoch [405/600], Loss: 0.2054\n",
            "Epoch [410/600], Loss: 0.2053\n",
            "Epoch [415/600], Loss: 0.2052\n",
            "Epoch [420/600], Loss: 0.2051\n",
            "Epoch [425/600], Loss: 0.2050\n",
            "Epoch [430/600], Loss: 0.2049\n",
            "Epoch [435/600], Loss: 0.2048\n",
            "Epoch [440/600], Loss: 0.2047\n",
            "Epoch [445/600], Loss: 0.2046\n",
            "Epoch [450/600], Loss: 0.2046\n",
            "Epoch [455/600], Loss: 0.2045\n",
            "Epoch [460/600], Loss: 0.2044\n",
            "Epoch [465/600], Loss: 0.2043\n",
            "Epoch [470/600], Loss: 0.2042\n",
            "Epoch [475/600], Loss: 0.2041\n",
            "Epoch [480/600], Loss: 0.2040\n",
            "Epoch [485/600], Loss: 0.2039\n",
            "Epoch [490/600], Loss: 0.2038\n",
            "Epoch [495/600], Loss: 0.2037\n",
            "Epoch [500/600], Loss: 0.2037\n",
            "Epoch [505/600], Loss: 0.2036\n",
            "Epoch [510/600], Loss: 0.2035\n",
            "Epoch [515/600], Loss: 0.2034\n",
            "Epoch [520/600], Loss: 0.2033\n",
            "Epoch [525/600], Loss: 0.2032\n",
            "Epoch [530/600], Loss: 0.2031\n",
            "Epoch [535/600], Loss: 0.2030\n",
            "Epoch [540/600], Loss: 0.2029\n",
            "Epoch [545/600], Loss: 0.2029\n",
            "Epoch [550/600], Loss: 0.2028\n",
            "Epoch [555/600], Loss: 0.2027\n",
            "Epoch [560/600], Loss: 0.2026\n",
            "Epoch [565/600], Loss: 0.2025\n",
            "Epoch [570/600], Loss: 0.2024\n",
            "Epoch [575/600], Loss: 0.2023\n",
            "Epoch [580/600], Loss: 0.2023\n",
            "Epoch [585/600], Loss: 0.2022\n",
            "Epoch [590/600], Loss: 0.2021\n",
            "Epoch [595/600], Loss: 0.2020\n",
            "Epoch [600/600], Loss: 0.2019\n"
          ],
          "name": "stdout"
        }
      ]
    },
    {
      "cell_type": "code",
      "metadata": {
        "id": "h-ZmpATgmjPy",
        "colab": {
          "base_uri": "https://localhost:8080/",
          "height": 284
        },
        "outputId": "344addeb-a17b-4d65-f54a-46d2ac4254bb"
      },
      "source": [
        "#Plot the graph\n",
        "print(\"==== 6. Plot the graph ====\")\n",
        "predicted = model(torch.from_numpy(x_train)).detach().numpy()\n",
        "plt.plot(x_train, y_train, 'ro', label='Original data')\n",
        "plt.plot(x_train, predicted, label='Fitted line')\n",
        "plt.legend()\n",
        "plt.show()\n"
      ],
      "execution_count": null,
      "outputs": [
        {
          "output_type": "stream",
          "text": [
            "==== 6. Plot the graph ====\n"
          ],
          "name": "stdout"
        },
        {
          "output_type": "display_data",
          "data": {
            "image/png": "[encoded data removed]",
            "text/plain": [
              "<Figure size 432x288 with 1 Axes>"
            ]
          },
          "metadata": {
            "tags": [],
            "needs_background": "light"
          }
        }
      ]
    },
    {
      "cell_type": "code",
      "metadata": {
        "id": "Y8NLkZlymjSp",
        "colab": {
          "base_uri": "https://localhost:8080/"
        },
        "outputId": "fd6ca059-a5de-4f70-a41b-50e54707feb6"
      },
      "source": [
        "# Save the model checkpoint\n",
        "print(\"==== 7. Save the model checkpoint ====\")\n",
        "torch.save(model.state_dict(), 'model.ckpt')\n",
        "\n",
        "print(\"==== End ====\")\n",
        "print(\"             \")"
      ],
      "execution_count": null,
      "outputs": [
        {
          "output_type": "stream",
          "text": [
            "==== 7. Save the model checkpoint ====\n",
            "==== End ====\n",
            "             \n"
          ],
          "name": "stdout"
        }
      ]
    },
    {
      "cell_type": "code",
      "metadata": {
        "id": "fUmoyPnPnkMj"
      },
      "source": [
        ""
      ],
      "execution_count": null,
      "outputs": []
    }
  ]
}