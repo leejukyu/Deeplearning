{
  "nbformat": 4,
  "nbformat_minor": 0,
  "metadata": {
    "accelerator": "GPU",
    "colab": {
      "name": "VGG 조별과제.ipynb",
      "provenance": [],
      "collapsed_sections": [],
      "machine_shape": "hm",
      "include_colab_link": true
    },
    "kernelspec": {
      "display_name": "Python 3",
      "name": "python3"
    },
    "language_info": {
      "name": "python"
    },
    "widgets": {
      "application/vnd.jupyter.widget-state+json": {
        "a260da2214da4f67bb84f93aebed429a": {
          "model_module": "@jupyter-widgets/controls",
          "model_name": "HBoxModel",
          "state": {
            "_view_name": "HBoxView",
            "_dom_classes": [],
            "_model_name": "HBoxModel",
            "_view_module": "@jupyter-widgets/controls",
            "_model_module_version": "1.5.0",
            "_view_count": null,
            "_view_module_version": "1.5.0",
            "box_style": "",
            "layout": "IPY_MODEL_eae242f13b8d41bfae62c868005c17ac",
            "_model_module": "@jupyter-widgets/controls",
            "children": [
              "IPY_MODEL_54898c7416394568a8ba693ab73005bb",
              "IPY_MODEL_714c7901a54a44529b55c3e7b96cfcbb"
            ]
          }
        },
        "eae242f13b8d41bfae62c868005c17ac": {
          "model_module": "@jupyter-widgets/base",
          "model_name": "LayoutModel",
          "state": {
            "_view_name": "LayoutView",
            "grid_template_rows": null,
            "right": null,
            "justify_content": null,
            "_view_module": "@jupyter-widgets/base",
            "overflow": null,
            "_model_module_version": "1.2.0",
            "_view_count": null,
            "flex_flow": null,
            "width": null,
            "min_width": null,
            "border": null,
            "align_items": null,
            "bottom": null,
            "_model_module": "@jupyter-widgets/base",
            "top": null,
            "grid_column": null,
            "overflow_y": null,
            "overflow_x": null,
            "grid_auto_flow": null,
            "grid_area": null,
            "grid_template_columns": null,
            "flex": null,
            "_model_name": "LayoutModel",
            "justify_items": null,
            "grid_row": null,
            "max_height": null,
            "align_content": null,
            "visibility": null,
            "align_self": null,
            "height": null,
            "min_height": null,
            "padding": null,
            "grid_auto_rows": null,
            "grid_gap": null,
            "max_width": null,
            "order": null,
            "_view_module_version": "1.2.0",
            "grid_template_areas": null,
            "object_position": null,
            "object_fit": null,
            "grid_auto_columns": null,
            "margin": null,
            "display": null,
            "left": null
          }
        },
        "54898c7416394568a8ba693ab73005bb": {
          "model_module": "@jupyter-widgets/controls",
          "model_name": "FloatProgressModel",
          "state": {
            "_view_name": "ProgressView",
            "style": "IPY_MODEL_f3dd375fd4604b7fbc1ea9d64e58b571",
            "_dom_classes": [],
            "description": "",
            "_model_name": "FloatProgressModel",
            "bar_style": "success",
            "max": 170498071,
            "_view_module": "@jupyter-widgets/controls",
            "_model_module_version": "1.5.0",
            "value": 170498071,
            "_view_count": null,
            "_view_module_version": "1.5.0",
            "orientation": "horizontal",
            "min": 0,
            "description_tooltip": null,
            "_model_module": "@jupyter-widgets/controls",
            "layout": "IPY_MODEL_6e64062cd89a4aac8f43a72ab9a6eec5"
          }
        },
        "714c7901a54a44529b55c3e7b96cfcbb": {
          "model_module": "@jupyter-widgets/controls",
          "model_name": "HTMLModel",
          "state": {
            "_view_name": "HTMLView",
            "style": "IPY_MODEL_ccd2c17128b84ee9a502252b6b1d76db",
            "_dom_classes": [],
            "description": "",
            "_model_name": "HTMLModel",
            "placeholder": "​",
            "_view_module": "@jupyter-widgets/controls",
            "_model_module_version": "1.5.0",
            "value": " 170499072/? [00:11&lt;00:00, 14658142.26it/s]",
            "_view_count": null,
            "_view_module_version": "1.5.0",
            "description_tooltip": null,
            "_model_module": "@jupyter-widgets/controls",
            "layout": "IPY_MODEL_3ef2d562fb9549629de5be3b34ec14ee"
          }
        },
        "f3dd375fd4604b7fbc1ea9d64e58b571": {
          "model_module": "@jupyter-widgets/controls",
          "model_name": "ProgressStyleModel",
          "state": {
            "_view_name": "StyleView",
            "_model_name": "ProgressStyleModel",
            "description_width": "initial",
            "_view_module": "@jupyter-widgets/base",
            "_model_module_version": "1.5.0",
            "_view_count": null,
            "_view_module_version": "1.2.0",
            "bar_color": null,
            "_model_module": "@jupyter-widgets/controls"
          }
        },
        "6e64062cd89a4aac8f43a72ab9a6eec5": {
          "model_module": "@jupyter-widgets/base",
          "model_name": "LayoutModel",
          "state": {
            "_view_name": "LayoutView",
            "grid_template_rows": null,
            "right": null,
            "justify_content": null,
            "_view_module": "@jupyter-widgets/base",
            "overflow": null,
            "_model_module_version": "1.2.0",
            "_view_count": null,
            "flex_flow": null,
            "width": null,
            "min_width": null,
            "border": null,
            "align_items": null,
            "bottom": null,
            "_model_module": "@jupyter-widgets/base",
            "top": null,
            "grid_column": null,
            "overflow_y": null,
            "overflow_x": null,
            "grid_auto_flow": null,
            "grid_area": null,
            "grid_template_columns": null,
            "flex": null,
            "_model_name": "LayoutModel",
            "justify_items": null,
            "grid_row": null,
            "max_height": null,
            "align_content": null,
            "visibility": null,
            "align_self": null,
            "height": null,
            "min_height": null,
            "padding": null,
            "grid_auto_rows": null,
            "grid_gap": null,
            "max_width": null,
            "order": null,
            "_view_module_version": "1.2.0",
            "grid_template_areas": null,
            "object_position": null,
            "object_fit": null,
            "grid_auto_columns": null,
            "margin": null,
            "display": null,
            "left": null
          }
        },
        "ccd2c17128b84ee9a502252b6b1d76db": {
          "model_module": "@jupyter-widgets/controls",
          "model_name": "DescriptionStyleModel",
          "state": {
            "_view_name": "StyleView",
            "_model_name": "DescriptionStyleModel",
            "description_width": "",
            "_view_module": "@jupyter-widgets/base",
            "_model_module_version": "1.5.0",
            "_view_count": null,
            "_view_module_version": "1.2.0",
            "_model_module": "@jupyter-widgets/controls"
          }
        },
        "3ef2d562fb9549629de5be3b34ec14ee": {
          "model_module": "@jupyter-widgets/base",
          "model_name": "LayoutModel",
          "state": {
            "_view_name": "LayoutView",
            "grid_template_rows": null,
            "right": null,
            "justify_content": null,
            "_view_module": "@jupyter-widgets/base",
            "overflow": null,
            "_model_module_version": "1.2.0",
            "_view_count": null,
            "flex_flow": null,
            "width": null,
            "min_width": null,
            "border": null,
            "align_items": null,
            "bottom": null,
            "_model_module": "@jupyter-widgets/base",
            "top": null,
            "grid_column": null,
            "overflow_y": null,
            "overflow_x": null,
            "grid_auto_flow": null,
            "grid_area": null,
            "grid_template_columns": null,
            "flex": null,
            "_model_name": "LayoutModel",
            "justify_items": null,
            "grid_row": null,
            "max_height": null,
            "align_content": null,
            "visibility": null,
            "align_self": null,
            "height": null,
            "min_height": null,
            "padding": null,
            "grid_auto_rows": null,
            "grid_gap": null,
            "max_width": null,
            "order": null,
            "_view_module_version": "1.2.0",
            "grid_template_areas": null,
            "object_position": null,
            "object_fit": null,
            "grid_auto_columns": null,
            "margin": null,
            "display": null,
            "left": null
          }
        }
      }
    }
  },
  "cells": [
    {
      "cell_type": "markdown",
      "metadata": {
        "id": "view-in-github",
        "colab_type": "text"
      },
      "source": [
        "<a href=\"https://colab.research.google.com/github/leejukyu/Deeplearning/blob/main/VGG_%EC%A1%B0%EB%B3%84%EA%B3%BC%EC%A0%9C.ipynb\" target=\"_parent\"><img src=\"https://colab.research.google.com/assets/colab-badge.svg\" alt=\"Open In Colab\"/></a>"
      ]
    },
    {
      "cell_type": "markdown",
      "metadata": {
        "id": "i2xQw01jpDgU"
      },
      "source": [
        "# **3조 (강소현,강승훈,공길정,이주경)**"
      ]
    },
    {
      "cell_type": "code",
      "metadata": {
        "id": "gEGfJhr8j7sQ"
      },
      "source": [
        "import torch\n",
        "import torch.nn as nn\n",
        "import torch.optim as optim\n",
        "import torch.nn.init as init\n",
        "import torchvision\n",
        "import torchvision.transforms as transforms\n",
        "\n",
        "import numpy as np\n",
        "import matplotlib.pyplot as plt"
      ],
      "execution_count": null,
      "outputs": []
    },
    {
      "cell_type": "markdown",
      "metadata": {
        "id": "eXFlaJXrq003"
      },
      "source": [
        "## *** Dataset 구성**"
      ]
    },
    {
      "cell_type": "markdown",
      "metadata": {
        "id": "JJbbHuUhojC9"
      },
      "source": [
        "1. batch_size = 100\n",
        "2. epoch = 10\n",
        "3. learning_rate = 0.001"
      ]
    },
    {
      "cell_type": "code",
      "metadata": {
        "id": "1Cl9-DzprY0R"
      },
      "source": [
        "# hyper parameter\n",
        "num_epochs = 10\n",
        "batch_size = 100\n",
        "learning_rate = 0.001\n",
        "num_classes = 10"
      ],
      "execution_count": null,
      "outputs": []
    },
    {
      "cell_type": "code",
      "metadata": {
        "id": "K8grNCLzqCxZ"
      },
      "source": [
        "# dataset 구성 전처리 및 argumentation\n",
        "transform_train= transforms.Compose([\n",
        "    transforms.RandomCrop(32, padding=4), # prediect할땐 필요없음\n",
        "    transforms.RandomHorizontalFlip(),    # prediect할땐 필요없음\n",
        "    transforms.ToTensor(),\n",
        "    transforms.Normalize((0.4914, 0.4822, 0.4465), (0.2023, 0.1994, 0.2010)),\n",
        "])\n",
        "\n",
        "transform_test= transforms.Compose([\n",
        "    transforms.ToTensor(),\n",
        "    transforms.Normalize((0.4914, 0.4822, 0.4465), (0.2023, 0.1994, 0.2010)),\n",
        "])"
      ],
      "execution_count": null,
      "outputs": []
    },
    {
      "cell_type": "code",
      "metadata": {
        "colab": {
          "base_uri": "https://localhost:8080/",
          "height": 102,
          "referenced_widgets": [
            "a260da2214da4f67bb84f93aebed429a",
            "eae242f13b8d41bfae62c868005c17ac",
            "54898c7416394568a8ba693ab73005bb",
            "714c7901a54a44529b55c3e7b96cfcbb",
            "f3dd375fd4604b7fbc1ea9d64e58b571",
            "6e64062cd89a4aac8f43a72ab9a6eec5",
            "ccd2c17128b84ee9a502252b6b1d76db",
            "3ef2d562fb9549629de5be3b34ec14ee"
          ]
        },
        "id": "wLxWdgIpqsmz",
        "outputId": "de6e96af-0f73-48e7-8ac4-7adf58010329"
      },
      "source": [
        "# train dataset\n",
        "train_dataset = torchvision.datasets.CIFAR10(root='./data/',\n",
        "                                             train=True, \n",
        "                                             transform=transform_train,\n",
        "                                             download=True)\n",
        "\n",
        "train_loader = torch.utils.data.DataLoader(dataset=train_dataset,\n",
        "                                           batch_size=batch_size, \n",
        "                                           shuffle=True,\n",
        "                                           num_workers=2)\n",
        "\n",
        "# test dataset\n",
        "test_dataset = torchvision.datasets.CIFAR10(root='./data/',\n",
        "                                            train=False, \n",
        "                                            transform=transform_test)\n",
        "\n",
        "test_loader = torch.utils.data.DataLoader(dataset=test_dataset,\n",
        "                                          batch_size=batch_size, \n",
        "                                          shuffle=False,\n",
        "                                          num_workers=2)"
      ],
      "execution_count": null,
      "outputs": [
        {
          "output_type": "stream",
          "text": [
            "Downloading https://www.cs.toronto.edu/~kriz/cifar-10-python.tar.gz to ./data/cifar-10-python.tar.gz\n"
          ],
          "name": "stdout"
        },
        {
          "output_type": "display_data",
          "data": {
            "application/vnd.jupyter.widget-view+json": {
              "model_id": "a260da2214da4f67bb84f93aebed429a",
              "version_minor": 0,
              "version_major": 2
            },
            "text/plain": [
              "HBox(children=(FloatProgress(value=0.0, max=170498071.0), HTML(value='')))"
            ]
          },
          "metadata": {
            "tags": []
          }
        },
        {
          "output_type": "stream",
          "text": [
            "\n",
            "Extracting ./data/cifar-10-python.tar.gz to ./data/\n"
          ],
          "name": "stdout"
        }
      ]
    },
    {
      "cell_type": "code",
      "metadata": {
        "colab": {
          "base_uri": "https://localhost:8080/"
        },
        "id": "eHuuS6rMrfqJ",
        "outputId": "8285963c-dd1a-4935-ad6f-cf7a40c607fa"
      },
      "source": [
        "# 데이터 확인\n",
        "print(train_dataset.__getitem__(0)[0].size(), train_dataset.__len__())\n",
        "print(test_dataset.__getitem__(0)[0].size(), test_dataset.__len__())"
      ],
      "execution_count": null,
      "outputs": [
        {
          "output_type": "stream",
          "text": [
            "torch.Size([3, 32, 32]) 50000\n",
            "torch.Size([3, 32, 32]) 10000\n"
          ],
          "name": "stdout"
        }
      ]
    },
    {
      "cell_type": "code",
      "metadata": {
        "colab": {
          "base_uri": "https://localhost:8080/",
          "height": 265
        },
        "id": "Ft8payLKXDQR",
        "outputId": "5f7bc181-51ec-459b-f93e-5cf06b1e2292"
      },
      "source": [
        "for data in train_dataset:\n",
        "    img, label = data\n",
        "    plt.imshow(torchvision.utils.make_grid(img, nrow=2, normalize=True).permute(1, 2, 0))\n",
        "    plt.show()\n",
        "    break"
      ],
      "execution_count": null,
      "outputs": [
        {
          "output_type": "display_data",
          "data": {
            "image/png": "[encoded data removed]",
            "text/plain": [
              "<Figure size 432x288 with 1 Axes>"
            ]
          },
          "metadata": {
            "tags": [],
            "needs_background": "light"
          }
        }
      ]
    },
    {
      "cell_type": "markdown",
      "metadata": {
        "id": "8kt44e2RwCae"
      },
      "source": [
        "## *** Conv 설정**"
      ]
    },
    {
      "cell_type": "markdown",
      "metadata": {
        "id": "gufRedcpgIlP"
      },
      "source": [
        "1. Convolution 3x3 size, padding = 1 설정\n",
        "2. batch normalization, Relu 추가"
      ]
    },
    {
      "cell_type": "code",
      "metadata": {
        "id": "U5RaYnQ2uGpd"
      },
      "source": [
        "# Convolution 2번\n",
        "def conv_2(input_dim, output_dim):\n",
        "    model = nn.Sequential(\n",
        "        nn.Conv2d(input_dim, output_dim, kernel_size=3, padding=1),\n",
        "        nn.BatchNorm2d(output_dim),\n",
        "        nn.ReLU(True),\n",
        "\n",
        "        nn.Conv2d(output_dim, output_dim, kernel_size=3, padding=1),\n",
        "        nn.BatchNorm2d(output_dim),\n",
        "        nn.ReLU(True),\n",
        "        nn.MaxPool2d(2,2)\n",
        "    )\n",
        "    return model\n",
        "\n",
        "# Convolution 4번\n",
        "def conv_4(input_dim, output_dim):\n",
        "    model = nn.Sequential(\n",
        "        nn.Conv2d(input_dim, output_dim,kernel_size=3, padding=1),\n",
        "        nn.BatchNorm2d(output_dim),\n",
        "        nn.ReLU(True),\n",
        "\n",
        "        nn.Conv2d(output_dim, output_dim, kernel_size=3, padding=1),\n",
        "        nn.BatchNorm2d(output_dim),\n",
        "        nn.ReLU(True),\n",
        "\n",
        "        nn.Conv2d(output_dim, output_dim, kernel_size=3, padding=1),\n",
        "        nn.BatchNorm2d(output_dim),\n",
        "        nn.ReLU(True),\n",
        "\n",
        "        nn.Conv2d(output_dim, output_dim,kernel_size=3, padding=1),\n",
        "        nn.BatchNorm2d(output_dim),\n",
        "        nn.ReLU(True),\n",
        "        nn.MaxPool2d(2,2)\n",
        "    )\n",
        "    return model"
      ],
      "execution_count": null,
      "outputs": []
    },
    {
      "cell_type": "markdown",
      "metadata": {
        "id": "kmPeiRSshcsP"
      },
      "source": [
        "1. 마지막 FC layer FC -10\n",
        "2. FC마다 dropout (p = 0.2) 추가 (마지막 FC 제외)"
      ]
    },
    {
      "cell_type": "code",
      "metadata": {
        "id": "ch--wkG95QAs"
      },
      "source": [
        "class VGG_E(nn.Module):\n",
        "    def __init__(self, base_dim, num_classes=10):\n",
        "        super(VGG_E, self).__init__()\n",
        "        self.feature = nn.Sequential(\n",
        "            # 32 * 32\n",
        "            conv_2(3, base_dim), # 16 * 16\n",
        "            conv_2(base_dim, 2*base_dim), # 8 * 8\n",
        "            conv_4(2*base_dim, 4*base_dim), # 4 * 4\n",
        "            conv_4(4*base_dim, 8*base_dim), # 2 * 2\n",
        "            conv_4(8*base_dim, 8*base_dim), # 1 * 1         \n",
        "        )\n",
        "        \n",
        "        # FC layer\n",
        "        self.fc_layer = nn.Sequential(\n",
        "            nn.Linear(8*base_dim * 1 * 1, 1000),  # FC layer - 1000\n",
        "            nn.ReLU(True), \n",
        "            nn.Dropout(0.2),                                                    \n",
        "\n",
        "            nn.Linear(1000, 500), # FC layer - 500\n",
        "            nn.ReLU(True),\n",
        "            nn.Dropout(0.2),\n",
        "\n",
        "            nn.Linear(500, num_classes), # FC layer - 10\n",
        "        )\n",
        "\n",
        "    def forward(self, x):\n",
        "        out = self.feature(x)\n",
        "        out = out.view(batch_size, -1)                             \n",
        "        out = self.fc_layer(out)\n",
        "        return out\n",
        "    "
      ],
      "execution_count": null,
      "outputs": []
    },
    {
      "cell_type": "markdown",
      "metadata": {
        "id": "YftCWj0xgXFj"
      },
      "source": [
        "## *** Cross Entropy loss / Adam optimization**"
      ]
    },
    {
      "cell_type": "code",
      "metadata": {
        "colab": {
          "base_uri": "https://localhost:8080/"
        },
        "id": "qdBEMmCI_svF",
        "outputId": "1d3ca7e5-43f5-4460-b0ba-d408347c1938"
      },
      "source": [
        "# GPU에서 수행\n",
        "device = torch.device(\"cuda:0\" if torch.cuda.is_available() else \"cpu\")\n",
        "# print(device)\n",
        "\n",
        "# conv3 = 64\n",
        "model = VGG_E(base_dim = 64)\n",
        "model = model.to(device)\n",
        "\n",
        "# learning_rate = 0.001\n",
        "criterion = nn.CrossEntropyLoss()\n",
        "optimizer = torch.optim.Adam(model.parameters(), lr=learning_rate)\n",
        "\n",
        "for i in model.named_children():\n",
        "    print(i)"
      ],
      "execution_count": null,
      "outputs": [
        {
          "output_type": "stream",
          "text": [
            "('feature', Sequential(\n",
            "  (0): Sequential(\n",
            "    (0): Conv2d(3, 64, kernel_size=(3, 3), stride=(1, 1), padding=(1, 1))\n",
            "    (1): BatchNorm2d(64, eps=1e-05, momentum=0.1, affine=True, track_running_stats=True)\n",
            "    (2): ReLU(inplace=True)\n",
            "    (3): Conv2d(64, 64, kernel_size=(3, 3), stride=(1, 1), padding=(1, 1))\n",
            "    (4): BatchNorm2d(64, eps=1e-05, momentum=0.1, affine=True, track_running_stats=True)\n",
            "    (5): ReLU(inplace=True)\n",
            "    (6): MaxPool2d(kernel_size=2, stride=2, padding=0, dilation=1, ceil_mode=False)\n",
            "  )\n",
            "  (1): Sequential(\n",
            "    (0): Conv2d(64, 128, kernel_size=(3, 3), stride=(1, 1), padding=(1, 1))\n",
            "    (1): BatchNorm2d(128, eps=1e-05, momentum=0.1, affine=True, track_running_stats=True)\n",
            "    (2): ReLU(inplace=True)\n",
            "    (3): Conv2d(128, 128, kernel_size=(3, 3), stride=(1, 1), padding=(1, 1))\n",
            "    (4): BatchNorm2d(128, eps=1e-05, momentum=0.1, affine=True, track_running_stats=True)\n",
            "    (5): ReLU(inplace=True)\n",
            "    (6): MaxPool2d(kernel_size=2, stride=2, padding=0, dilation=1, ceil_mode=False)\n",
            "  )\n",
            "  (2): Sequential(\n",
            "    (0): Conv2d(128, 256, kernel_size=(3, 3), stride=(1, 1), padding=(1, 1))\n",
            "    (1): BatchNorm2d(256, eps=1e-05, momentum=0.1, affine=True, track_running_stats=True)\n",
            "    (2): ReLU(inplace=True)\n",
            "    (3): Conv2d(256, 256, kernel_size=(3, 3), stride=(1, 1), padding=(1, 1))\n",
            "    (4): BatchNorm2d(256, eps=1e-05, momentum=0.1, affine=True, track_running_stats=True)\n",
            "    (5): ReLU(inplace=True)\n",
            "    (6): Conv2d(256, 256, kernel_size=(3, 3), stride=(1, 1), padding=(1, 1))\n",
            "    (7): BatchNorm2d(256, eps=1e-05, momentum=0.1, affine=True, track_running_stats=True)\n",
            "    (8): ReLU(inplace=True)\n",
            "    (9): Conv2d(256, 256, kernel_size=(3, 3), stride=(1, 1), padding=(1, 1))\n",
            "    (10): BatchNorm2d(256, eps=1e-05, momentum=0.1, affine=True, track_running_stats=True)\n",
            "    (11): ReLU(inplace=True)\n",
            "    (12): MaxPool2d(kernel_size=2, stride=2, padding=0, dilation=1, ceil_mode=False)\n",
            "  )\n",
            "  (3): Sequential(\n",
            "    (0): Conv2d(256, 512, kernel_size=(3, 3), stride=(1, 1), padding=(1, 1))\n",
            "    (1): BatchNorm2d(512, eps=1e-05, momentum=0.1, affine=True, track_running_stats=True)\n",
            "    (2): ReLU(inplace=True)\n",
            "    (3): Conv2d(512, 512, kernel_size=(3, 3), stride=(1, 1), padding=(1, 1))\n",
            "    (4): BatchNorm2d(512, eps=1e-05, momentum=0.1, affine=True, track_running_stats=True)\n",
            "    (5): ReLU(inplace=True)\n",
            "    (6): Conv2d(512, 512, kernel_size=(3, 3), stride=(1, 1), padding=(1, 1))\n",
            "    (7): BatchNorm2d(512, eps=1e-05, momentum=0.1, affine=True, track_running_stats=True)\n",
            "    (8): ReLU(inplace=True)\n",
            "    (9): Conv2d(512, 512, kernel_size=(3, 3), stride=(1, 1), padding=(1, 1))\n",
            "    (10): BatchNorm2d(512, eps=1e-05, momentum=0.1, affine=True, track_running_stats=True)\n",
            "    (11): ReLU(inplace=True)\n",
            "    (12): MaxPool2d(kernel_size=2, stride=2, padding=0, dilation=1, ceil_mode=False)\n",
            "  )\n",
            "  (4): Sequential(\n",
            "    (0): Conv2d(512, 512, kernel_size=(3, 3), stride=(1, 1), padding=(1, 1))\n",
            "    (1): BatchNorm2d(512, eps=1e-05, momentum=0.1, affine=True, track_running_stats=True)\n",
            "    (2): ReLU(inplace=True)\n",
            "    (3): Conv2d(512, 512, kernel_size=(3, 3), stride=(1, 1), padding=(1, 1))\n",
            "    (4): BatchNorm2d(512, eps=1e-05, momentum=0.1, affine=True, track_running_stats=True)\n",
            "    (5): ReLU(inplace=True)\n",
            "    (6): Conv2d(512, 512, kernel_size=(3, 3), stride=(1, 1), padding=(1, 1))\n",
            "    (7): BatchNorm2d(512, eps=1e-05, momentum=0.1, affine=True, track_running_stats=True)\n",
            "    (8): ReLU(inplace=True)\n",
            "    (9): Conv2d(512, 512, kernel_size=(3, 3), stride=(1, 1), padding=(1, 1))\n",
            "    (10): BatchNorm2d(512, eps=1e-05, momentum=0.1, affine=True, track_running_stats=True)\n",
            "    (11): ReLU(inplace=True)\n",
            "    (12): MaxPool2d(kernel_size=2, stride=2, padding=0, dilation=1, ceil_mode=False)\n",
            "  )\n",
            "))\n",
            "('fc_layer', Sequential(\n",
            "  (0): Linear(in_features=512, out_features=1000, bias=True)\n",
            "  (1): ReLU(inplace=True)\n",
            "  (2): Dropout(p=0.2, inplace=False)\n",
            "  (3): Linear(in_features=1000, out_features=500, bias=True)\n",
            "  (4): ReLU(inplace=True)\n",
            "  (5): Dropout(p=0.2, inplace=False)\n",
            "  (6): Linear(in_features=500, out_features=10, bias=True)\n",
            "))\n"
          ],
          "name": "stdout"
        }
      ]
    },
    {
      "cell_type": "markdown",
      "metadata": {
        "id": "kcHJ96cqhvGp"
      },
      "source": [
        "## *** Train**"
      ]
    },
    {
      "cell_type": "code",
      "metadata": {
        "colab": {
          "base_uri": "https://localhost:8080/"
        },
        "id": "2KMerU94AGuO",
        "outputId": "e91db506-7a01-45e6-e632-0c0c9dcf69d6"
      },
      "source": [
        "# num_epochs = 10\n",
        "num_train_batches = int(len(train_dataset)/batch_size) # 500\n",
        "iter = []\n",
        "loss_arr = []\n",
        "for epoch in range(num_epochs):\n",
        "    running_loss = 0.0\n",
        "    for i, data in enumerate(train_loader,0):\n",
        "        x,y = data[0].to(device), data[1].to(device)\n",
        "        \n",
        "        # 매개변수 변화도 0\n",
        "        optimizer.zero_grad()\n",
        "\n",
        "        # forward + backward + optimize\n",
        "        output = model.forward(x)\n",
        "        loss = criterion(output, y)\n",
        "        loss.backward()\n",
        "        optimizer.step() \n",
        "\n",
        "        running_loss += loss.item() # 학습 중 손실값\n",
        "        if i % 100 == 99:    \n",
        "            print('[%d, %5d] loss: %.3f' % (epoch + 1, i + 1, running_loss / 100))\n",
        "            iter.append(i)\n",
        "            loss_arr.append(running_loss / 100)\n",
        "            running_loss = 0.0\n",
        "    # print(f\"Loss : {running_loss / num_train_batches}\")\n",
        "print(\"Finish Train\")"
      ],
      "execution_count": null,
      "outputs": [
        {
          "output_type": "stream",
          "text": [
            "[1,   100] loss: 0.282\n",
            "[1,   200] loss: 0.275\n",
            "[1,   300] loss: 0.280\n",
            "[1,   400] loss: 0.289\n",
            "[1,   500] loss: 0.277\n",
            "[2,   100] loss: 0.252\n",
            "[2,   200] loss: 0.267\n",
            "[2,   300] loss: 0.266\n",
            "[2,   400] loss: 0.256\n",
            "[2,   500] loss: 0.261\n",
            "[3,   100] loss: 0.269\n",
            "[3,   200] loss: 0.253\n",
            "[3,   300] loss: 0.246\n",
            "[3,   400] loss: 0.242\n",
            "[3,   500] loss: 0.238\n",
            "[4,   100] loss: 0.235\n",
            "[4,   200] loss: 0.241\n",
            "[4,   300] loss: 0.255\n",
            "[4,   400] loss: 0.232\n",
            "[4,   500] loss: 0.243\n",
            "[5,   100] loss: 0.221\n",
            "[5,   200] loss: 0.216\n",
            "[5,   300] loss: 0.232\n",
            "[5,   400] loss: 0.262\n",
            "[5,   500] loss: 0.249\n",
            "[6,   100] loss: 0.219\n",
            "[6,   200] loss: 0.247\n",
            "[6,   300] loss: 0.231\n",
            "[6,   400] loss: 0.244\n",
            "[6,   500] loss: 0.236\n",
            "[7,   100] loss: 0.196\n",
            "[7,   200] loss: 0.223\n",
            "[7,   300] loss: 0.207\n",
            "[7,   400] loss: 0.231\n",
            "[7,   500] loss: 0.243\n",
            "[8,   100] loss: 0.198\n",
            "[8,   200] loss: 0.209\n",
            "[8,   300] loss: 0.214\n",
            "[8,   400] loss: 0.210\n",
            "[8,   500] loss: 0.214\n",
            "[9,   100] loss: 0.196\n",
            "[9,   200] loss: 0.214\n",
            "[9,   300] loss: 0.196\n",
            "[9,   400] loss: 0.196\n",
            "[9,   500] loss: 0.207\n",
            "[10,   100] loss: 0.189\n",
            "[10,   200] loss: 0.199\n",
            "[10,   300] loss: 0.191\n",
            "[10,   400] loss: 0.195\n",
            "[10,   500] loss: 0.201\n",
            "Finish Train\n"
          ],
          "name": "stdout"
        }
      ]
    },
    {
      "cell_type": "code",
      "metadata": {
        "id": "k2wvXOklvwOq",
        "colab": {
          "base_uri": "https://localhost:8080/",
          "height": 281
        },
        "outputId": "0d6657db-b28c-4466-f78b-137c3c36c8f0"
      },
      "source": [
        "# loss값 그래프\n",
        "plt.plot(range(1,len(iter)+1), loss_arr, 'r--')\n",
        "plt.title(\"loss\")\n",
        "plt.show()"
      ],
      "execution_count": null,
      "outputs": [
        {
          "output_type": "display_data",
          "data": {
            "image/png": "[encoded data removed]",
            "text/plain": [
              "<Figure size 432x288 with 1 Axes>"
            ]
          },
          "metadata": {
            "tags": [],
            "needs_background": "light"
          }
        }
      ]
    },
    {
      "cell_type": "markdown",
      "metadata": {
        "id": "bxJpLnP4h4fh"
      },
      "source": [
        "## *** Test**"
      ]
    },
    {
      "cell_type": "code",
      "metadata": {
        "colab": {
          "base_uri": "https://localhost:8080/"
        },
        "id": "uNGgcZ1Xu6H7",
        "outputId": "7f0301be-c9d9-4d7d-987a-56c2bdda98bb"
      },
      "source": [
        "correct = 0\n",
        "total = 0\n",
        "classes = ('plane', 'car', 'bird', 'cat',\n",
        "           'deer', 'dog', 'frog', 'horse', 'ship', 'truck')\n",
        "\n",
        "class_correct = list(0. for i in range(10))\n",
        "class_total = list(0. for i in range(10))\n",
        "\n",
        "model.eval()\n",
        "with torch.no_grad():\n",
        "    for data in test_loader:\n",
        "        x,y = data[0].to(device), data[1].to(device)\n",
        "\n",
        "        output = model.forward(x)\n",
        "        _, predicted = torch.max(output,1)\n",
        "\n",
        "        total += y.size(0)\n",
        "        correct += (predicted == y).sum().item()\n",
        "        # squeeze함수 차원이 1인 차원을 제거\n",
        "        c = (predicted == y).squeeze()\n",
        "        for i in range(4):\n",
        "            y_ = y[i]\n",
        "            class_correct[y_] += c[i].item()\n",
        "            class_total[y_] += 1\n",
        "    print(\"정확도: {}%\".format(100*correct/total))\n",
        "    print(\"-------------------------------------\")\n",
        "    \n",
        "for i in range(10):\n",
        "    print('class별 정확도 / %5s : %2d %%' % (\n",
        "        classes[i], 100 * class_correct[i] / class_total[i]))"
      ],
      "execution_count": null,
      "outputs": [
        {
          "output_type": "stream",
          "text": [
            "정확도: 88.66%\n",
            "-------------------------------------\n",
            "class별 정확도 / plane : 97 %\n",
            "class별 정확도 /   car : 100 %\n",
            "class별 정확도 /  bird : 84 %\n",
            "class별 정확도 /   cat : 76 %\n",
            "class별 정확도 /  deer : 81 %\n",
            "class별 정확도 /   dog : 84 %\n",
            "class별 정확도 /  frog : 94 %\n",
            "class별 정확도 / horse : 90 %\n",
            "class별 정확도 /  ship : 97 %\n",
            "class별 정확도 / truck : 100 %\n"
          ],
          "name": "stdout"
        }
      ]
    }
  ]
}