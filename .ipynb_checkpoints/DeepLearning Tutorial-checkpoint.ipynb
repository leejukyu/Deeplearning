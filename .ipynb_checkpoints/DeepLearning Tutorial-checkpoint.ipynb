{
 "cells": [
  {
   "cell_type": "code",
   "execution_count": 102,
   "id": "61674ab6",
   "metadata": {},
   "outputs": [
    {
     "name": "stdout",
     "output_type": "stream",
     "text": [
      "Epoch 1/100\n",
      "47/47 [==============================] - 0s 508us/step - loss: 0.8781 - accuracy: 0.7774\n",
      "Epoch 2/100\n",
      "47/47 [==============================] - 0s 496us/step - loss: 0.4637 - accuracy: 0.8707\n",
      "Epoch 3/100\n",
      "47/47 [==============================] - 0s 499us/step - loss: 0.4652 - accuracy: 0.8347\n",
      "Epoch 4/100\n",
      "47/47 [==============================] - 0s 434us/step - loss: 0.5176 - accuracy: 0.8405\n",
      "Epoch 5/100\n",
      "47/47 [==============================] - 0s 455us/step - loss: 0.4461 - accuracy: 0.8570\n",
      "Epoch 6/100\n",
      "47/47 [==============================] - 0s 508us/step - loss: 0.4391 - accuracy: 0.8523\n",
      "Epoch 7/100\n",
      "47/47 [==============================] - 0s 455us/step - loss: 0.4616 - accuracy: 0.8443\n",
      "Epoch 8/100\n",
      "47/47 [==============================] - 0s 468us/step - loss: 0.4523 - accuracy: 0.8447\n",
      "Epoch 9/100\n",
      "47/47 [==============================] - 0s 434us/step - loss: 0.3877 - accuracy: 0.8618\n",
      "Epoch 10/100\n",
      "47/47 [==============================] - 0s 450us/step - loss: 0.3944 - accuracy: 0.8697\n",
      "Epoch 11/100\n",
      "47/47 [==============================] - 0s 466us/step - loss: 0.4379 - accuracy: 0.8480\n",
      "Epoch 12/100\n",
      "47/47 [==============================] - 0s 455us/step - loss: 0.4470 - accuracy: 0.8449\n",
      "Epoch 13/100\n",
      "47/47 [==============================] - 0s 447us/step - loss: 0.4789 - accuracy: 0.8302\n",
      "Epoch 14/100\n",
      "47/47 [==============================] - 0s 477us/step - loss: 0.4402 - accuracy: 0.8438\n",
      "Epoch 15/100\n",
      "47/47 [==============================] - 0s 477us/step - loss: 0.4928 - accuracy: 0.8220\n",
      "Epoch 16/100\n",
      "47/47 [==============================] - 0s 453us/step - loss: 0.4119 - accuracy: 0.8534\n",
      "Epoch 17/100\n",
      "47/47 [==============================] - 0s 455us/step - loss: 0.4383 - accuracy: 0.8564\n",
      "Epoch 18/100\n",
      "47/47 [==============================] - 0s 439us/step - loss: 0.4807 - accuracy: 0.8556\n",
      "Epoch 19/100\n",
      "47/47 [==============================] - 0s 434us/step - loss: 0.4253 - accuracy: 0.8459\n",
      "Epoch 20/100\n",
      "47/47 [==============================] - 0s 456us/step - loss: 0.4403 - accuracy: 0.8561\n",
      "Epoch 21/100\n",
      "47/47 [==============================] - 0s 455us/step - loss: 0.4191 - accuracy: 0.8513\n",
      "Epoch 22/100\n",
      "47/47 [==============================] - 0s 434us/step - loss: 0.4100 - accuracy: 0.8554\n",
      "Epoch 23/100\n",
      "47/47 [==============================] - 0s 477us/step - loss: 0.4205 - accuracy: 0.8538\n",
      "Epoch 24/100\n",
      "47/47 [==============================] - 0s 441us/step - loss: 0.4226 - accuracy: 0.8471\n",
      "Epoch 25/100\n",
      "47/47 [==============================] - 0s 455us/step - loss: 0.4349 - accuracy: 0.8394\n",
      "Epoch 26/100\n",
      "47/47 [==============================] - 0s 455us/step - loss: 0.4526 - accuracy: 0.8552\n",
      "Epoch 27/100\n",
      "47/47 [==============================] - 0s 455us/step - loss: 0.4590 - accuracy: 0.8312\n",
      "Epoch 28/100\n",
      "47/47 [==============================] - 0s 455us/step - loss: 0.4469 - accuracy: 0.8461\n",
      "Epoch 29/100\n",
      "47/47 [==============================] - 0s 455us/step - loss: 0.3775 - accuracy: 0.8803\n",
      "Epoch 30/100\n",
      "47/47 [==============================] - 0s 476us/step - loss: 0.3581 - accuracy: 0.8892\n",
      "Epoch 31/100\n",
      "47/47 [==============================] - 0s 477us/step - loss: 0.4157 - accuracy: 0.8745\n",
      "Epoch 32/100\n",
      "47/47 [==============================] - 0s 477us/step - loss: 0.4037 - accuracy: 0.8639\n",
      "Epoch 33/100\n",
      "47/47 [==============================] - 0s 456us/step - loss: 0.4367 - accuracy: 0.8560\n",
      "Epoch 34/100\n",
      "47/47 [==============================] - 0s 471us/step - loss: 0.3961 - accuracy: 0.8582\n",
      "Epoch 35/100\n",
      "47/47 [==============================] - 0s 477us/step - loss: 0.4047 - accuracy: 0.8514\n",
      "Epoch 36/100\n",
      "47/47 [==============================] - 0s 477us/step - loss: 0.4423 - accuracy: 0.8340\n",
      "Epoch 37/100\n",
      "47/47 [==============================] - 0s 477us/step - loss: 0.4449 - accuracy: 0.8519\n",
      "Epoch 38/100\n",
      "47/47 [==============================] - 0s 456us/step - loss: 0.4314 - accuracy: 0.8452\n",
      "Epoch 39/100\n",
      "47/47 [==============================] - 0s 455us/step - loss: 0.4797 - accuracy: 0.8291\n",
      "Epoch 40/100\n",
      "47/47 [==============================] - 0s 477us/step - loss: 0.4177 - accuracy: 0.8508\n",
      "Epoch 41/100\n",
      "47/47 [==============================] - 0s 497us/step - loss: 0.4472 - accuracy: 0.8508\n",
      "Epoch 42/100\n",
      "47/47 [==============================] - 0s 478us/step - loss: 0.4340 - accuracy: 0.8517\n",
      "Epoch 43/100\n",
      "47/47 [==============================] - 0s 499us/step - loss: 0.3614 - accuracy: 0.8727\n",
      "Epoch 44/100\n",
      "47/47 [==============================] - 0s 480us/step - loss: 0.3523 - accuracy: 0.8783\n",
      "Epoch 45/100\n",
      "47/47 [==============================] - 0s 455us/step - loss: 0.3800 - accuracy: 0.8555\n",
      "Epoch 46/100\n",
      "47/47 [==============================] - 0s 499us/step - loss: 0.4116 - accuracy: 0.8546\n",
      "Epoch 47/100\n",
      "47/47 [==============================] - 0s 499us/step - loss: 0.3496 - accuracy: 0.8812\n",
      "Epoch 48/100\n",
      "47/47 [==============================] - ETA: 0s - loss: 0.6289 - accuracy: 0.80 - 0s 434us/step - loss: 0.3902 - accuracy: 0.8645\n",
      "Epoch 49/100\n",
      "47/47 [==============================] - 0s 477us/step - loss: 0.4169 - accuracy: 0.8361\n",
      "Epoch 50/100\n",
      "47/47 [==============================] - 0s 455us/step - loss: 0.3604 - accuracy: 0.8783\n",
      "Epoch 51/100\n",
      "47/47 [==============================] - 0s 455us/step - loss: 0.4260 - accuracy: 0.8457\n",
      "Epoch 52/100\n",
      "47/47 [==============================] - 0s 455us/step - loss: 0.4176 - accuracy: 0.8520\n",
      "Epoch 53/100\n",
      "47/47 [==============================] - 0s 447us/step - loss: 0.4213 - accuracy: 0.8481\n",
      "Epoch 54/100\n",
      "47/47 [==============================] - 0s 455us/step - loss: 0.4200 - accuracy: 0.8348\n",
      "Epoch 55/100\n",
      "47/47 [==============================] - 0s 482us/step - loss: 0.4092 - accuracy: 0.8632\n",
      "Epoch 56/100\n",
      "47/47 [==============================] - 0s 455us/step - loss: 0.3982 - accuracy: 0.8476\n",
      "Epoch 57/100\n",
      "47/47 [==============================] - 0s 434us/step - loss: 0.4001 - accuracy: 0.8525\n",
      "Epoch 58/100\n",
      "47/47 [==============================] - 0s 481us/step - loss: 0.3528 - accuracy: 0.8703\n",
      "Epoch 59/100\n",
      "47/47 [==============================] - 0s 433us/step - loss: 0.4201 - accuracy: 0.8475\n",
      "Epoch 60/100\n",
      "47/47 [==============================] - 0s 455us/step - loss: 0.3578 - accuracy: 0.8774\n",
      "Epoch 61/100\n",
      "47/47 [==============================] - 0s 455us/step - loss: 0.3907 - accuracy: 0.8725\n",
      "Epoch 62/100\n",
      "47/47 [==============================] - 0s 455us/step - loss: 0.4215 - accuracy: 0.8389\n",
      "Epoch 63/100\n",
      "47/47 [==============================] - 0s 487us/step - loss: 0.3711 - accuracy: 0.8686\n",
      "Epoch 64/100\n",
      "47/47 [==============================] - 0s 447us/step - loss: 0.4243 - accuracy: 0.8525\n",
      "Epoch 65/100\n",
      "47/47 [==============================] - 0s 481us/step - loss: 0.3775 - accuracy: 0.8639\n",
      "Epoch 66/100\n",
      "47/47 [==============================] - 0s 487us/step - loss: 0.4256 - accuracy: 0.8517\n",
      "Epoch 67/100\n",
      "47/47 [==============================] - 0s 455us/step - loss: 0.3803 - accuracy: 0.8612\n",
      "Epoch 68/100\n",
      "47/47 [==============================] - 0s 460us/step - loss: 0.4071 - accuracy: 0.8624\n",
      "Epoch 69/100\n",
      "47/47 [==============================] - 0s 455us/step - loss: 0.4336 - accuracy: 0.8197\n",
      "Epoch 70/100\n",
      "47/47 [==============================] - 0s 443us/step - loss: 0.4068 - accuracy: 0.8519\n",
      "Epoch 71/100\n",
      "47/47 [==============================] - 0s 447us/step - loss: 0.4412 - accuracy: 0.8194\n",
      "Epoch 72/100\n",
      "47/47 [==============================] - 0s 455us/step - loss: 0.3777 - accuracy: 0.8554\n",
      "Epoch 73/100\n",
      "47/47 [==============================] - 0s 450us/step - loss: 0.4042 - accuracy: 0.8489\n",
      "Epoch 74/100\n",
      "47/47 [==============================] - 0s 455us/step - loss: 0.3783 - accuracy: 0.8595\n",
      "Epoch 75/100\n",
      "47/47 [==============================] - 0s 454us/step - loss: 0.3516 - accuracy: 0.8812\n",
      "Epoch 76/100\n",
      "47/47 [==============================] - 0s 455us/step - loss: 0.3733 - accuracy: 0.8629\n",
      "Epoch 77/100\n",
      "47/47 [==============================] - 0s 434us/step - loss: 0.4473 - accuracy: 0.8247\n",
      "Epoch 78/100\n",
      "47/47 [==============================] - 0s 455us/step - loss: 0.3992 - accuracy: 0.8696\n",
      "Epoch 79/100\n",
      "47/47 [==============================] - 0s 461us/step - loss: 0.4184 - accuracy: 0.8299\n",
      "Epoch 80/100\n",
      "47/47 [==============================] - 0s 455us/step - loss: 0.4250 - accuracy: 0.8335\n"
     ]
    },
    {
     "name": "stdout",
     "output_type": "stream",
     "text": [
      "Epoch 81/100\n",
      "47/47 [==============================] - 0s 455us/step - loss: 0.3712 - accuracy: 0.8793\n",
      "Epoch 82/100\n",
      "47/47 [==============================] - 0s 434us/step - loss: 0.4214 - accuracy: 0.8487\n",
      "Epoch 83/100\n",
      "47/47 [==============================] - 0s 434us/step - loss: 0.4450 - accuracy: 0.8381\n",
      "Epoch 84/100\n",
      "47/47 [==============================] - 0s 505us/step - loss: 0.3537 - accuracy: 0.8840\n",
      "Epoch 85/100\n",
      "47/47 [==============================] - 0s 476us/step - loss: 0.3822 - accuracy: 0.8617\n",
      "Epoch 86/100\n",
      "47/47 [==============================] - 0s 455us/step - loss: 0.3410 - accuracy: 0.8688\n",
      "Epoch 87/100\n",
      "47/47 [==============================] - 0s 461us/step - loss: 0.3933 - accuracy: 0.8567\n",
      "Epoch 88/100\n",
      "47/47 [==============================] - 0s 476us/step - loss: 0.3747 - accuracy: 0.8538\n",
      "Epoch 89/100\n",
      "47/47 [==============================] - ETA: 0s - loss: 0.5654 - accuracy: 0.70 - 0s 458us/step - loss: 0.3942 - accuracy: 0.8320\n",
      "Epoch 90/100\n",
      "47/47 [==============================] - 0s 477us/step - loss: 0.3722 - accuracy: 0.8768\n",
      "Epoch 91/100\n",
      "47/47 [==============================] - 0s 455us/step - loss: 0.4208 - accuracy: 0.8516\n",
      "Epoch 92/100\n",
      "47/47 [==============================] - 0s 455us/step - loss: 0.4239 - accuracy: 0.8407\n",
      "Epoch 93/100\n",
      "47/47 [==============================] - 0s 434us/step - loss: 0.4079 - accuracy: 0.8362\n",
      "Epoch 94/100\n",
      "47/47 [==============================] - 0s 471us/step - loss: 0.3913 - accuracy: 0.8367\n",
      "Epoch 95/100\n",
      "47/47 [==============================] - 0s 455us/step - loss: 0.4023 - accuracy: 0.8584\n",
      "Epoch 96/100\n",
      "47/47 [==============================] - 0s 455us/step - loss: 0.4342 - accuracy: 0.8596\n",
      "Epoch 97/100\n",
      "47/47 [==============================] - 0s 455us/step - loss: 0.4469 - accuracy: 0.8137\n",
      "Epoch 98/100\n",
      "47/47 [==============================] - 0s 434us/step - loss: 0.3893 - accuracy: 0.8690\n",
      "Epoch 99/100\n",
      "47/47 [==============================] - 0s 499us/step - loss: 0.3737 - accuracy: 0.8620\n",
      "Epoch 100/100\n",
      "47/47 [==============================] - 0s 465us/step - loss: 0.3956 - accuracy: 0.8330\n"
     ]
    },
    {
     "data": {
      "text/plain": [
       "<tensorflow.python.keras.callbacks.History at 0x246de7e87c0>"
      ]
     },
     "execution_count": 102,
     "metadata": {},
     "output_type": "execute_result"
    }
   ],
   "source": [
    "from tensorflow.keras.models import Sequential\n",
    "from tensorflow.keras.layers import Dense\n",
    "import numpy as np\n",
    "import tensorflow as tf\n",
    "\n",
    "# seed로 랜덤결과를 고정\n",
    "np.random.seed(3)\n",
    "tf.random.set_seed(3)\n",
    "\n",
    "# 준비된 환자 데이터를 불러들입니다\n",
    "Data_set = np.loadtxt(\"ThoraricSurgery.csv\" , delimiter=\",\")\n",
    "Data_set.shape\n",
    "\n",
    "# 환자의 기록과 수술 결과를 X와 Y로 구분하여 저장\n",
    "X = Data_set[:, 0:17]\n",
    "Y = Data_set[:, 17]\n",
    "\n",
    "# 딥러닝 구조를 결정(모델을 설정하고 실행)\n",
    "model = Sequential() # 신경망만들기\n",
    "model.add(Dense(30, input_dim=17, activation='relu')) # dense: 신경망 추가, imput_dim : 층 17개 \n",
    "model.add(Dense(1,  activation='sigmoid'))\n",
    "\n",
    "# 딥러닝 실행\n",
    "model.compile(loss=\"binary_crossentropy\", optimizer=\"adam\" , metrics=['accuracy'])\n",
    "model.fit(X, Y , epochs=100, batch_size=10)"
   ]
  },
  {
   "cell_type": "code",
   "execution_count": 103,
   "id": "978a5c2f",
   "metadata": {},
   "outputs": [
    {
     "name": "stdout",
     "output_type": "stream",
     "text": [
      "[1.         1.00502513 1.01005025 1.01507538 1.0201005  1.02512563\n",
      " 1.03015075 1.03517588 1.04020101 1.04522613 1.05025126 1.05527638\n",
      " 1.06030151 1.06532663 1.07035176 1.07537688 1.08040201 1.08542714\n",
      " 1.09045226 1.09547739 1.10050251 1.10552764 1.11055276 1.11557789\n",
      " 1.12060302 1.12562814 1.13065327 1.13567839 1.14070352 1.14572864\n",
      " 1.15075377 1.15577889 1.16080402 1.16582915 1.17085427 1.1758794\n",
      " 1.18090452 1.18592965 1.19095477 1.1959799  1.20100503 1.20603015\n",
      " 1.21105528 1.2160804  1.22110553 1.22613065 1.23115578 1.2361809\n",
      " 1.24120603 1.24623116 1.25125628 1.25628141 1.26130653 1.26633166\n",
      " 1.27135678 1.27638191 1.28140704 1.28643216 1.29145729 1.29648241\n",
      " 1.30150754 1.30653266 1.31155779 1.31658291 1.32160804 1.32663317\n",
      " 1.33165829 1.33668342 1.34170854 1.34673367 1.35175879 1.35678392\n",
      " 1.36180905 1.36683417 1.3718593  1.37688442 1.38190955 1.38693467\n",
      " 1.3919598  1.39698492 1.40201005 1.40703518 1.4120603  1.41708543\n",
      " 1.42211055 1.42713568 1.4321608  1.43718593 1.44221106 1.44723618\n",
      " 1.45226131 1.45728643 1.46231156 1.46733668 1.47236181 1.47738693\n",
      " 1.48241206 1.48743719 1.49246231 1.49748744 1.50251256 1.50753769\n",
      " 1.51256281 1.51758794 1.52261307 1.52763819 1.53266332 1.53768844\n",
      " 1.54271357 1.54773869 1.55276382 1.55778894 1.56281407 1.5678392\n",
      " 1.57286432 1.57788945 1.58291457 1.5879397  1.59296482 1.59798995\n",
      " 1.60301508 1.6080402  1.61306533 1.61809045 1.62311558 1.6281407\n",
      " 1.63316583 1.63819095 1.64321608 1.64824121 1.65326633 1.65829146\n",
      " 1.66331658 1.66834171 1.67336683 1.67839196 1.68341709 1.68844221\n",
      " 1.69346734 1.69849246 1.70351759 1.70854271 1.71356784 1.71859296\n",
      " 1.72361809 1.72864322 1.73366834 1.73869347 1.74371859 1.74874372\n",
      " 1.75376884 1.75879397 1.7638191  1.76884422 1.77386935 1.77889447\n",
      " 1.7839196  1.78894472 1.79396985 1.79899497 1.8040201  1.80904523\n",
      " 1.81407035 1.81909548 1.8241206  1.82914573 1.83417085 1.83919598\n",
      " 1.84422111 1.84924623 1.85427136 1.85929648 1.86432161 1.86934673\n",
      " 1.87437186 1.87939698 1.88442211 1.88944724 1.89447236 1.89949749\n",
      " 1.90452261 1.90954774 1.91457286 1.91959799 1.92462312 1.92964824\n",
      " 1.93467337 1.93969849 1.94472362 1.94974874 1.95477387 1.95979899\n",
      " 1.96482412 1.96984925 1.97487437 1.9798995  1.98492462 1.98994975\n",
      " 1.99497487 2.        ]\n",
      "[4.53658854 4.15105346 4.06915025 3.5012537  3.99718555 3.99407482\n",
      " 4.09578057 3.95260331 4.14765857 4.03773911 3.8068456  4.48649224\n",
      " 4.50560144 4.77417845 4.29641713 4.18010431 4.15800006 3.87776535\n",
      " 4.65651928 4.05158926 4.04649609 4.36041558 4.88805556 4.53332644\n",
      " 4.17527652 4.2886146  4.71018656 4.49455956 4.33216317 4.51390536\n",
      " 4.82653196 5.21594881 4.26997908 4.47539151 4.44228726 3.97779264\n",
      " 4.44648048 4.43655586 5.10101248 4.74434533 4.31703447 5.01812324\n",
      " 4.73733988 4.3413793  4.70542722 4.7279443  4.66245843 4.95363776\n",
      " 4.29034679 4.90459606 5.30898016 5.28096498 5.37768238 5.40114383\n",
      " 5.53169008 4.77003743 5.37937816 4.58746178 4.98496361 4.61158804\n",
      " 5.5204744  5.626252   5.18700675 5.79872517 5.08401391 5.35171772\n",
      " 5.37251688 5.02747509 5.49821815 5.96862821 5.09955591 5.69693721\n",
      " 5.40088413 5.99822487 5.63257369 5.71040261 5.72058718 5.62246471\n",
      " 5.14911015 6.00543857 5.1968395  5.69970966 5.83246433 5.41696803\n",
      " 5.73196118 6.0589074  5.72141188 5.48214649 4.8941229  5.49739257\n",
      " 5.6317216  5.67422052 5.56124738 5.9825353  5.71703471 5.87671144\n",
      " 6.13336972 5.69311759 5.87978742 6.63739455 6.27233597 5.64208976\n",
      " 6.02632897 6.23969741 6.46049357 6.15524868 5.97147862 5.93159578\n",
      " 6.36437287 6.28487289 6.0560609  6.17443428 6.12639688 6.48875408\n",
      " 6.08446908 6.45748213 6.58711398 6.49763359 6.12158734 6.79545754\n",
      " 6.2085965  6.56009133 6.22626087 5.94912873 6.56018739 6.59867336\n",
      " 6.50943103 6.63558437 6.37834106 6.37172537 6.5626383  7.20594887\n",
      " 6.89771069 6.51736931 6.8610813  6.57005844 6.59649011 7.01155405\n",
      " 6.61628995 6.29127946 6.54212194 6.86069542 6.8926737  7.24685681\n",
      " 6.67966462 7.13401259 7.06246339 6.91006974 7.22562754 7.14261055\n",
      " 6.75638283 7.35668106 6.68900581 7.09326151 7.09621064 7.24296861\n",
      " 6.91804835 7.14529588 7.13369339 7.49510641 6.97730599 7.25800456\n",
      " 7.17790926 6.88696792 8.09931615 7.29521721 6.890686   7.77937201\n",
      " 7.05570877 7.50824592 7.67593506 7.24265632 7.32801942 7.31530586\n",
      " 7.45867913 7.03084959 7.16699745 7.51555301 7.88957508 7.7875132\n",
      " 8.13691568 7.84640664 7.50495276 7.64153894 7.0893744  7.43036043\n",
      " 7.43258568 7.839972   7.97324341 7.63088295 7.64254499 7.37522923\n",
      " 7.82096787 7.95384739 8.03323178 7.68478528 8.5362454  8.3183165\n",
      " 7.95132822 7.84184367]\n",
      "WARNING:tensorflow:5 out of the last 11 calls to <function Model.make_predict_function.<locals>.predict_function at 0x00000246E0271040> triggered tf.function retracing. Tracing is expensive and the excessive number of tracings could be due to (1) creating @tf.function repeatedly in a loop, (2) passing tensors with different shapes, (3) passing Python objects instead of tensors. For (1), please define your @tf.function outside of the loop. For (2), @tf.function has experimental_relax_shapes=True option that relaxes argument shapes that can avoid unnecessary retracing. For (3), please refer to https://www.tensorflow.org/guide/function#controlling_retracing and https://www.tensorflow.org/api_docs/python/tf/function for  more details.\n",
      "[[4.040529]]\n"
     ]
    }
   ],
   "source": [
    "from tensorflow.keras.models import Sequential\n",
    "from tensorflow.keras.layers import Dense\n",
    "import numpy as np\n",
    "import tensorflow as tf\n",
    "from matplotlib import pyplot as plt\n",
    "\n",
    "X = data = np.linspace(1,2,200)\n",
    "print(X)\n",
    "Y = X * 4 + np.random.randn(200)*0.3\n",
    "print(Y)\n",
    "\n",
    "model = Sequential()\n",
    "model.add(Dense(1, input_dim = 1, activation=\"linear\"))\n",
    "model.compile(optimizer='sgd', loss = 'mse', metrics=['mse'])\n",
    "model.fit(X,Y,batch_size=1, epochs=30, verbose=0) # verbose : 학습하는 것의 과정을 보여주는거\n",
    "\n",
    "predict = model.predict([X[1]])\n",
    "print(predict)\n",
    "\n",
    "# plt.plot(data, predict, 'b', data, Y, 'k.')\n",
    "# plt.show()\n",
    "\n",
    "\n",
    "# 딥러닝 순서 : 신경망 만들기 > 숫자 찾기 > 컴퓨터 학습 > 나온 결과 예측\n"
   ]
  },
  {
   "cell_type": "markdown",
   "id": "93c50ee9",
   "metadata": {},
   "source": [
    "#### 선형회귀"
   ]
  },
  {
   "cell_type": "code",
   "execution_count": 104,
   "id": "ad47fdee",
   "metadata": {},
   "outputs": [
    {
     "name": "stdout",
     "output_type": "stream",
     "text": [
      "5.0 90.5\n"
     ]
    },
    {
     "data": {
      "text/plain": [
       "20.0"
      ]
     },
     "execution_count": 104,
     "metadata": {},
     "output_type": "execute_result"
    }
   ],
   "source": [
    "import numpy as np\n",
    "\n",
    "x = [2,4,6,8]\n",
    "y = [81,93,91,97]\n",
    "\n",
    "# x, y의 mean\n",
    "mx = np.mean(x)\n",
    "my = np.mean(y)\n",
    "\n",
    "print(mx, my)\n",
    "list_arr = []\n",
    "\n",
    "# for i in x:\n",
    "#     a = (mx-i)**2\n",
    "#     list_arr.append(a)\n",
    "#     divisor = sum(list_arr)\n",
    "\n",
    "divisor = sum((mx-i)**2 for i in x) # for문 이렇게 할수도\n",
    "\n",
    "divisor"
   ]
  },
  {
   "cell_type": "code",
   "execution_count": 105,
   "id": "1ca947c1",
   "metadata": {},
   "outputs": [
    {
     "data": {
      "text/plain": [
       "46.0"
      ]
     },
     "execution_count": 105,
     "metadata": {},
     "output_type": "execute_result"
    }
   ],
   "source": [
    "def top(x, mx, u, my):\n",
    "    d = sum((mx-x[i])*(my-y[i]) for i in range(len(x)))\n",
    "    return d\n",
    "\n",
    "#     d = 0\n",
    "#     for i in range(len(x)):\n",
    "#         d += (x[i]-mx) * (y[i] - my)\n",
    "#         return d\n",
    "\n",
    "top(x, mx, y, my)"
   ]
  },
  {
   "cell_type": "code",
   "execution_count": 106,
   "id": "39680a6a",
   "metadata": {},
   "outputs": [
    {
     "name": "stdout",
     "output_type": "stream",
     "text": [
      "2.3\n",
      "79.0\n"
     ]
    }
   ],
   "source": [
    "dividend = top(x, mx, y, my)\n",
    "a = dividend/divisor\n",
    "\n",
    "b = my - (mx*a)\n",
    "print(a)\n",
    "print(b)"
   ]
  },
  {
   "cell_type": "code",
   "execution_count": 107,
   "id": "6b007f70",
   "metadata": {},
   "outputs": [
    {
     "data": {
      "text/plain": [
       "<matplotlib.legend.Legend at 0x246deaa4550>"
      ]
     },
     "execution_count": 107,
     "metadata": {},
     "output_type": "execute_result"
    },
    {
     "data": {
      "image/png": "[encoded data removed]",
      "text/plain": [
       "<Figure size 432x288 with 1 Axes>"
      ]
     },
     "metadata": {
      "needs_background": "light"
     },
     "output_type": "display_data"
    }
   ],
   "source": [
    "import matplotlib.pyplot as plt\n",
    "\n",
    "predict = []\n",
    "for i in x:\n",
    "    pre_y = a*i + b\n",
    "    predict.append(pre_y)    \n",
    "\n",
    "plt.scatter(x, y)\n",
    "plt.plot(x, predict, c='r', label=\"predict\")\n",
    "plt.legend()\n"
   ]
  },
  {
   "cell_type": "code",
   "execution_count": 108,
   "id": "6765abe9",
   "metadata": {},
   "outputs": [
    {
     "name": "stdout",
     "output_type": "stream",
     "text": [
      "11.0\n"
     ]
    }
   ],
   "source": [
    "import numpy as np\n",
    "\n",
    "# 임의로 정한 기울기a 와 y절편 b\n",
    "fake_a_b = [3,75]\n",
    "\n",
    "# 공부한 시간 x리스트와 성적 y리스트\n",
    "data = [[2,81],[4,93],[6,91],[8,97]]\n",
    "x = [i[0] for i in data]\n",
    "y = [i[1] for i in data]\n",
    "\n",
    "# 일차방정식을 구현하는 함수 \n",
    "def predict(x):\n",
    "    return fake_a_b[0]*x + fake_a_b[1]\n",
    "\n",
    "# 평균제곱오차(mse)를 계산해주는 함수\n",
    "def mse(y, y_hat):\n",
    "    return ((y - y_hat) ** 2).mean()\n",
    "\n",
    "def mse_val(y, predict_result):\n",
    "    return mse(np.array(y), np.array(predict_result))\n",
    "\n",
    "# 예측 값이 들어갈 빈 리스트\n",
    "predict_result = []\n",
    "\n",
    "for i in range(len(x)):\n",
    "    predict_result.append(predict(x[i]))\n",
    "\n",
    "# 오차가 약 11.0 이라는 것을 확인\n",
    "# a,b의 값을 적절히 조절하여 오차가 최소화 되는 a, b구하기 -> 경사하강법\n",
    "print(mse_val(predict_result, y))"
   ]
  },
  {
   "cell_type": "code",
   "execution_count": 109,
   "id": "7c6d5e64",
   "metadata": {},
   "outputs": [
    {
     "data": {
      "image/png": "[encoded data removed]",
      "text/plain": [
       "<Figure size 576x360 with 1 Axes>"
      ]
     },
     "metadata": {
      "needs_background": "light"
     },
     "output_type": "display_data"
    }
   ],
   "source": [
    "import numpy as np\n",
    "\n",
    "fake_a_b = [3,75]\n",
    "\n",
    "data = [[2,81],[4,93],[6,91],[8,97]]\n",
    "x = [i[0] for i in data]\n",
    "y = [i[1] for i in data]\n",
    "plt.figure(figsize=(8,5))\n",
    "plt.scatter(x,y)\n",
    "plt.show()"
   ]
  },
  {
   "cell_type": "code",
   "execution_count": 110,
   "id": "f6e6844d",
   "metadata": {},
   "outputs": [
    {
     "name": "stdout",
     "output_type": "stream",
     "text": [
      "epoch=0, 기울기=27.8400, 절편=5.4300\n",
      "epoch=100, 기울기=7.0739, 절편=50.5117\n",
      "epoch=200, 기울기=4.0960, 절편=68.2822\n",
      "epoch=300, 기울기=2.9757, 절편=74.9678\n",
      "epoch=400, 기울기=2.5542, 절편=77.4830\n",
      "epoch=500, 기울기=2.3956, 절편=78.4293\n",
      "epoch=600, 기울기=2.3360, 절편=78.7853\n",
      "epoch=700, 기울기=2.3135, 절편=78.9192\n",
      "epoch=800, 기울기=2.3051, 절편=78.9696\n",
      "epoch=900, 기울기=2.3019, 절편=78.9886\n",
      "epoch=1000, 기울기=2.3007, 절편=78.9957\n",
      "epoch=1100, 기울기=2.3003, 절편=78.9984\n",
      "epoch=1200, 기울기=2.3001, 절편=78.9994\n",
      "epoch=1300, 기울기=2.3000, 절편=78.9998\n",
      "epoch=1400, 기울기=2.3000, 절편=78.9999\n",
      "epoch=1500, 기울기=2.3000, 절편=79.0000\n",
      "epoch=1600, 기울기=2.3000, 절편=79.0000\n",
      "epoch=1700, 기울기=2.3000, 절편=79.0000\n",
      "epoch=1800, 기울기=2.3000, 절편=79.0000\n",
      "epoch=1900, 기울기=2.3000, 절편=79.0000\n",
      "epoch=2000, 기울기=2.3000, 절편=79.0000\n"
     ]
    }
   ],
   "source": [
    "# 리스트로 되어 있는 x와 y값을 넘파이 배열로 바꾸어 줍니다.(인덱스를 주어 하나씩 불러와 계산이 가능해 지도록 하기 위함입니다.)\n",
    "x_data = np.array(x)\n",
    "y_data = np.array(y)\n",
    "\n",
    "# 기울기 a와 절편 b의 값을 초기화\n",
    "a = 0\n",
    "b = 0\n",
    "\n",
    "# 학습률 = 0.03\n",
    "lr = 0.03\n",
    "\n",
    "# 몇 번 반복(학습)될지를 설정합니다(오차 수정-경사하강법 횟수)\n",
    "epochs = 2001\n",
    "\n",
    "# 경사 하강법을 시작\n",
    "for i in range(epochs): # epochs 수 만큼 반복\n",
    "    y_hat = a*x_data +b\n",
    "    error = y_data - y_hat # 오차 구하는 식\n",
    "    a_diff = -(2/len(x_data)) * sum(x_data * (error)) # 오차함수 a로 미분\n",
    "    b_diff = -(2/len(x_data)) * sum(error) # 오차함수 b로 미분\n",
    "    a = a - lr * a_diff # 학습률을 곱해 기존의 a값 업데이트\n",
    "    b = b - lr * b_diff # 학습률을 곱해 기존의 b값 업데이트\n",
    "    if i % 100 == 0:\n",
    "        print(\"epoch=%.f, 기울기=%.04f, 절편=%.04f\" % (i,a,b))\n",
    "        \n",
    "# 경사하강법 실행 결과 기울기 a = 2.3 y절편 b = 79로 수렴"
   ]
  },
  {
   "cell_type": "code",
   "execution_count": 111,
   "id": "a3f275c4",
   "metadata": {},
   "outputs": [
    {
     "name": "stdout",
     "output_type": "stream",
     "text": [
      "epoch=0, 기울기=9.2800, 절편=1.8100\n",
      "epoch=100, 기울기=11.5301, 절편=23.9186\n",
      "epoch=200, 기울기=8.9703, 절편=39.1944\n",
      "epoch=300, 기울기=7.1204, 절편=50.2337\n",
      "epoch=400, 기울기=5.7836, 절편=58.2115\n",
      "epoch=500, 기울기=4.8175, 절편=63.9768\n",
      "epoch=600, 기울기=4.1193, 절편=68.1432\n",
      "epoch=700, 기울기=3.6148, 절편=71.1541\n",
      "epoch=800, 기울기=3.2501, 절편=73.3300\n",
      "epoch=900, 기울기=2.9866, 절편=74.9025\n",
      "epoch=1000, 기울기=2.7962, 절편=76.0388\n",
      "epoch=1100, 기울기=2.6586, 절편=76.8601\n",
      "epoch=1200, 기울기=2.5591, 절편=77.4535\n",
      "epoch=1300, 기울기=2.4873, 절편=77.8824\n",
      "epoch=1400, 기울기=2.4353, 절편=78.1924\n",
      "epoch=1500, 기울기=2.3978, 절편=78.4163\n",
      "epoch=1600, 기울기=2.3707, 절편=78.5782\n",
      "epoch=1700, 기울기=2.3511, 절편=78.6952\n",
      "epoch=1800, 기울기=2.3369, 절편=78.7797\n",
      "epoch=1900, 기울기=2.3267, 절편=78.8408\n",
      "epoch=2000, 기울기=2.3193, 절편=78.8850\n",
      "epoch=2100, 기울기=2.3139, 절편=78.9169\n",
      "epoch=2200, 기울기=2.3101, 절편=78.9399\n",
      "epoch=2300, 기울기=2.3073, 절편=78.9566\n",
      "epoch=2400, 기울기=2.3053, 절편=78.9686\n",
      "epoch=2500, 기울기=2.3038, 절편=78.9773\n",
      "epoch=2600, 기울기=2.3027, 절편=78.9836\n",
      "epoch=2700, 기울기=2.3020, 절편=78.9882\n",
      "epoch=2800, 기울기=2.3014, 절편=78.9914\n",
      "epoch=2900, 기울기=2.3010, 절편=78.9938\n",
      "epoch=3000, 기울기=2.3007, 절편=78.9955\n",
      "epoch=3100, 기울기=2.3005, 절편=78.9968\n",
      "epoch=3200, 기울기=2.3004, 절편=78.9977\n",
      "epoch=3300, 기울기=2.3003, 절편=78.9983\n",
      "epoch=3400, 기울기=2.3002, 절편=78.9988\n",
      "epoch=3500, 기울기=2.3001, 절편=78.9991\n",
      "epoch=3600, 기울기=2.3001, 절편=78.9994\n",
      "epoch=3700, 기울기=2.3001, 절편=78.9995\n",
      "epoch=3800, 기울기=2.3001, 절편=78.9997\n",
      "epoch=3900, 기울기=2.3000, 절편=78.9998\n",
      "epoch=4000, 기울기=2.3000, 절편=78.9998\n",
      "epoch=4100, 기울기=2.3000, 절편=78.9999\n",
      "epoch=4200, 기울기=2.3000, 절편=78.9999\n",
      "epoch=4300, 기울기=2.3000, 절편=78.9999\n",
      "epoch=4400, 기울기=2.3000, 절편=79.0000\n",
      "epoch=4500, 기울기=2.3000, 절편=79.0000\n",
      "epoch=4600, 기울기=2.3000, 절편=79.0000\n",
      "epoch=4700, 기울기=2.3000, 절편=79.0000\n",
      "epoch=4800, 기울기=2.3000, 절편=79.0000\n",
      "epoch=4900, 기울기=2.3000, 절편=79.0000\n"
     ]
    }
   ],
   "source": [
    "x_data = np.array(x)\n",
    "y_data = np.array(y)\n",
    "\n",
    "a = 0\n",
    "b = 0\n",
    "\n",
    "lr = 0.01\n",
    "\n",
    "epochs = 5000\n",
    "\n",
    "for i in range(epochs):\n",
    "    y_hat = a*x_data +b\n",
    "    error = y_data - y_hat # 오차 구하는 식\n",
    "    a_diff = -(2/len(x_data)) * sum(x_data * (error)) \n",
    "    b_diff = -(2/len(x_data)) * sum(error) \n",
    "    a = a - lr * a_diff \n",
    "    b = b - lr * b_diff \n",
    "    if i % 100 == 0:\n",
    "        print(\"epoch=%.f, 기울기=%.04f, 절편=%.04f\" % (i,a,b))\n",
    "\n",
    "# 학습률이 0.01일땐 epochs가 5000은 되어야 원하는걸 찾을 수 있다\n",
    "# -> 0.01보다 0.03이 더 효율적 -> optimize"
   ]
  },
  {
   "cell_type": "code",
   "execution_count": 112,
   "id": "e38e6628",
   "metadata": {},
   "outputs": [
    {
     "data": {
      "text/plain": [
       "<function matplotlib.pyplot.show(close=None, block=None)>"
      ]
     },
     "execution_count": 112,
     "metadata": {},
     "output_type": "execute_result"
    },
    {
     "data": {
      "image/png": "[encoded data removed]",
      "text/plain": [
       "<Figure size 432x288 with 1 Axes>"
      ]
     },
     "metadata": {
      "needs_background": "light"
     },
     "output_type": "display_data"
    }
   ],
   "source": [
    "# 앞서 구한 기울기와 절편을 이용해 그래프를 그려 봅니다\n",
    "y_pred = a * x_data + b\n",
    "plt.scatter(x, y)\n",
    "plt.plot([min(x_data), max(x_data)],[min(y_pred), max(y_pred)])\n",
    "plt.show"
   ]
  },
  {
   "cell_type": "code",
   "execution_count": 113,
   "id": "d07e83ff",
   "metadata": {},
   "outputs": [
    {
     "data": {
      "text/plain": [
       "<matplotlib.collections.PathCollection at 0x246e1554430>"
      ]
     },
     "execution_count": 113,
     "metadata": {},
     "output_type": "execute_result"
    },
    {
     "data": {
      "image/png": "[encoded data removed]",
      "text/plain": [
       "<Figure size 432x288 with 1 Axes>"
      ]
     },
     "metadata": {
      "needs_background": "light"
     },
     "output_type": "display_data"
    }
   ],
   "source": [
    "import numpy as np\n",
    "import matplotlib.pyplot as plt\n",
    "%matplotlib inline\n",
    "np.random.seed(0)\n",
    "X = 2 * np.random.rand(100, 1)\n",
    "y = 6 + 4 * X + np.random.randn(100, 1)\n",
    "plt.scatter(X ,y)"
   ]
  },
  {
   "cell_type": "code",
   "execution_count": 114,
   "id": "e22692ec",
   "metadata": {},
   "outputs": [
    {
     "name": "stdout",
     "output_type": "stream",
     "text": [
      "(100, 1)\n",
      "(1, 1) (1, 1)\n"
     ]
    },
    {
     "data": {
      "text/plain": [
       "(array([[0.]]), array([[0.]]))"
      ]
     },
     "execution_count": 114,
     "metadata": {},
     "output_type": "execute_result"
    }
   ],
   "source": [
    "# w1과 w0를 업데이트 할 w1_update, w0_update를 반환\n",
    "def get_weigth_updates(w1, w0, S, y, learning_rate=0.01):\n",
    "    N = len(y)\n",
    "    # 먼저 w1_update, w0_update 를 각각 w1, w0의 shape와 동일한 크기를 가진 0 값으로 초기화\n",
    "    w1_update = np.zeros_like(w1)\n",
    "    w0_update = np.zeros_like(w0)\n",
    "    \n",
    "    # 예측 배열 계산하고 예측과 실제 값의 차이 계산\n",
    "    y_pred = np.dot(X, w1.T) + w0\n",
    "    diff = y-y_pred\n",
    "    \n",
    "    # w0_update를 dot행렬 연산으로 구하기 위해 모두 1값을 가진 행렬 생성\n",
    "    w0_factors = np.ones((N,1))\n",
    "    \n",
    "    # w1과 w0을 업데이트 할 w1_update, w0_update를 계산\n",
    "    w1_update = -(2/N)*learning_rate*(np.dot(X.T, diff))\n",
    "    w0_update = -(2/N)*learning_rate*(np.dot(w0_factors.T, diff))\n",
    "    \n",
    "    return w1_update, w0_update\n",
    "\n",
    "w0 = np.zeros((1,1))\n",
    "w1 = np.zeros((1,1))\n",
    "y_pred = np.dot(X, w1.T) + w0\n",
    "diff = y-y_pred\n",
    "print(diff.shape)\n",
    "w0_factors = np.ones((100,1))\n",
    "w1_update = -(2/100)*0.01*(np.dot(X.T, diff))\n",
    "w0_update = -(2/100)*0.01*(np.dot(w0_factors.T, diff))\n",
    "print(w1_update.shape, w0_update.shape)\n",
    "w1, w0"
   ]
  },
  {
   "cell_type": "code",
   "execution_count": 115,
   "id": "0d1aba6c",
   "metadata": {},
   "outputs": [
    {
     "name": "stdout",
     "output_type": "stream",
     "text": [
      "w1:0.215 w0:0.199\n",
      "Grandient Descent Total Cost:97.2970\n"
     ]
    },
    {
     "data": {
      "text/plain": [
       "[<matplotlib.lines.Line2D at 0x246e012f100>]"
      ]
     },
     "execution_count": 115,
     "metadata": {},
     "output_type": "execute_result"
    },
    {
     "data": {
      "image/png": "[encoded data removed]",
      "text/plain": [
       "<Figure size 432x288 with 1 Axes>"
      ]
     },
     "metadata": {
      "needs_background": "light"
     },
     "output_type": "display_data"
    }
   ],
   "source": [
    "# 입력 인자 iters로 주어진 횟수만큼 반복적으로 w1과 w0을 업데이트 적용\n",
    "def gradient_descent_steps(X, y, iters=10000):\n",
    "    # w0과 w1을 모두 초기화\n",
    "    w0 = np.zeros((1,1))\n",
    "    w1 = np.zeros((1,1))\n",
    "    # 인자로 주어진 iters 만큼 반복적으로 get_weight_updates() 호출하여 w1, w0 업데이트 수행.\n",
    "    for ind in range(iters):\n",
    "        w1_update, w0_update = get_weigth_updates(w1, w0, X, y, learning_rate=0.01)\n",
    "        w1 = w1 - w1_update\n",
    "        w0 = w0 - w0_update\n",
    "        return w1, w0\n",
    "    \n",
    "def get_cost(y, y_pred):\n",
    "    N = len(y)\n",
    "    cost = np.sum(np.square(y - y_pred))/N\n",
    "    return cost\n",
    "w1, w0 = gradient_descent_steps(X, y, iters=1000)\n",
    "print(\"w1:{0:.3f} w0:{1:.3f}\".format(w1[0,0], w0[0,0]))\n",
    "y_pred = w1[0,0] * X + w0\n",
    "print('Grandient Descent Total Cost:{0:.4f}'.format(get_cost(y, y_pred)))\n",
    "\n",
    "plt.scatter(X,y)\n",
    "plt.plot(X, y_pred)"
   ]
  },
  {
   "cell_type": "code",
   "execution_count": null,
   "id": "7f8408fc",
   "metadata": {},
   "outputs": [],
   "source": []
  }
 ],
 "metadata": {
  "kernelspec": {
   "display_name": "Python 3",
   "language": "python",
   "name": "python3"
  },
  "language_info": {
   "codemirror_mode": {
    "name": "ipython",
    "version": 3
   },
   "file_extension": ".py",
   "mimetype": "text/x-python",
   "name": "python",
   "nbconvert_exporter": "python",
   "pygments_lexer": "ipython3",
   "version": "3.8.9"
  }
 },
 "nbformat": 4,
 "nbformat_minor": 5
}
