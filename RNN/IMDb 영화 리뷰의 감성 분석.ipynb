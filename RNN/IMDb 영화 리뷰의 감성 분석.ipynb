{
 "cells": [
  {
   "cell_type": "code",
   "execution_count": 12,
   "id": "9ebb670a",
   "metadata": {},
   "outputs": [],
   "source": [
    "import tensorflow as tf\n",
    "import tensorflow_datasets as tfds\n",
    "import numpy as np\n",
    "import pandas as pd\n",
    "df = pd.read_csv('movie_data.csv', encoding='utf-8')"
   ]
  },
  {
   "cell_type": "code",
   "execution_count": 13,
   "id": "98f166cd",
   "metadata": {},
   "outputs": [
    {
     "name": "stdout",
     "output_type": "stream",
     "text": [
      "b'In 1974, the teenager Martha Moxley (Maggie Grace)' 1\n",
      "b'OK... so... I really like Kris Kristofferson and h' 0\n",
      "b'***SPOILER*** Do not read this, if you think about' 0\n"
     ]
    }
   ],
   "source": [
    "# 1단계 : 데이터셋 만들기\n",
    "target = df.pop('sentiment') # 레이블 뽑아내고 df에서 삭제\n",
    "\n",
    "## tf로 데이터 불러오기(dataset만들기)\n",
    "ds_raw = tf.data.Dataset.from_tensor_slices( \n",
    "    (df.values, target.values))\n",
    "\n",
    "# 확인 - 3행 가져오기\n",
    "for ex in ds_raw.take(3): \n",
    "    tf.print(ex[0].numpy()[0][ :50], ex[1])\n",
    "    "
   ]
  },
  {
   "cell_type": "code",
   "execution_count": 16,
   "id": "19e0ecac",
   "metadata": {},
   "outputs": [],
   "source": [
    "# 전체 데이터셋은 5만개, 처음 2만 5천개는 평가, 다음 2만개는 훈련 다음 5천개는 검증\n",
    "tf.random.set_seed(1)\n",
    "ds_raw = ds_raw.shuffle(\n",
    "50000, reshuffle_each_iteration=False)\n",
    "ds_raw_test = ds_raw.take(25000)\n",
    "ds_raw_train_valid = ds_raw.skip(25000)\n",
    "ds_raw_train = ds_raw_train_valid.take(20000)\n",
    "ds_raw_valid = ds_raw_train_valid.skip(20000)"
   ]
  },
  {
   "cell_type": "code",
   "execution_count": 17,
   "id": "8e7aac94",
   "metadata": {},
   "outputs": [
    {
     "name": "stdout",
     "output_type": "stream",
     "text": [
      "어휘 사전 크기 : 87505\n"
     ]
    }
   ],
   "source": [
    "# 2단계 : 고유 토큰 (단어) 찾기\n",
    "from collections import Counter # 고유단어 빈도 수집\n",
    "tokenizer=tfds.deprecated.text.Tokenizer() # 텍스트를 단어(토큰)으로 나누기 위해 사용\n",
    "token_counts = Counter()\n",
    "for example in ds_raw_train:\n",
    "    tokens = tokenizer.tokenize(example[0].numpy()[0])\n",
    "    token_counts.update(tokens)\n",
    "print('어휘 사전 크기 :', len(token_counts))"
   ]
  },
  {
   "cell_type": "code",
   "execution_count": 24,
   "id": "7941f926",
   "metadata": {},
   "outputs": [
    {
     "name": "stdout",
     "output_type": "stream",
     "text": [
      "[176, 48, 247, 716]\n"
     ]
    }
   ],
   "source": [
    "# 3단계 : 고유 토큰을 정수로 인코딩하기\n",
    "encoder = tfds.deprecated.text.TokenTextEncoder(token_counts)\n",
    "example_str = 'This is an example!'\n",
    "print(encoder.encode(example_str))"
   ]
  },
  {
   "cell_type": "code",
   "execution_count": 27,
   "id": "9d75efda",
   "metadata": {},
   "outputs": [
    {
     "name": "stdout",
     "output_type": "stream",
     "text": [
      "시퀀스 길이 : (81,)\n",
      "시퀀스 길이 : (117,)\n",
      "시퀀스 길이 : (92,)\n",
      "시퀀스 길이 : (305,)\n",
      "시퀀스 길이 : (102,)\n"
     ]
    }
   ],
   "source": [
    "# 3-A 단계 : 변환을 위한 함수 정의\n",
    "def encode(text_tensor, label):\n",
    "    text = text_tensor.numpy()[0]\n",
    "    encoded_text = encoder.encode(text)\n",
    "    return encoded_text, label\n",
    "\n",
    "# 3-B 단계 : 함수를 TF연산으로 변환하기\n",
    "def encode_map_fn(text, label):\n",
    "    return tf.py_function(encode, inp=[text, label], Tout = (tf.int64, tf.int64))\n",
    "ds_train = ds_raw_train.map(encode_map_fn)\n",
    "ds_valid = ds_raw_valid.map(encode_map_fn)\n",
    "ds_test = ds_raw_test.map(encode_map_fn)\n",
    "\n",
    "# 샘플의 크기 확인하기\n",
    "tf.random.set_seed(1)\n",
    "for example in ds_train.shuffle(1000).take(5):\n",
    "    print('시퀀스 길이 :', example[0].shape)"
   ]
  },
  {
   "cell_type": "code",
   "execution_count": 33,
   "id": "1c7d668e",
   "metadata": {},
   "outputs": [],
   "source": [
    "# padded_batch : 하나의 배치에 포함되는 모든 원소를 0으로 패딩하여 모든 시퀀스가 동일한 길이가 되도록 만듦\n",
    "train_data = ds_train.padded_batch(32, padded_shapes=([-1],[]))\n",
    "valid_data = ds_valid.padded_batch(32, padded_shapes=([-1],[]))\n",
    "test_data = ds_test.padded_batch(32, padded_shapes=([-1],[]))"
   ]
  },
  {
   "cell_type": "code",
   "execution_count": 34,
   "id": "22443b92",
   "metadata": {},
   "outputs": [
    {
     "name": "stdout",
     "output_type": "stream",
     "text": [
      "Model: \"sequential_3\"\n",
      "_________________________________________________________________\n",
      "Layer (type)                 Output Shape              Param #   \n",
      "=================================================================\n",
      "embed-layer (Embedding)      (None, 20, 6)             600       \n",
      "=================================================================\n",
      "Total params: 600\n",
      "Trainable params: 600\n",
      "Non-trainable params: 0\n",
      "_________________________________________________________________\n"
     ]
    }
   ],
   "source": [
    "from tensorflow.keras.layers import Embedding # 벡터의 차원을 줄여줌\n",
    "model = tf.keras.Sequential()\n",
    "model.add(Embedding(input_dim = 100, output_dim=6, input_length=20, name='embed-layer'))\n",
    "model.summary()"
   ]
  },
  {
   "cell_type": "code",
   "execution_count": 35,
   "id": "4d246fc9",
   "metadata": {},
   "outputs": [
    {
     "name": "stdout",
     "output_type": "stream",
     "text": [
      "Model: \"sequential_4\"\n",
      "_________________________________________________________________\n",
      "Layer (type)                 Output Shape              Param #   \n",
      "=================================================================\n",
      "embedding_1 (Embedding)      (None, None, 32)          32000     \n",
      "_________________________________________________________________\n",
      "simple_rnn_2 (SimpleRNN)     (None, None, 32)          2080      \n",
      "_________________________________________________________________\n",
      "simple_rnn_3 (SimpleRNN)     (None, 32)                2080      \n",
      "_________________________________________________________________\n",
      "dense_3 (Dense)              (None, 1)                 33        \n",
      "=================================================================\n",
      "Total params: 36,193\n",
      "Trainable params: 36,193\n",
      "Non-trainable params: 0\n",
      "_________________________________________________________________\n"
     ]
    }
   ],
   "source": [
    "from tensorflow.keras import Sequential\n",
    "from tensorflow.keras.layers import Dense\n",
    "from tensorflow.keras.layers import Embedding\n",
    "from tensorflow.keras.layers import SimpleRNN\n",
    "\n",
    "model = Sequential()\n",
    "model.add(Embedding(input_dim=1000, output_dim=32))\n",
    "model.add(SimpleRNN(32, return_sequences=True))\n",
    "model.add(SimpleRNN(32))\n",
    "model.add(Dense(1))\n",
    "model.summary()"
   ]
  },
  {
   "cell_type": "code",
   "execution_count": 37,
   "id": "b4de3d8a",
   "metadata": {},
   "outputs": [
    {
     "name": "stdout",
     "output_type": "stream",
     "text": [
      "Model: \"sequential_6\"\n",
      "_________________________________________________________________\n",
      "Layer (type)                 Output Shape              Param #   \n",
      "=================================================================\n",
      "embed-layer (Embedding)      (None, None, 20)          1750140   \n",
      "_________________________________________________________________\n",
      "bidir-lstm (Bidirectional)   (None, 128)               43520     \n",
      "_________________________________________________________________\n",
      "dense_6 (Dense)              (None, 64)                8256      \n",
      "_________________________________________________________________\n",
      "dense_7 (Dense)              (None, 1)                 65        \n",
      "=================================================================\n",
      "Total params: 1,801,981\n",
      "Trainable params: 1,801,981\n",
      "Non-trainable params: 0\n",
      "_________________________________________________________________\n",
      "Epoch 1/10\n",
      "625/625 [==============================] - 235s 371ms/step - loss: 0.6394 - accuracy: 0.6024 - val_loss: 0.4155 - val_accuracy: 0.8178\n",
      "Epoch 2/10\n",
      "625/625 [==============================] - 245s 391ms/step - loss: 0.3156 - accuracy: 0.8693 - val_loss: 0.4200 - val_accuracy: 0.8380\n",
      "Epoch 3/10\n",
      "625/625 [==============================] - 209s 334ms/step - loss: 0.1724 - accuracy: 0.9405 - val_loss: 0.4120 - val_accuracy: 0.8534\n",
      "Epoch 4/10\n",
      "625/625 [==============================] - 269s 430ms/step - loss: 0.0996 - accuracy: 0.9665 - val_loss: 0.4453 - val_accuracy: 0.8618\n",
      "Epoch 5/10\n",
      "625/625 [==============================] - 287s 459ms/step - loss: 0.0670 - accuracy: 0.9786 - val_loss: 0.5354 - val_accuracy: 0.8626\n",
      "Epoch 6/10\n",
      "625/625 [==============================] - 204s 327ms/step - loss: 0.0468 - accuracy: 0.9849 - val_loss: 0.5755 - val_accuracy: 0.8556\n",
      "Epoch 7/10\n",
      "625/625 [==============================] - 343s 549ms/step - loss: 0.0454 - accuracy: 0.9858 - val_loss: 2.2196 - val_accuracy: 0.6984\n",
      "Epoch 8/10\n",
      "625/625 [==============================] - 342s 547ms/step - loss: 0.6637 - accuracy: 0.6927 - val_loss: 0.6235 - val_accuracy: 0.6712\n",
      "Epoch 9/10\n",
      "625/625 [==============================] - 306s 490ms/step - loss: 0.3965 - accuracy: 0.8311 - val_loss: 0.4581 - val_accuracy: 0.8364\n",
      "Epoch 10/10\n",
      "625/625 [==============================] - 312s 498ms/step - loss: 0.2025 - accuracy: 0.9251 - val_loss: 0.5398 - val_accuracy: 0.8416\n",
      "782/782 [==============================] - 122s 156ms/step - loss: 0.5078 - accuracy: 0.8508\n",
      "테스트 정확도 : 85.08%\n"
     ]
    }
   ],
   "source": [
    "embedding_dim = 20\n",
    "vocab_size = len(token_counts) + 2\n",
    "tf.random.set_seed(1)\n",
    "# 모델 만들기\n",
    "bi_lstm_model = tf.keras.Sequential([\n",
    "    tf.keras.layers.Embedding(input_dim = vocab_size, output_dim = embedding_dim, name='embed-layer'),\n",
    "    tf.keras.layers.Bidirectional(tf.keras.layers.LSTM(64, name='lstm-layer'), name='bidir-lstm'),\n",
    "    tf.keras.layers.Dense(64, activation='relu'),\n",
    "    tf.keras.layers.Dense(1, activation='sigmoid')\n",
    "])\n",
    "bi_lstm_model.summary()\n",
    "# 컴파일과 훈련\n",
    "bi_lstm_model.compile(\n",
    "optimizer = tf.keras.optimizers.Adam(1e-3),\n",
    "loss = tf.keras.losses.BinaryCrossentropy(from_logits=False),\n",
    "metrics=['accuracy'])\n",
    "\n",
    "history = bi_lstm_model.fit(\n",
    "train_data, validation_data = valid_data, epochs=10)\n",
    "# 테스트 데이터에서 평가\n",
    "test_results = bi_lstm_model.evaluate(test_data)\n",
    "print('테스트 정확도 : {:.2f}%'.format(test_results[1]*100))"
   ]
  },
  {
   "cell_type": "code",
   "execution_count": null,
   "id": "da661741",
   "metadata": {},
   "outputs": [],
   "source": []
  }
 ],
 "metadata": {
  "kernelspec": {
   "display_name": "Python 3",
   "language": "python",
   "name": "python3"
  },
  "language_info": {
   "codemirror_mode": {
    "name": "ipython",
    "version": 3
   },
   "file_extension": ".py",
   "mimetype": "text/x-python",
   "name": "python",
   "nbconvert_exporter": "python",
   "pygments_lexer": "ipython3",
   "version": "3.8.9"
  }
 },
 "nbformat": 4,
 "nbformat_minor": 5
}
