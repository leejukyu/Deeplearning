{
  "nbformat": 4,
  "nbformat_minor": 0,
  "metadata": {
    "colab": {
      "name": "RNN",
      "provenance": [],
      "collapsed_sections": [],
      "mount_file_id": "1sDLP1nra17g4tyhetTnPLRs8BX7zMGNb",
      "authorship_tag": "ABX9TyMVdc9uLrqIo7poqJBQx+Cq",
      "include_colab_link": true
    },
    "kernelspec": {
      "name": "python3",
      "display_name": "Python 3"
    },
    "language_info": {
      "name": "python"
    }
  },
  "cells": [
    {
      "cell_type": "markdown",
      "metadata": {
        "id": "view-in-github",
        "colab_type": "text"
      },
      "source": [
        "<a href=\"https://colab.research.google.com/github/leejukyu/Deeplearning/blob/main/RNN.ipynb\" target=\"_parent\"><img src=\"https://colab.research.google.com/assets/colab-badge.svg\" alt=\"Open In Colab\"/></a>"
      ]
    },
    {
      "cell_type": "markdown",
      "metadata": {
        "id": "AYKepiO5Fl3z"
      },
      "source": [
        "시퀀스 모델링"
      ]
    },
    {
      "cell_type": "code",
      "metadata": {
        "colab": {
          "base_uri": "https://localhost:8080/"
        },
        "id": "N3jZgKg4Bsk2",
        "outputId": "3e17948c-f5f9-434b-db63-eaa5facc4561"
      },
      "source": [
        "import tensorflow as tf\n",
        "\n",
        "tf.random.set_seed(1)\n",
        "rnn_layer = tf.keras.layers.SimpleRNN(\n",
        "    units=2, use_bias = True,\n",
        "    return_sequences = True)\n",
        "rnn_layer.build(input_shape=(None, None, 5))\n",
        "w_xh, w_oo, b_h = rnn_layer.weights\n",
        "print('W_xh 크기 :', w_xh.shape)\n",
        "print('w_oo 크기 :', w_oo.shape)\n",
        "print('b_h 크기 :', b_h.shape)"
      ],
      "execution_count": null,
      "outputs": [
        {
          "output_type": "stream",
          "text": [
            "W_xh 크기 : (5, 2)\n",
            "w_oo 크기 : (2, 2)\n",
            "b_h 크기 : (2,)\n"
          ],
          "name": "stdout"
        }
      ]
    },
    {
      "cell_type": "code",
      "metadata": {
        "colab": {
          "base_uri": "https://localhost:8080/"
        },
        "id": "vipgUPI2GUBZ",
        "outputId": "0e127b64-29ba-408e-d6f9-d57d7a2bb96d"
      },
      "source": [
        "x_seq = tf.convert_to_tensor(\n",
        "    [[1.0]*5, [2.0]*5, [3.0]*5], dtype = tf.float32\n",
        ")\n",
        "# simpleRnn 출력\n",
        "output = rnn_layer(tf.reshape(x_seq, shape=(1,3,5)))\n",
        "# 수동으로 출력 계산\n",
        "out_man = []\n",
        "for t in range(len(x_seq)):\n",
        "    xt = tf.reshape(x_seq[t], (1,5))\n",
        "    print('타임 스텝 {} =>'.format(t))\n",
        "    print('입력 :', xt.numpy())\n",
        "\n",
        "    ht = tf.matmul(xt, w_xh) + b_h\n",
        "    print('은닉 :', ht.numpy())\n",
        "\n",
        "    if t>0:\n",
        "        prev_o = out_man[t-1]\n",
        "    else:\n",
        "        prev_o = tf.zeros(shape=(ht.shape))\n",
        "    ot = ht + tf.matmul(prev_o, w_oo)\n",
        "    ot = tf.math.tanh(ot)\n",
        "    out_man.append(ot)\n",
        "    print('출력(수동) :', ot.numpy())\n",
        "    print('SimpleRNN 출력 :'.format(t), output[0][t].numpy())\n",
        "    print()"
      ],
      "execution_count": null,
      "outputs": [
        {
          "output_type": "stream",
          "text": [
            "타임 스텝 0 =>\n",
            "입력 : [[1. 1. 1. 1. 1.]]\n",
            "은닉 : [[0.41464037 0.96012145]]\n",
            "출력(수동) : [[0.39240566 0.74433106]]\n",
            "SimpleRNN 출력 : [0.39240566 0.74433106]\n",
            "\n",
            "타임 스텝 1 =>\n",
            "입력 : [[2. 2. 2. 2. 2.]]\n",
            "은닉 : [[0.82928073 1.9202429 ]]\n",
            "출력(수동) : [[0.80116504 0.99129474]]\n",
            "SimpleRNN 출력 : [0.80116504 0.99129474]\n",
            "\n",
            "타임 스텝 2 =>\n",
            "입력 : [[3. 3. 3. 3. 3.]]\n",
            "은닉 : [[1.243921  2.8803642]]\n",
            "출력(수동) : [[0.95468265 0.99930704]]\n",
            "SimpleRNN 출력 : [0.95468265 0.99930704]\n",
            "\n"
          ],
          "name": "stdout"
        }
      ]
    }
  ]
}